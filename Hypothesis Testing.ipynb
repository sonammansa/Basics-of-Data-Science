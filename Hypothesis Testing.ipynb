{
 "cells": [
  {
   "cell_type": "markdown",
   "metadata": {},
   "source": [
    "# LAB 5. Hypothesis testing. Green taxi case.\n",
    "\n",
    "## Homework due:  Oct 18, 12 noon"
   ]
  },
  {
   "cell_type": "markdown",
   "metadata": {},
   "source": [
    "Test varios hypothesis about ridership volume and trip characteristics for green taxi trips in 2019-2020. \n",
    "\n",
    "Does the ridership decline over time? Does it depend on the day of the week and time of the day? Does the distribution of the trip parameters (distance, time, speed) depend on the day of the week and borough?"
   ]
  },
  {
   "cell_type": "code",
   "execution_count": 1,
   "metadata": {},
   "outputs": [],
   "source": [
    "#import the modules\n",
    "import pandas as pd\n",
    "import geopandas as gpd\n",
    "import urllib.request\n",
    "import os\n",
    "import numpy as np\n",
    "from scipy import stats\n",
    "import matplotlib.pyplot as plt\n",
    "import warnings\n",
    "warnings.filterwarnings('ignore')"
   ]
  },
  {
   "cell_type": "code",
   "execution_count": 2,
   "metadata": {},
   "outputs": [
    {
     "data": {
      "text/html": [
       "<div>\n",
       "<style scoped>\n",
       "    .dataframe tbody tr th:only-of-type {\n",
       "        vertical-align: middle;\n",
       "    }\n",
       "\n",
       "    .dataframe tbody tr th {\n",
       "        vertical-align: top;\n",
       "    }\n",
       "\n",
       "    .dataframe thead th {\n",
       "        text-align: right;\n",
       "    }\n",
       "</style>\n",
       "<table border=\"1\" class=\"dataframe\">\n",
       "  <thead>\n",
       "    <tr style=\"text-align: right;\">\n",
       "      <th></th>\n",
       "      <th>lpep_pickup_datetime</th>\n",
       "      <th>lpep_dropoff_datetime</th>\n",
       "      <th>PULocationID</th>\n",
       "      <th>DOLocationID</th>\n",
       "      <th>trip_distance</th>\n",
       "      <th>fare_amount</th>\n",
       "      <th>total_amount</th>\n",
       "    </tr>\n",
       "  </thead>\n",
       "  <tbody>\n",
       "    <tr>\n",
       "      <th>0</th>\n",
       "      <td>2019-08-01 00:22:12</td>\n",
       "      <td>2019-08-01 00:22:38</td>\n",
       "      <td>145</td>\n",
       "      <td>145.0</td>\n",
       "      <td>0.00</td>\n",
       "      <td>2.5</td>\n",
       "      <td>3.30</td>\n",
       "    </tr>\n",
       "    <tr>\n",
       "      <th>1</th>\n",
       "      <td>2019-08-01 00:11:35</td>\n",
       "      <td>2019-08-01 00:25:53</td>\n",
       "      <td>66</td>\n",
       "      <td>49.0</td>\n",
       "      <td>2.55</td>\n",
       "      <td>11.5</td>\n",
       "      <td>15.36</td>\n",
       "    </tr>\n",
       "    <tr>\n",
       "      <th>2</th>\n",
       "      <td>2019-08-01 00:56:09</td>\n",
       "      <td>2019-08-01 01:12:02</td>\n",
       "      <td>65</td>\n",
       "      <td>68.0</td>\n",
       "      <td>4.33</td>\n",
       "      <td>15.5</td>\n",
       "      <td>21.55</td>\n",
       "    </tr>\n",
       "    <tr>\n",
       "      <th>3</th>\n",
       "      <td>2019-07-31 23:59:42</td>\n",
       "      <td>2019-08-01 00:11:44</td>\n",
       "      <td>25</td>\n",
       "      <td>133.0</td>\n",
       "      <td>3.85</td>\n",
       "      <td>13.0</td>\n",
       "      <td>16.30</td>\n",
       "    </tr>\n",
       "    <tr>\n",
       "      <th>4</th>\n",
       "      <td>2019-08-01 00:20:34</td>\n",
       "      <td>2019-08-01 00:28:44</td>\n",
       "      <td>75</td>\n",
       "      <td>263.0</td>\n",
       "      <td>1.30</td>\n",
       "      <td>7.5</td>\n",
       "      <td>12.55</td>\n",
       "    </tr>\n",
       "  </tbody>\n",
       "</table>\n",
       "</div>"
      ],
      "text/plain": [
       "  lpep_pickup_datetime lpep_dropoff_datetime  PULocationID  DOLocationID  \\\n",
       "0  2019-08-01 00:22:12   2019-08-01 00:22:38           145         145.0   \n",
       "1  2019-08-01 00:11:35   2019-08-01 00:25:53            66          49.0   \n",
       "2  2019-08-01 00:56:09   2019-08-01 01:12:02            65          68.0   \n",
       "3  2019-07-31 23:59:42   2019-08-01 00:11:44            25         133.0   \n",
       "4  2019-08-01 00:20:34   2019-08-01 00:28:44            75         263.0   \n",
       "\n",
       "   trip_distance  fare_amount  total_amount  \n",
       "0           0.00          2.5          3.30  \n",
       "1           2.55         11.5         15.36  \n",
       "2           4.33         15.5         21.55  \n",
       "3           3.85         13.0         16.30  \n",
       "4           1.30          7.5         12.55  "
      ]
     },
     "execution_count": 2,
     "metadata": {},
     "output_type": "execute_result"
    }
   ],
   "source": [
    "dfTaxi = pd.read_csv('/home/jovyan/shared/Data/greenTaxi1920.csv')\n",
    "dfTaxi.head()"
   ]
  },
  {
   "cell_type": "code",
   "execution_count": 3,
   "metadata": {},
   "outputs": [],
   "source": [
    "#take care of the timestamp types\n",
    "dfTaxi['lpep_pickup_datetime'] = pd.to_datetime(dfTaxi['lpep_pickup_datetime'])\n",
    "dfTaxi['lpep_dropoff_datetime'] = pd.to_datetime(dfTaxi['lpep_dropoff_datetime'])"
   ]
  },
  {
   "cell_type": "code",
   "execution_count": 4,
   "metadata": {},
   "outputs": [],
   "source": [
    "#extract date, year, day of the week and hour (takes some time around half a minute)\n",
    "dfTaxi['Date'] = dfTaxi['lpep_pickup_datetime'].dt.date\n",
    "dfTaxi['Month'] = dfTaxi['lpep_pickup_datetime'].dt.month\n",
    "dfTaxi['Year'] = dfTaxi['lpep_pickup_datetime'].dt.year\n",
    "dfTaxi['DOW'] = dfTaxi['lpep_pickup_datetime'].dt.dayofweek\n",
    "dfTaxi['Hour'] = dfTaxi['lpep_pickup_datetime'].dt.hour\n",
    "dfTaxi = dfTaxi.loc[dfTaxi['Year'].isin([2019, 2020])]"
   ]
  },
  {
   "cell_type": "code",
   "execution_count": 5,
   "metadata": {},
   "outputs": [],
   "source": [
    "#calculate trip duration in minutes\n",
    "dfTaxi['trip_duration'] = (dfTaxi['lpep_dropoff_datetime'] - dfTaxi['lpep_pickup_datetime'])\n",
    "dfTaxi['trip_duration'] = dfTaxi['trip_duration'].dt.total_seconds() / 60"
   ]
  },
  {
   "cell_type": "code",
   "execution_count": 6,
   "metadata": {},
   "outputs": [],
   "source": [
    "dfTaxi['speed'] = dfTaxi['trip_distance'] / (dfTaxi['trip_duration'] / 60) #avg trip speed in miles per hoiur"
   ]
  },
  {
   "cell_type": "code",
   "execution_count": 7,
   "metadata": {},
   "outputs": [
    {
     "data": {
      "text/plain": [
       "6667936"
      ]
     },
     "execution_count": 7,
     "metadata": {},
     "output_type": "execute_result"
    }
   ],
   "source": [
    "len(dfTaxi) #original number of records"
   ]
  },
  {
   "cell_type": "code",
   "execution_count": 8,
   "metadata": {},
   "outputs": [
    {
     "data": {
      "text/plain": [
       "6387664"
      ]
     },
     "execution_count": 8,
     "metadata": {},
     "output_type": "execute_result"
    }
   ],
   "source": [
    "#sanity filtering\n",
    "dfTaxi = dfTaxi[(dfTaxi.trip_distance < 100)& (dfTaxi.speed <= 80) & (dfTaxi.speed >= 1) & (dfTaxi.trip_duration <= 100) & (dfTaxi.trip_duration >= 1)]\n",
    "len(dfTaxi) #remaining records"
   ]
  },
  {
   "cell_type": "code",
   "execution_count": 9,
   "metadata": {},
   "outputs": [],
   "source": [
    "#daily total trip counts and cumulative duration and distance traveled\n",
    "dfTaxiDaily = dfTaxi.groupby(['Year','Month','DOW','Date']).\\\n",
    "            agg({'lpep_pickup_datetime':'count','trip_duration':'sum','trip_distance':'sum'}).\\\n",
    "            rename(columns={'lpep_pickup_datetime':'trip_count'}).reset_index()\n",
    "dfTaxiDaily = dfTaxiDaily.sort_values(by='Date')"
   ]
  },
  {
   "cell_type": "code",
   "execution_count": 10,
   "metadata": {},
   "outputs": [],
   "source": [
    "dfTaxiDaily['speed'] = dfTaxiDaily['trip_distance'] / dfTaxiDaily['trip_duration'] * 60"
   ]
  },
  {
   "cell_type": "code",
   "execution_count": 11,
   "metadata": {},
   "outputs": [
    {
     "data": {
      "text/html": [
       "<div>\n",
       "<style scoped>\n",
       "    .dataframe tbody tr th:only-of-type {\n",
       "        vertical-align: middle;\n",
       "    }\n",
       "\n",
       "    .dataframe tbody tr th {\n",
       "        vertical-align: top;\n",
       "    }\n",
       "\n",
       "    .dataframe thead th {\n",
       "        text-align: right;\n",
       "    }\n",
       "</style>\n",
       "<table border=\"1\" class=\"dataframe\">\n",
       "  <thead>\n",
       "    <tr style=\"text-align: right;\">\n",
       "      <th></th>\n",
       "      <th>Year</th>\n",
       "      <th>Month</th>\n",
       "      <th>DOW</th>\n",
       "      <th>Date</th>\n",
       "      <th>trip_count</th>\n",
       "      <th>trip_duration</th>\n",
       "      <th>trip_distance</th>\n",
       "      <th>speed</th>\n",
       "    </tr>\n",
       "  </thead>\n",
       "  <tbody>\n",
       "    <tr>\n",
       "      <th>4</th>\n",
       "      <td>2019</td>\n",
       "      <td>1</td>\n",
       "      <td>1</td>\n",
       "      <td>2019-01-01</td>\n",
       "      <td>14367</td>\n",
       "      <td>192406.050000</td>\n",
       "      <td>53838.05</td>\n",
       "      <td>16.788885</td>\n",
       "    </tr>\n",
       "    <tr>\n",
       "      <th>9</th>\n",
       "      <td>2019</td>\n",
       "      <td>1</td>\n",
       "      <td>2</td>\n",
       "      <td>2019-01-02</td>\n",
       "      <td>18005</td>\n",
       "      <td>271232.433333</td>\n",
       "      <td>65944.76</td>\n",
       "      <td>14.587804</td>\n",
       "    </tr>\n",
       "    <tr>\n",
       "      <th>14</th>\n",
       "      <td>2019</td>\n",
       "      <td>1</td>\n",
       "      <td>3</td>\n",
       "      <td>2019-01-03</td>\n",
       "      <td>19858</td>\n",
       "      <td>309655.900000</td>\n",
       "      <td>72154.53</td>\n",
       "      <td>13.980912</td>\n",
       "    </tr>\n",
       "    <tr>\n",
       "      <th>19</th>\n",
       "      <td>2019</td>\n",
       "      <td>1</td>\n",
       "      <td>4</td>\n",
       "      <td>2019-01-04</td>\n",
       "      <td>21001</td>\n",
       "      <td>319105.950000</td>\n",
       "      <td>74338.68</td>\n",
       "      <td>13.977554</td>\n",
       "    </tr>\n",
       "    <tr>\n",
       "      <th>23</th>\n",
       "      <td>2019</td>\n",
       "      <td>1</td>\n",
       "      <td>5</td>\n",
       "      <td>2019-01-05</td>\n",
       "      <td>19386</td>\n",
       "      <td>258513.416667</td>\n",
       "      <td>63392.53</td>\n",
       "      <td>14.713170</td>\n",
       "    </tr>\n",
       "  </tbody>\n",
       "</table>\n",
       "</div>"
      ],
      "text/plain": [
       "    Year  Month  DOW        Date  trip_count  trip_duration  trip_distance  \\\n",
       "4   2019      1    1  2019-01-01       14367  192406.050000       53838.05   \n",
       "9   2019      1    2  2019-01-02       18005  271232.433333       65944.76   \n",
       "14  2019      1    3  2019-01-03       19858  309655.900000       72154.53   \n",
       "19  2019      1    4  2019-01-04       21001  319105.950000       74338.68   \n",
       "23  2019      1    5  2019-01-05       19386  258513.416667       63392.53   \n",
       "\n",
       "        speed  \n",
       "4   16.788885  \n",
       "9   14.587804  \n",
       "14  13.980912  \n",
       "19  13.977554  \n",
       "23  14.713170  "
      ]
     },
     "execution_count": 11,
     "metadata": {},
     "output_type": "execute_result"
    }
   ],
   "source": [
    "dfTaxiDaily.head()"
   ]
  },
  {
   "cell_type": "code",
   "execution_count": 12,
   "metadata": {},
   "outputs": [
    {
     "data": {
      "image/png": "[encoded data removed]",
      "text/plain": [
       "<Figure size 432x288 with 1 Axes>"
      ]
     },
     "metadata": {
      "needs_background": "light"
     },
     "output_type": "display_data"
    }
   ],
   "source": [
    "#ridership timeline - daily trip counts; seem to decline and particularly during the pandemics lockdown\n",
    "plt.plot(dfTaxiDaily['Date'], dfTaxiDaily['trip_count'])\n",
    "plt.xticks(rotation=70);\n",
    "plt.show()"
   ]
  },
  {
   "cell_type": "code",
   "execution_count": 13,
   "metadata": {},
   "outputs": [
    {
     "data": {
      "text/plain": [
       "<matplotlib.legend.Legend at 0x7f2c86dba130>"
      ]
     },
     "execution_count": 13,
     "metadata": {},
     "output_type": "execute_result"
    },
    {
     "data": {
      "image/png": "[encoded data removed]",
      "text/plain": [
       "<Figure size 432x288 with 1 Axes>"
      ]
     },
     "metadata": {
      "needs_background": "light"
     },
     "output_type": "display_data"
    }
   ],
   "source": [
    "#histograms of daily counts in 2019 and 2020 - distributions look different\n",
    "plt.hist(dfTaxiDaily.loc[dfTaxiDaily['Year']==2019]['trip_count'].values,bins=30,label='2019')\n",
    "plt.hist(dfTaxiDaily.loc[dfTaxiDaily['Year']==2020]['trip_count'].values,bins=30,alpha=0.9,label='2020')\n",
    "#plt.hist(dfTaxiDaily.loc[dfTaxiDaily['Year']==2020]['trip_count'].values,bins=30,alpha=0.5,label='2020')\n",
    "plt.legend()"
   ]
  },
  {
   "cell_type": "markdown",
   "metadata": {},
   "source": [
    "2020 daily ride numbers are vastly different from 2019 numbers, due to the pandemic"
   ]
  },
  {
   "cell_type": "code",
   "execution_count": 14,
   "metadata": {},
   "outputs": [
    {
     "data": {
      "text/plain": [
       "Ttest_indResult(statistic=22.879917560620992, pvalue=2.222080562897862e-80)"
      ]
     },
     "execution_count": 14,
     "metadata": {},
     "output_type": "execute_result"
    }
   ],
   "source": [
    "## t-test between the 2019 and 2020 distributions\n",
    "stats.ttest_ind(dfTaxiDaily.loc[dfTaxiDaily['Year']==2019]['trip_count'],dfTaxiDaily.loc[dfTaxiDaily['Year']==2020]['trip_count'])"
   ]
  },
  {
   "cell_type": "code",
   "execution_count": 15,
   "metadata": {},
   "outputs": [
    {
     "data": {
      "text/plain": [
       "KstestResult(statistic=0.662140364737639, pvalue=8.881784197001252e-16)"
      ]
     },
     "execution_count": 15,
     "metadata": {},
     "output_type": "execute_result"
    }
   ],
   "source": [
    "## K-S test\n",
    "stats.ks_2samp(dfTaxiDaily.loc[dfTaxiDaily['Year']==2019]['trip_count'],dfTaxiDaily.loc[dfTaxiDaily['Year']==2020]['trip_count'])"
   ]
  },
  {
   "cell_type": "markdown",
   "metadata": {},
   "source": [
    "So the hypothesis that 2019 and 2020 daily trip counts follow the same distributions can be rejected beyond any reasonable doubt"
   ]
  },
  {
   "cell_type": "code",
   "execution_count": 16,
   "metadata": {},
   "outputs": [
    {
     "data": {
      "text/plain": [
       "(5223051, 5223051)"
      ]
     },
     "execution_count": 16,
     "metadata": {},
     "output_type": "execute_result"
    }
   ],
   "source": [
    "#For further analysis select the year 2019\n",
    "dfTaxiDaily2019 = dfTaxiDaily.loc[dfTaxiDaily['Year']==2019] #daily aggregates\n",
    "dfTaxi2019 = dfTaxi.loc[dfTaxi['Year']==2019] #individual trips\n",
    "(dfTaxiDaily2019['trip_count'].sum(),len(dfTaxi2019)) #total trip counts in either dataset"
   ]
  },
  {
   "cell_type": "markdown",
   "metadata": {},
   "source": [
    "## Example 1. Test if weekend ridership is different from weekday"
   ]
  },
  {
   "cell_type": "code",
   "execution_count": 17,
   "metadata": {},
   "outputs": [
    {
     "data": {
      "text/plain": [
       "Ttest_indResult(statistic=-2.972846311995963, pvalue=0.003205266065000704)"
      ]
     },
     "execution_count": 17,
     "metadata": {},
     "output_type": "execute_result"
    }
   ],
   "source": [
    "# Monday is 0, Sunday is 6; weekends: DOW>4, weekdays: DOW<4\n",
    "# t-test\n",
    "stats.ttest_ind(dfTaxiDaily2019.loc[dfTaxiDaily2019['DOW']>4]['trip_count'],\n",
    "                dfTaxiDaily2019.loc[dfTaxiDaily2019['DOW']<4]['trip_count'])"
   ]
  },
  {
   "cell_type": "code",
   "execution_count": 18,
   "metadata": {},
   "outputs": [
    {
     "data": {
      "text/plain": [
       "KstestResult(statistic=0.24711879432624115, pvalue=0.0006547345365657264)"
      ]
     },
     "execution_count": 18,
     "metadata": {},
     "output_type": "execute_result"
    }
   ],
   "source": [
    "# Monday is 0, Sunday is 6; weekends: DOW>4, weekdays: DOW<4\n",
    "# KS-test\n",
    "stats.ks_2samp(dfTaxiDaily2019.loc[dfTaxiDaily2019['DOW']>4]['trip_count'],\n",
    "                dfTaxiDaily2019.loc[dfTaxiDaily2019['DOW']<4]['trip_count'])"
   ]
  },
  {
   "cell_type": "markdown",
   "metadata": {},
   "source": [
    "Reject the hypothesis that weekends and weekdays follow the same ridership distribution at 95\\% significance level"
   ]
  },
  {
   "cell_type": "markdown",
   "metadata": {},
   "source": [
    "## Example 2. Test if trip speed, duration or distance follow log-normal distributions"
   ]
  },
  {
   "cell_type": "code",
   "execution_count": 19,
   "metadata": {},
   "outputs": [
    {
     "data": {
      "text/plain": [
       "<AxesSubplot:>"
      ]
     },
     "execution_count": 19,
     "metadata": {},
     "output_type": "execute_result"
    },
    {
     "data": {
      "image/png": "[encoded data removed]",
      "text/plain": [
       "<Figure size 432x288 with 1 Axes>"
      ]
     },
     "metadata": {
      "needs_background": "light"
     },
     "output_type": "display_data"
    }
   ],
   "source": [
    "#analyze the overall speed distribution (plot on log-scale)\n",
    "np.log(dfTaxi2019['speed']).hist(bins=100)"
   ]
  },
  {
   "cell_type": "code",
   "execution_count": 20,
   "metadata": {},
   "outputs": [
    {
     "data": {
      "text/plain": [
       "<AxesSubplot:>"
      ]
     },
     "execution_count": 20,
     "metadata": {},
     "output_type": "execute_result"
    },
    {
     "data": {
      "image/png": "[encoded data removed]",
      "text/plain": [
       "<Figure size 432x288 with 1 Axes>"
      ]
     },
     "metadata": {
      "needs_background": "light"
     },
     "output_type": "display_data"
    }
   ],
   "source": [
    "#analyze the overall duration distribution (plot on log-scale)\n",
    "np.log(dfTaxi2019['trip_duration']).hist(bins=100)"
   ]
  },
  {
   "cell_type": "code",
   "execution_count": 21,
   "metadata": {},
   "outputs": [
    {
     "data": {
      "text/plain": [
       "<AxesSubplot:>"
      ]
     },
     "execution_count": 21,
     "metadata": {},
     "output_type": "execute_result"
    },
    {
     "data": {
      "image/png": "[encoded data removed]",
      "text/plain": [
       "<Figure size 432x288 with 1 Axes>"
      ]
     },
     "metadata": {
      "needs_background": "light"
     },
     "output_type": "display_data"
    }
   ],
   "source": [
    "#analyze the overall duration distribution (plot on log-scale)\n",
    "np.log(dfTaxi2019['trip_distance']).hist(bins=100)"
   ]
  },
  {
   "cell_type": "code",
   "execution_count": 22,
   "metadata": {},
   "outputs": [],
   "source": [
    "def is_normal(x): #check is the distribution is normal using one-sample KS test and sample mean-std\n",
    "    return stats.kstest(x,'norm',args=(x.mean(),x.std()))"
   ]
  },
  {
   "cell_type": "code",
   "execution_count": 23,
   "metadata": {},
   "outputs": [
    {
     "data": {
      "text/plain": [
       "KstestResult(statistic=0.04036265721868104, pvalue=0.0)"
      ]
     },
     "execution_count": 23,
     "metadata": {},
     "output_type": "execute_result"
    }
   ],
   "source": [
    "# is log-speed normally distributed?\n",
    "is_normal(np.log(dfTaxi2019['speed']))"
   ]
  },
  {
   "cell_type": "code",
   "execution_count": 24,
   "metadata": {},
   "outputs": [
    {
     "data": {
      "text/plain": [
       "KstestResult(statistic=0.006262974104248364, pvalue=2.230867364609065e-178)"
      ]
     },
     "execution_count": 24,
     "metadata": {},
     "output_type": "execute_result"
    }
   ],
   "source": [
    "# is log-duration normally distributed?\n",
    "is_normal(np.log(dfTaxi2019['trip_duration']))"
   ]
  },
  {
   "cell_type": "code",
   "execution_count": 25,
   "metadata": {},
   "outputs": [
    {
     "data": {
      "text/plain": [
       "KstestResult(statistic=0.03719595518658181, pvalue=0.0)"
      ]
     },
     "execution_count": 25,
     "metadata": {},
     "output_type": "execute_result"
    }
   ],
   "source": [
    "# is log-distance normally distributed?\n",
    "is_normal(np.log(dfTaxi2019['trip_distance']))"
   ]
  },
  {
   "cell_type": "code",
   "execution_count": 26,
   "metadata": {},
   "outputs": [],
   "source": [
    "#so none of those quantities have log-normal distribution (rejecting with 99.9999...% confidence)"
   ]
  },
  {
   "cell_type": "code",
   "execution_count": 27,
   "metadata": {},
   "outputs": [],
   "source": [
    "#what about daily average trip_count, duration, distance, speed?"
   ]
  },
  {
   "cell_type": "code",
   "execution_count": 28,
   "metadata": {},
   "outputs": [
    {
     "data": {
      "text/plain": [
       "KstestResult(statistic=0.10222090032691844, pvalue=0.0017910702475394608)"
      ]
     },
     "execution_count": 28,
     "metadata": {},
     "output_type": "execute_result"
    }
   ],
   "source": [
    "is_normal(dfTaxiDaily2019['trip_count']) #does not look normal"
   ]
  },
  {
   "cell_type": "code",
   "execution_count": 29,
   "metadata": {},
   "outputs": [
    {
     "data": {
      "text/plain": [
       "<matplotlib.legend.Legend at 0x7f2c86967ca0>"
      ]
     },
     "execution_count": 29,
     "metadata": {},
     "output_type": "execute_result"
    },
    {
     "data": {
      "image/png": "[encoded data removed]",
      "text/plain": [
       "<Figure size 432x288 with 1 Axes>"
      ]
     },
     "metadata": {
      "needs_background": "light"
     },
     "output_type": "display_data"
    }
   ],
   "source": [
    "#visualize empiric CDF's for trip-counts\n",
    "plt.hist(dfTaxiDaily2019['trip_count'].values, 50, density=True, \n",
    "         histtype='step',cumulative=True,label='trip count')\n",
    "plt.hist(np.random.normal(dfTaxiDaily2019['trip_count'].mean(), dfTaxiDaily2019['trip_count'].std(),\n",
    "                          len(dfTaxiDaily2019)), 50, density=True, \n",
    "         histtype='step',cumulative=True,label='same mean and std in gaussian distribution')\n",
    "plt.legend(loc='upper left')"
   ]
  },
  {
   "cell_type": "code",
   "execution_count": 30,
   "metadata": {},
   "outputs": [
    {
     "data": {
      "text/plain": [
       "KstestResult(statistic=0.39763352335934615, pvalue=7.316977574996973e-48)"
      ]
     },
     "execution_count": 30,
     "metadata": {},
     "output_type": "execute_result"
    }
   ],
   "source": [
    "is_normal(np.log(dfTaxiDaily2019['trip_count'])) #but might be log-normal"
   ]
  },
  {
   "cell_type": "code",
   "execution_count": 31,
   "metadata": {},
   "outputs": [
    {
     "data": {
      "text/plain": [
       "<matplotlib.legend.Legend at 0x7f2c86bbd2b0>"
      ]
     },
     "execution_count": 31,
     "metadata": {},
     "output_type": "execute_result"
    },
    {
     "data": {
      "image/png": "[encoded data removed]",
      "text/plain": [
       "<Figure size 432x288 with 1 Axes>"
      ]
     },
     "metadata": {
      "needs_background": "light"
     },
     "output_type": "display_data"
    }
   ],
   "source": [
    "#visualize empiric CDF's for log trip-counts\n",
    "plt.hist(np.log(dfTaxiDaily2019['trip_count'].values), 50, density=True, \n",
    "         histtype='step',cumulative=True,label='log trip count')\n",
    "plt.hist(np.random.normal(np.log(dfTaxiDaily2019['trip_count']).mean(), np.log(dfTaxiDaily2019['trip_count']).std(),\n",
    "                          len(dfTaxiDaily2019)), 50, density=True, \n",
    "         histtype='step',cumulative=True,label='same mean and std in gaussian distribution')\n",
    "plt.legend(loc='upper left')"
   ]
  },
  {
   "cell_type": "code",
   "execution_count": 32,
   "metadata": {},
   "outputs": [
    {
     "data": {
      "text/plain": [
       "KstestResult(statistic=0.05949038815352092, pvalue=0.18313344866656922)"
      ]
     },
     "execution_count": 32,
     "metadata": {},
     "output_type": "execute_result"
    }
   ],
   "source": [
    "is_normal(dfTaxiDaily2019['trip_duration']) #could be normal"
   ]
  },
  {
   "cell_type": "code",
   "execution_count": 33,
   "metadata": {},
   "outputs": [
    {
     "data": {
      "text/plain": [
       "<AxesSubplot:>"
      ]
     },
     "execution_count": 33,
     "metadata": {},
     "output_type": "execute_result"
    },
    {
     "data": {
      "image/png": "[encoded data removed]",
      "text/plain": [
       "<Figure size 432x288 with 1 Axes>"
      ]
     },
     "metadata": {
      "needs_background": "light"
     },
     "output_type": "display_data"
    }
   ],
   "source": [
    "dfTaxiDaily2019['trip_duration'].hist(bins=8)"
   ]
  },
  {
   "cell_type": "code",
   "execution_count": 34,
   "metadata": {},
   "outputs": [
    {
     "data": {
      "text/plain": [
       "<matplotlib.legend.Legend at 0x7f2c8688b940>"
      ]
     },
     "execution_count": 34,
     "metadata": {},
     "output_type": "execute_result"
    },
    {
     "data": {
      "image/png": "[encoded data removed]",
      "text/plain": [
       "<Figure size 432x288 with 1 Axes>"
      ]
     },
     "metadata": {
      "needs_background": "light"
     },
     "output_type": "display_data"
    }
   ],
   "source": [
    "_ = plt.hist(dfTaxiDaily2019['trip_duration'].values, 50, density=True, \n",
    "         histtype='step',cumulative=True,label='trip duration')\n",
    "_ = plt.hist(np.random.normal(dfTaxiDaily2019['trip_duration'].mean(), \n",
    "                              dfTaxiDaily2019['trip_duration'].std(),\n",
    "                          len(dfTaxiDaily2019)), 50, density=True, \n",
    "         histtype='step',cumulative=True,label='same mean and std \\nin gaussian distribution')\n",
    "plt.legend(loc='upper left')"
   ]
  },
  {
   "cell_type": "code",
   "execution_count": 35,
   "metadata": {},
   "outputs": [
    {
     "data": {
      "text/plain": [
       "KstestResult(statistic=0.10000823433973582, pvalue=0.0024171269598154545)"
      ]
     },
     "execution_count": 35,
     "metadata": {},
     "output_type": "execute_result"
    }
   ],
   "source": [
    "is_normal(dfTaxiDaily2019['trip_distance']) #does not look normal"
   ]
  },
  {
   "cell_type": "code",
   "execution_count": 36,
   "metadata": {},
   "outputs": [
    {
     "data": {
      "text/plain": [
       "KstestResult(statistic=0.4018549402287594, pvalue=6.470437360887711e-49)"
      ]
     },
     "execution_count": 36,
     "metadata": {},
     "output_type": "execute_result"
    }
   ],
   "source": [
    "is_normal(np.log(dfTaxiDaily2019['trip_distance'])) #but might be log-normal"
   ]
  },
  {
   "cell_type": "code",
   "execution_count": 37,
   "metadata": {},
   "outputs": [
    {
     "data": {
      "text/plain": [
       "KstestResult(statistic=0.051326846636975176, pvalue=0.3345668864594482)"
      ]
     },
     "execution_count": 37,
     "metadata": {},
     "output_type": "execute_result"
    }
   ],
   "source": [
    "is_normal(dfTaxiDaily2019['speed']) #might be normal"
   ]
  },
  {
   "cell_type": "code",
   "execution_count": 38,
   "metadata": {},
   "outputs": [
    {
     "data": {
      "text/plain": [
       "KstestResult(statistic=0.055849494322260204, pvalue=0.24242825588781025)"
      ]
     },
     "execution_count": 38,
     "metadata": {},
     "output_type": "execute_result"
    }
   ],
   "source": [
    "is_normal(np.log(dfTaxiDaily2019['speed'])) #log-normal even more likely"
   ]
  },
  {
   "cell_type": "markdown",
   "metadata": {},
   "source": [
    "## Research questions to further explore\n",
    "- Which weekdays are similar/different in terms of avg.travel speed distributions?\n",
    "- Are evening/morning/afternoon trip speed, duration and distance distributions signifiantly different?\n",
    "- Are trip speed, duration and distance distributions different in Brooklyn vs Queens or Bronx? \n",
    "- No doubt that 2020 saw a large drop in ridership but how can we assess it? As we don't have the full year, the drop just started in March and there is also a general decline, consider the 2020/2019 ratios (to account for the general trend and seasonality and see how much more steep is the drop during the pandemics). Compare the pandemics numbers (After March 2020 with the same period pre-march 2020). Also compare the post-pandemics and pre-pandemics travel distance, speed and duration distributions"
   ]
  },
  {
   "cell_type": "markdown",
   "metadata": {},
   "source": [
    "## Homework assignment"
   ]
  },
  {
   "cell_type": "markdown",
   "metadata": {},
   "source": [
    "## Task 1. Travel speed - hours of the day (2 pts)\n",
    "Traffic and travel speed might vary throughout the day. Select the trips happening on Oct, 1, 2019. a) Compute average travel speed per each hour of the day and visuale as a bar plot. Compare the speed distributions for: b) trip samples within an hour of 9am (Hour=9) and an hour of 10am, c) morning rush hour (two hours of 8 and 9am) and evening rush hour (two hours of 5pm(17) and 6pm(18)). Can you reject the hypothesis that the compared speed samples have the same mean(use t-test) and distribution (use ks-test) at a 95\\% significance level?"
   ]
  },
  {
   "cell_type": "code",
   "execution_count": 11,
   "metadata": {},
   "outputs": [
    {
     "data": {
      "image/png": "[encoded data removed]",
      "text/plain": [
       "<Figure size 1152x360 with 1 Axes>"
      ]
     },
     "metadata": {
      "needs_background": "light"
     },
     "output_type": "display_data"
    }
   ],
   "source": [
    "# YOUR CODE HERE\n",
    "from datetime import datetime\n",
    "dfTaxi.Date = pd.to_datetime(dfTaxi.Date)\n",
    "dfTaxihourly = dfTaxi[dfTaxi.Date== datetime(2019,10,1)]\n",
    "dfTaxihourly_viz = dfTaxihourly[['speed','Hour']].groupby(by=['Hour']).mean().reset_index()\n",
    "fig = plt.figure(figsize = (16, 5))\n",
    "# creating the bar plot\n",
    "plt.bar(dfTaxihourly_viz.Hour, dfTaxihourly_viz.speed, color ='maroon')\n",
    "plt.xlabel(\"Hours of the day\")\n",
    "plt.xticks(range(0,24)) \n",
    "plt.ylabel(\"Average Speed\")\n",
    "plt.title(\"Average Travel Speed per Hour (Oct 1,2019)\")\n",
    "plt.show()"
   ]
  },
  {
   "cell_type": "code",
   "execution_count": 12,
   "metadata": {},
   "outputs": [
    {
     "data": {
      "text/plain": [
       "<matplotlib.legend.Legend at 0x7f39f7c10070>"
      ]
     },
     "execution_count": 12,
     "metadata": {},
     "output_type": "execute_result"
    },
    {
     "data": {
      "image/png": "[encoded data removed]",
      "text/plain": [
       "<Figure size 432x288 with 1 Axes>"
      ]
     },
     "metadata": {
      "needs_background": "light"
     },
     "output_type": "display_data"
    }
   ],
   "source": [
    "#histograms of trip samples within an hour of 9am & 10am\n",
    "plt.hist(dfTaxihourly.loc[dfTaxihourly['Hour']==9]['speed'].values,bins=30,label='9 AM')\n",
    "plt.hist(dfTaxihourly.loc[dfTaxihourly['Hour']==10]['speed'].values,bins=30,alpha=0.9,label='10 AM')\n",
    "plt.legend()"
   ]
  },
  {
   "cell_type": "code",
   "execution_count": 13,
   "metadata": {},
   "outputs": [
    {
     "data": {
      "text/plain": [
       "Ttest_indResult(statistic=-1.173277394807621, pvalue=0.2408567402829922)"
      ]
     },
     "execution_count": 13,
     "metadata": {},
     "output_type": "execute_result"
    }
   ],
   "source": [
    "## t-test between the 9AM and 10AM Speed distributions\n",
    "stats.ttest_ind(dfTaxihourly.loc[dfTaxihourly['Hour']==9]['speed'],dfTaxihourly.loc[dfTaxihourly['Hour']==10]['speed'])"
   ]
  },
  {
   "cell_type": "code",
   "execution_count": 14,
   "metadata": {
    "deletable": false,
    "nbgrader": {
     "cell_type": "code",
     "checksum": "43659e42da26dbe696271c87fd7473a7",
     "grade": true,
     "grade_id": "cell-b506158f7c893752",
     "locked": false,
     "points": 2,
     "schema_version": 3,
     "solution": true,
     "task": false
    }
   },
   "outputs": [
    {
     "data": {
      "text/plain": [
       "KstestResult(statistic=0.04866545344252351, pvalue=0.2793212653142807)"
      ]
     },
     "execution_count": 14,
     "metadata": {},
     "output_type": "execute_result"
    }
   ],
   "source": [
    "## K-S test between the 9AM and 10AM Speed distributions\n",
    "stats.ks_2samp(dfTaxihourly.loc[dfTaxihourly['Hour']==9]['speed'],dfTaxihourly.loc[dfTaxihourly['Hour']==10]['speed'])"
   ]
  },
  {
   "cell_type": "code",
   "execution_count": 15,
   "metadata": {},
   "outputs": [],
   "source": [
    "## The T-test & KS-test comparing distributions of trip speeds between 9 AM and 10 AM suggest that they could be from the same distribution since p-value > 0.05 "
   ]
  },
  {
   "cell_type": "code",
   "execution_count": 16,
   "metadata": {},
   "outputs": [
    {
     "data": {
      "text/plain": [
       "<matplotlib.legend.Legend at 0x7f3a38f89190>"
      ]
     },
     "execution_count": 16,
     "metadata": {},
     "output_type": "execute_result"
    },
    {
     "data": {
      "image/png": "[encoded data removed]",
      "text/plain": [
       "<Figure size 432x288 with 1 Axes>"
      ]
     },
     "metadata": {
      "needs_background": "light"
     },
     "output_type": "display_data"
    }
   ],
   "source": [
    "#histograms of Morning and evening rush hours\n",
    "plt.hist(dfTaxihourly[(dfTaxihourly['Hour']==8) | (dfTaxihourly['Hour']==9)]['speed'].values,bins=30,label='Morning Rush Hours')\n",
    "plt.hist(dfTaxihourly[(dfTaxihourly['Hour']==17) | (dfTaxihourly['Hour']==18)]['speed'].values,bins=30,alpha=0.9,label='Evening Rush Hours')\n",
    "plt.legend()"
   ]
  },
  {
   "cell_type": "code",
   "execution_count": 17,
   "metadata": {},
   "outputs": [
    {
     "data": {
      "text/plain": [
       "Ttest_indResult(statistic=5.316218844376528, pvalue=1.1253493376433041e-07)"
      ]
     },
     "execution_count": 17,
     "metadata": {},
     "output_type": "execute_result"
    }
   ],
   "source": [
    "## t-test\n",
    "stats.ttest_ind(dfTaxihourly[(dfTaxihourly['Hour']==8) | (dfTaxihourly['Hour']==9)]['speed'],dfTaxihourly[(dfTaxihourly['Hour']==17) | (dfTaxihourly['Hour']==18)]['speed'])"
   ]
  },
  {
   "cell_type": "code",
   "execution_count": 18,
   "metadata": {},
   "outputs": [
    {
     "data": {
      "text/plain": [
       "KstestResult(statistic=0.06860517517057287, pvalue=0.0005164093592973096)"
      ]
     },
     "execution_count": 18,
     "metadata": {},
     "output_type": "execute_result"
    }
   ],
   "source": [
    "## K-S test\n",
    "stats.ks_2samp(dfTaxihourly[(dfTaxihourly['Hour']==8) | (dfTaxihourly['Hour']==9)]['speed'],dfTaxihourly[(dfTaxihourly['Hour']==17) | (dfTaxihourly['Hour']==18)]['speed'])"
   ]
  },
  {
   "cell_type": "code",
   "execution_count": 19,
   "metadata": {},
   "outputs": [],
   "source": [
    "## The T-test & KS-test comparing distributions of trip speeds between morning rush hours & evening rush hours suggest that they are not from the same distribution since p-value < 0.05 "
   ]
  },
  {
   "cell_type": "markdown",
   "metadata": {},
   "source": [
    "## Task 2. Travel speed - days of the week (2 pts)\n",
    "Traffic and travel speed also vary during different weekdays. a) Compute average travel speed per each of the 7 days of the week (among all the individual trips happening on Mondays, Tuesdays, Wednesdays etc); visualize those as a bar plot. Then compute average travel speed per each day of the year and perform a pairwise comparison between the distributions of the daily speed averages within different days of the week (i.e. distribution of all Mondays vs all Tuesdays etc). Compute p-value of the ks-test for each pair of the different weekdays and compare with 5\\%. As a results we are expecting a 7*7 pandas dataframe filled with \"reject\" (if p-value below 5\\%), \"keep\" (if p-value above 5\\%) and \"-\" on the diagonal."
   ]
  },
  {
   "cell_type": "code",
   "execution_count": 20,
   "metadata": {
    "deletable": false,
    "nbgrader": {
     "cell_type": "code",
     "checksum": "2ea1b1e20fb0a1d9019a53eec25d00f7",
     "grade": true,
     "grade_id": "cell-715f66bc11a6df95",
     "locked": false,
     "points": 2,
     "schema_version": 3,
     "solution": true,
     "task": false
    }
   },
   "outputs": [
    {
     "data": {
      "image/png": "[encoded data removed]",
      "text/plain": [
       "<Figure size 1152x360 with 1 Axes>"
      ]
     },
     "metadata": {
      "needs_background": "light"
     },
     "output_type": "display_data"
    }
   ],
   "source": [
    "# YOUR CODE HERE\n",
    "dfTaxiweek_viz = dfTaxi[['speed','DOW']].groupby(by=['DOW']).mean().reset_index()\n",
    "fig = plt.figure(figsize = (16, 5))\n",
    "# creating the bar plot\n",
    "plt.bar(dfTaxiweek_viz.DOW, dfTaxiweek_viz.speed, color ='maroon',width = 0.4)\n",
    "plt.xlabel(\"Days of the Week\")\n",
    "plt.xticks(range(0,7)) \n",
    "plt.ylabel(\"Average Speed\")\n",
    "plt.title(\"Average Travel Speed Each Day of the Week\")\n",
    "plt.show()"
   ]
  },
  {
   "cell_type": "code",
   "execution_count": 21,
   "metadata": {},
   "outputs": [
    {
     "data": {
      "text/html": [
       "<div>\n",
       "<style scoped>\n",
       "    .dataframe tbody tr th:only-of-type {\n",
       "        vertical-align: middle;\n",
       "    }\n",
       "\n",
       "    .dataframe tbody tr th {\n",
       "        vertical-align: top;\n",
       "    }\n",
       "\n",
       "    .dataframe thead th {\n",
       "        text-align: right;\n",
       "    }\n",
       "</style>\n",
       "<table border=\"1\" class=\"dataframe\">\n",
       "  <thead>\n",
       "    <tr style=\"text-align: right;\">\n",
       "      <th>DOW_2</th>\n",
       "      <th>0</th>\n",
       "      <th>1</th>\n",
       "      <th>2</th>\n",
       "      <th>3</th>\n",
       "      <th>4</th>\n",
       "      <th>5</th>\n",
       "      <th>6</th>\n",
       "    </tr>\n",
       "    <tr>\n",
       "      <th>DOW_1</th>\n",
       "      <th></th>\n",
       "      <th></th>\n",
       "      <th></th>\n",
       "      <th></th>\n",
       "      <th></th>\n",
       "      <th></th>\n",
       "      <th></th>\n",
       "    </tr>\n",
       "  </thead>\n",
       "  <tbody>\n",
       "    <tr>\n",
       "      <th>0</th>\n",
       "      <td>-</td>\n",
       "      <td>keep</td>\n",
       "      <td>reject</td>\n",
       "      <td>reject</td>\n",
       "      <td>reject</td>\n",
       "      <td>reject</td>\n",
       "      <td>reject</td>\n",
       "    </tr>\n",
       "    <tr>\n",
       "      <th>1</th>\n",
       "      <td>keep</td>\n",
       "      <td>-</td>\n",
       "      <td>reject</td>\n",
       "      <td>reject</td>\n",
       "      <td>reject</td>\n",
       "      <td>reject</td>\n",
       "      <td>reject</td>\n",
       "    </tr>\n",
       "    <tr>\n",
       "      <th>2</th>\n",
       "      <td>reject</td>\n",
       "      <td>reject</td>\n",
       "      <td>-</td>\n",
       "      <td>reject</td>\n",
       "      <td>reject</td>\n",
       "      <td>reject</td>\n",
       "      <td>reject</td>\n",
       "    </tr>\n",
       "    <tr>\n",
       "      <th>3</th>\n",
       "      <td>reject</td>\n",
       "      <td>reject</td>\n",
       "      <td>reject</td>\n",
       "      <td>-</td>\n",
       "      <td>keep</td>\n",
       "      <td>reject</td>\n",
       "      <td>reject</td>\n",
       "    </tr>\n",
       "    <tr>\n",
       "      <th>4</th>\n",
       "      <td>reject</td>\n",
       "      <td>reject</td>\n",
       "      <td>reject</td>\n",
       "      <td>keep</td>\n",
       "      <td>-</td>\n",
       "      <td>reject</td>\n",
       "      <td>reject</td>\n",
       "    </tr>\n",
       "    <tr>\n",
       "      <th>5</th>\n",
       "      <td>reject</td>\n",
       "      <td>reject</td>\n",
       "      <td>reject</td>\n",
       "      <td>reject</td>\n",
       "      <td>reject</td>\n",
       "      <td>-</td>\n",
       "      <td>reject</td>\n",
       "    </tr>\n",
       "    <tr>\n",
       "      <th>6</th>\n",
       "      <td>reject</td>\n",
       "      <td>reject</td>\n",
       "      <td>reject</td>\n",
       "      <td>reject</td>\n",
       "      <td>reject</td>\n",
       "      <td>reject</td>\n",
       "      <td>-</td>\n",
       "    </tr>\n",
       "  </tbody>\n",
       "</table>\n",
       "</div>"
      ],
      "text/plain": [
       "DOW_2       0       1       2       3       4       5       6\n",
       "DOW_1                                                        \n",
       "0           -    keep  reject  reject  reject  reject  reject\n",
       "1        keep       -  reject  reject  reject  reject  reject\n",
       "2      reject  reject       -  reject  reject  reject  reject\n",
       "3      reject  reject  reject       -    keep  reject  reject\n",
       "4      reject  reject  reject    keep       -  reject  reject\n",
       "5      reject  reject  reject  reject  reject       -  reject\n",
       "6      reject  reject  reject  reject  reject  reject       -"
      ]
     },
     "execution_count": 21,
     "metadata": {},
     "output_type": "execute_result"
    }
   ],
   "source": [
    "dfTaxiweekly = dfTaxi[['speed','DOW','Year', 'Date']].reset_index()\n",
    "dfTaxiweekly= dfTaxiweekly[dfTaxiweekly['Year']==2019]\n",
    "\n",
    "yearly_dow_avg = dfTaxiweekly.groupby(['Date','DOW'])['speed'].mean().reset_index()\n",
    "hypothesis_df = {'DOW_1':[],'DOW_2':[], 'result':[]}\n",
    "for x in yearly_dow_avg.DOW.unique():\n",
    "    for y in yearly_dow_avg.DOW.unique():\n",
    "        hypothesis_df['DOW_1'].append(x)\n",
    "        hypothesis_df['DOW_2'].append(y)\n",
    "        if x == y:\n",
    "            hypothesis_df['result'].append('-')\n",
    "        else:\n",
    "            ks_results = stats.ks_2samp(yearly_dow_avg[yearly_dow_avg.DOW==x]['speed'], yearly_dow_avg[yearly_dow_avg.DOW==y]['speed'])\n",
    "            if ks_results.pvalue <= 0.05:\n",
    "                hypothesis_df['result'].append('reject')\n",
    "            else:\n",
    "                hypothesis_df['result'].append('keep')\n",
    "pd.DataFrame(hypothesis_df).pivot(index='DOW_1', columns=['DOW_2'], values='result')"
   ]
  },
  {
   "cell_type": "markdown",
   "metadata": {},
   "source": [
    "## Task 3. Trip speeds per borough. (3 pts)\n",
    "\n",
    "For the day of Oct, 1, 2019 compute the average trip speed in Brooklyn, Queens and Bronx (by pickup). Then compare the samples of the trip speeds in Brooklyn, Queens and Bronx on that day using t-test and ks-test (pairwise comparison). Fill two 3x3 pandas dataframes (one for t-test, one for ks-test) with p-values for each pair of boroughs. Can we reject the null hypothesis that speed mean/distributions within each pair of boroughs is similar?"
   ]
  },
  {
   "cell_type": "code",
   "execution_count": 22,
   "metadata": {},
   "outputs": [],
   "source": [
    "taxizone = gpd.read_file('/home/jovyan/shared/Data/taxizone.geojson')\n",
    "taxizone.head()\n",
    "taxizone.location_id= pd.to_numeric(taxizone.location_id)"
   ]
  },
  {
   "cell_type": "code",
   "execution_count": 23,
   "metadata": {
    "deletable": false,
    "nbgrader": {
     "cell_type": "code",
     "checksum": "2234caaa0db408cd6c8c4b60a19d34b9",
     "grade": true,
     "grade_id": "cell-a82be21f68e200e7",
     "locked": false,
     "points": 3,
     "schema_version": 3,
     "solution": true,
     "task": false
    }
   },
   "outputs": [
    {
     "data": {
      "text/html": [
       "<div>\n",
       "<style scoped>\n",
       "    .dataframe tbody tr th:only-of-type {\n",
       "        vertical-align: middle;\n",
       "    }\n",
       "\n",
       "    .dataframe tbody tr th {\n",
       "        vertical-align: top;\n",
       "    }\n",
       "\n",
       "    .dataframe thead th {\n",
       "        text-align: right;\n",
       "    }\n",
       "</style>\n",
       "<table border=\"1\" class=\"dataframe\">\n",
       "  <thead>\n",
       "    <tr style=\"text-align: right;\">\n",
       "      <th></th>\n",
       "      <th>lpep_pickup_datetime</th>\n",
       "      <th>lpep_dropoff_datetime</th>\n",
       "      <th>PULocationID</th>\n",
       "      <th>DOLocationID</th>\n",
       "      <th>trip_distance</th>\n",
       "      <th>fare_amount</th>\n",
       "      <th>total_amount</th>\n",
       "      <th>Date</th>\n",
       "      <th>Month</th>\n",
       "      <th>Year</th>\n",
       "      <th>...</th>\n",
       "      <th>Hour</th>\n",
       "      <th>trip_duration</th>\n",
       "      <th>speed</th>\n",
       "      <th>shape_area</th>\n",
       "      <th>objectid</th>\n",
       "      <th>shape_leng</th>\n",
       "      <th>location_id</th>\n",
       "      <th>zone</th>\n",
       "      <th>borough</th>\n",
       "      <th>geometry</th>\n",
       "    </tr>\n",
       "  </thead>\n",
       "  <tbody>\n",
       "    <tr>\n",
       "      <th>0</th>\n",
       "      <td>2019-10-01 00:02:03</td>\n",
       "      <td>2019-10-01 00:03:34</td>\n",
       "      <td>166</td>\n",
       "      <td>166.0</td>\n",
       "      <td>0.36</td>\n",
       "      <td>3.5</td>\n",
       "      <td>4.80</td>\n",
       "      <td>2019-10-01</td>\n",
       "      <td>10</td>\n",
       "      <td>2019</td>\n",
       "      <td>...</td>\n",
       "      <td>0</td>\n",
       "      <td>1.516667</td>\n",
       "      <td>14.241758</td>\n",
       "      <td>0.000255276270405</td>\n",
       "      <td>166</td>\n",
       "      <td>0.0688237542871</td>\n",
       "      <td>166</td>\n",
       "      <td>Morningside Heights</td>\n",
       "      <td>Manhattan</td>\n",
       "      <td>MULTIPOLYGON (((-73.95708 40.81430, -73.95627 ...</td>\n",
       "    </tr>\n",
       "    <tr>\n",
       "      <th>1</th>\n",
       "      <td>2019-10-01 00:25:33</td>\n",
       "      <td>2019-10-01 00:38:57</td>\n",
       "      <td>166</td>\n",
       "      <td>41.0</td>\n",
       "      <td>1.72</td>\n",
       "      <td>10.0</td>\n",
       "      <td>14.69</td>\n",
       "      <td>2019-10-01</td>\n",
       "      <td>10</td>\n",
       "      <td>2019</td>\n",
       "      <td>...</td>\n",
       "      <td>0</td>\n",
       "      <td>13.400000</td>\n",
       "      <td>7.701493</td>\n",
       "      <td>0.000255276270405</td>\n",
       "      <td>166</td>\n",
       "      <td>0.0688237542871</td>\n",
       "      <td>166</td>\n",
       "      <td>Morningside Heights</td>\n",
       "      <td>Manhattan</td>\n",
       "      <td>MULTIPOLYGON (((-73.95708 40.81430, -73.95627 ...</td>\n",
       "    </tr>\n",
       "    <tr>\n",
       "      <th>2</th>\n",
       "      <td>2019-10-01 00:03:24</td>\n",
       "      <td>2019-10-01 00:10:37</td>\n",
       "      <td>166</td>\n",
       "      <td>151.0</td>\n",
       "      <td>1.40</td>\n",
       "      <td>7.5</td>\n",
       "      <td>10.30</td>\n",
       "      <td>2019-10-01</td>\n",
       "      <td>10</td>\n",
       "      <td>2019</td>\n",
       "      <td>...</td>\n",
       "      <td>0</td>\n",
       "      <td>7.216667</td>\n",
       "      <td>11.639723</td>\n",
       "      <td>0.000255276270405</td>\n",
       "      <td>166</td>\n",
       "      <td>0.0688237542871</td>\n",
       "      <td>166</td>\n",
       "      <td>Morningside Heights</td>\n",
       "      <td>Manhattan</td>\n",
       "      <td>MULTIPOLYGON (((-73.95708 40.81430, -73.95627 ...</td>\n",
       "    </tr>\n",
       "    <tr>\n",
       "      <th>3</th>\n",
       "      <td>2019-10-01 00:31:14</td>\n",
       "      <td>2019-10-01 00:40:31</td>\n",
       "      <td>166</td>\n",
       "      <td>244.0</td>\n",
       "      <td>3.50</td>\n",
       "      <td>12.0</td>\n",
       "      <td>16.62</td>\n",
       "      <td>2019-10-01</td>\n",
       "      <td>10</td>\n",
       "      <td>2019</td>\n",
       "      <td>...</td>\n",
       "      <td>0</td>\n",
       "      <td>9.283333</td>\n",
       "      <td>22.621185</td>\n",
       "      <td>0.000255276270405</td>\n",
       "      <td>166</td>\n",
       "      <td>0.0688237542871</td>\n",
       "      <td>166</td>\n",
       "      <td>Morningside Heights</td>\n",
       "      <td>Manhattan</td>\n",
       "      <td>MULTIPOLYGON (((-73.95708 40.81430, -73.95627 ...</td>\n",
       "    </tr>\n",
       "    <tr>\n",
       "      <th>4</th>\n",
       "      <td>2019-10-01 00:45:29</td>\n",
       "      <td>2019-10-01 00:49:35</td>\n",
       "      <td>166</td>\n",
       "      <td>41.0</td>\n",
       "      <td>0.90</td>\n",
       "      <td>5.0</td>\n",
       "      <td>6.30</td>\n",
       "      <td>2019-10-01</td>\n",
       "      <td>10</td>\n",
       "      <td>2019</td>\n",
       "      <td>...</td>\n",
       "      <td>0</td>\n",
       "      <td>4.100000</td>\n",
       "      <td>13.170732</td>\n",
       "      <td>0.000255276270405</td>\n",
       "      <td>166</td>\n",
       "      <td>0.0688237542871</td>\n",
       "      <td>166</td>\n",
       "      <td>Morningside Heights</td>\n",
       "      <td>Manhattan</td>\n",
       "      <td>MULTIPOLYGON (((-73.95708 40.81430, -73.95627 ...</td>\n",
       "    </tr>\n",
       "  </tbody>\n",
       "</table>\n",
       "<p>5 rows × 21 columns</p>\n",
       "</div>"
      ],
      "text/plain": [
       "  lpep_pickup_datetime lpep_dropoff_datetime  PULocationID  DOLocationID  \\\n",
       "0  2019-10-01 00:02:03   2019-10-01 00:03:34           166         166.0   \n",
       "1  2019-10-01 00:25:33   2019-10-01 00:38:57           166          41.0   \n",
       "2  2019-10-01 00:03:24   2019-10-01 00:10:37           166         151.0   \n",
       "3  2019-10-01 00:31:14   2019-10-01 00:40:31           166         244.0   \n",
       "4  2019-10-01 00:45:29   2019-10-01 00:49:35           166          41.0   \n",
       "\n",
       "   trip_distance  fare_amount  total_amount       Date  Month  Year  ...  \\\n",
       "0           0.36          3.5          4.80 2019-10-01     10  2019  ...   \n",
       "1           1.72         10.0         14.69 2019-10-01     10  2019  ...   \n",
       "2           1.40          7.5         10.30 2019-10-01     10  2019  ...   \n",
       "3           3.50         12.0         16.62 2019-10-01     10  2019  ...   \n",
       "4           0.90          5.0          6.30 2019-10-01     10  2019  ...   \n",
       "\n",
       "   Hour  trip_duration      speed         shape_area objectid  \\\n",
       "0     0       1.516667  14.241758  0.000255276270405      166   \n",
       "1     0      13.400000   7.701493  0.000255276270405      166   \n",
       "2     0       7.216667  11.639723  0.000255276270405      166   \n",
       "3     0       9.283333  22.621185  0.000255276270405      166   \n",
       "4     0       4.100000  13.170732  0.000255276270405      166   \n",
       "\n",
       "        shape_leng location_id                 zone    borough  \\\n",
       "0  0.0688237542871         166  Morningside Heights  Manhattan   \n",
       "1  0.0688237542871         166  Morningside Heights  Manhattan   \n",
       "2  0.0688237542871         166  Morningside Heights  Manhattan   \n",
       "3  0.0688237542871         166  Morningside Heights  Manhattan   \n",
       "4  0.0688237542871         166  Morningside Heights  Manhattan   \n",
       "\n",
       "                                            geometry  \n",
       "0  MULTIPOLYGON (((-73.95708 40.81430, -73.95627 ...  \n",
       "1  MULTIPOLYGON (((-73.95708 40.81430, -73.95627 ...  \n",
       "2  MULTIPOLYGON (((-73.95708 40.81430, -73.95627 ...  \n",
       "3  MULTIPOLYGON (((-73.95708 40.81430, -73.95627 ...  \n",
       "4  MULTIPOLYGON (((-73.95708 40.81430, -73.95627 ...  \n",
       "\n",
       "[5 rows x 21 columns]"
      ]
     },
     "execution_count": 23,
     "metadata": {},
     "output_type": "execute_result"
    }
   ],
   "source": [
    "# YOUR CODE HERE\n",
    "dfTaxiBoro = dfTaxi[dfTaxi.Date== datetime(2019,10,1)]\n",
    "dfTaxiBoro = dfTaxiBoro.merge(taxizone,how='inner', left_on='PULocationID', right_on='location_id')\n",
    "dfTaxiBoro.head()"
   ]
  },
  {
   "cell_type": "code",
   "execution_count": 24,
   "metadata": {},
   "outputs": [
    {
     "data": {
      "text/html": [
       "<div>\n",
       "<style scoped>\n",
       "    .dataframe tbody tr th:only-of-type {\n",
       "        vertical-align: middle;\n",
       "    }\n",
       "\n",
       "    .dataframe tbody tr th {\n",
       "        vertical-align: top;\n",
       "    }\n",
       "\n",
       "    .dataframe thead th {\n",
       "        text-align: right;\n",
       "    }\n",
       "</style>\n",
       "<table border=\"1\" class=\"dataframe\">\n",
       "  <thead>\n",
       "    <tr style=\"text-align: right;\">\n",
       "      <th></th>\n",
       "      <th>borough</th>\n",
       "      <th>speed</th>\n",
       "    </tr>\n",
       "  </thead>\n",
       "  <tbody>\n",
       "    <tr>\n",
       "      <th>0</th>\n",
       "      <td>Bronx</td>\n",
       "      <td>15.179390</td>\n",
       "    </tr>\n",
       "    <tr>\n",
       "      <th>1</th>\n",
       "      <td>Brooklyn</td>\n",
       "      <td>12.421065</td>\n",
       "    </tr>\n",
       "    <tr>\n",
       "      <th>3</th>\n",
       "      <td>Queens</td>\n",
       "      <td>13.581798</td>\n",
       "    </tr>\n",
       "  </tbody>\n",
       "</table>\n",
       "</div>"
      ],
      "text/plain": [
       "    borough      speed\n",
       "0     Bronx  15.179390\n",
       "1  Brooklyn  12.421065\n",
       "3    Queens  13.581798"
      ]
     },
     "execution_count": 24,
     "metadata": {},
     "output_type": "execute_result"
    }
   ],
   "source": [
    "# YOUR CODE HERE\n",
    "dfTaxiBoro_mean = dfTaxiBoro[['speed','borough']].groupby(by=['borough']).mean().reset_index()\n",
    "dfTaxiBoro_mean = dfTaxiBoro_mean[(dfTaxiBoro_mean['borough']=='Brooklyn')|(dfTaxiBoro_mean['borough']=='Bronx')|(dfTaxiBoro_mean['borough']=='Queens')]\n",
    "dfTaxiBoro_mean"
   ]
  },
  {
   "cell_type": "code",
   "execution_count": 25,
   "metadata": {},
   "outputs": [
    {
     "data": {
      "text/plain": [
       "Ttest_indResult(statistic=-12.658486361340884, pvalue=3.8346516391397284e-36)"
      ]
     },
     "execution_count": 25,
     "metadata": {},
     "output_type": "execute_result"
    }
   ],
   "source": [
    "## t-test - Brooklyn, Bronx\n",
    "stats.ttest_ind(dfTaxiBoro.loc[dfTaxiBoro['borough']=='Brooklyn']['speed'],dfTaxiBoro.loc[dfTaxiBoro['borough']=='Bronx']['speed'])"
   ]
  },
  {
   "cell_type": "code",
   "execution_count": 26,
   "metadata": {},
   "outputs": [
    {
     "data": {
      "text/plain": [
       "KstestResult(statistic=0.23025183728592324, pvalue=1.887379141862766e-15)"
      ]
     },
     "execution_count": 26,
     "metadata": {},
     "output_type": "execute_result"
    }
   ],
   "source": [
    "## K-S test - Brooklyn, Bronx\n",
    "stats.ks_2samp(dfTaxiBoro.loc[dfTaxiBoro['borough']=='Brooklyn']['speed'],dfTaxiBoro.loc[dfTaxiBoro['borough']=='Bronx']['speed'])"
   ]
  },
  {
   "cell_type": "code",
   "execution_count": 27,
   "metadata": {},
   "outputs": [
    {
     "data": {
      "text/plain": [
       "Ttest_indResult(statistic=-8.081343504522616, pvalue=7.438515878530461e-16)"
      ]
     },
     "execution_count": 27,
     "metadata": {},
     "output_type": "execute_result"
    }
   ],
   "source": [
    "## t-test - Brooklyn, Queens\n",
    "stats.ttest_ind(dfTaxiBoro.loc[dfTaxiBoro['borough']=='Brooklyn']['speed'],dfTaxiBoro.loc[dfTaxiBoro['borough']=='Queens']['speed'])"
   ]
  },
  {
   "cell_type": "code",
   "execution_count": 28,
   "metadata": {},
   "outputs": [
    {
     "data": {
      "text/plain": [
       "KstestResult(statistic=0.11322274699742486, pvalue=7.588900499927009e-21)"
      ]
     },
     "execution_count": 28,
     "metadata": {},
     "output_type": "execute_result"
    }
   ],
   "source": [
    "## K-S test - Brooklyn, Queens\n",
    "stats.ks_2samp(dfTaxiBoro.loc[dfTaxiBoro['borough']=='Brooklyn']['speed'],dfTaxiBoro.loc[dfTaxiBoro['borough']=='Queens']['speed'])"
   ]
  },
  {
   "cell_type": "code",
   "execution_count": 29,
   "metadata": {},
   "outputs": [
    {
     "data": {
      "text/plain": [
       "Ttest_indResult(statistic=-6.815819334302827, pvalue=1.0587102508503335e-11)"
      ]
     },
     "execution_count": 29,
     "metadata": {},
     "output_type": "execute_result"
    }
   ],
   "source": [
    "## t-test - Bronx, Queens\n",
    "stats.ttest_ind(dfTaxiBoro.loc[dfTaxiBoro['borough']=='Queens']['speed'],dfTaxiBoro.loc[dfTaxiBoro['borough']=='Bronx']['speed'])"
   ]
  },
  {
   "cell_type": "code",
   "execution_count": 30,
   "metadata": {},
   "outputs": [
    {
     "data": {
      "text/plain": [
       "KstestResult(statistic=0.13433446846476785, pvalue=6.932232565759477e-13)"
      ]
     },
     "execution_count": 30,
     "metadata": {},
     "output_type": "execute_result"
    }
   ],
   "source": [
    "## K-S test - Bronx, Queens\n",
    "stats.ks_2samp(dfTaxiBoro.loc[dfTaxiBoro['borough']=='Queens']['speed'],dfTaxiBoro.loc[dfTaxiBoro['borough']=='Bronx']['speed'])"
   ]
  },
  {
   "cell_type": "code",
   "execution_count": 31,
   "metadata": {},
   "outputs": [],
   "source": [
    "t_test_df = {'borough_1':[],'borough_2':[], 'p_val':[]}\n",
    "ks_test_df = {'borough_1':[],'borough_2':[], 'p_val':[]}\n",
    "for b1 in ['Queens','Brooklyn','Bronx']:\n",
    "    for b2 in ['Queens','Brooklyn','Bronx']:\n",
    "        t_test_df['borough_1'].append(b1) \n",
    "        t_test_df['borough_2'].append(b2)\n",
    "        t_test_df['p_val'].append(stats.ttest_ind(dfTaxiBoro.loc[dfTaxiBoro['borough']==b1]['speed'],dfTaxiBoro.loc[dfTaxiBoro['borough']==b2]['speed']).pvalue)\n",
    "        ks_test_df['borough_1'].append(b1) \n",
    "        ks_test_df['borough_2'].append(b2)\n",
    "        ks_test_df['p_val'].append(stats.ks_2samp(dfTaxiBoro.loc[dfTaxiBoro['borough']==b1]['speed'],dfTaxiBoro.loc[dfTaxiBoro['borough']==b2]['speed']).pvalue)\n",
    "t_test_df = pd.DataFrame(t_test_df).pivot(index='borough_1', columns=['borough_2'], values='p_val')\n",
    "ks_test_df = pd.DataFrame(ks_test_df).pivot(index='borough_1', columns=['borough_2'], values='p_val')"
   ]
  },
  {
   "cell_type": "code",
   "execution_count": 32,
   "metadata": {},
   "outputs": [
    {
     "data": {
      "text/html": [
       "<div>\n",
       "<style scoped>\n",
       "    .dataframe tbody tr th:only-of-type {\n",
       "        vertical-align: middle;\n",
       "    }\n",
       "\n",
       "    .dataframe tbody tr th {\n",
       "        vertical-align: top;\n",
       "    }\n",
       "\n",
       "    .dataframe thead th {\n",
       "        text-align: right;\n",
       "    }\n",
       "</style>\n",
       "<table border=\"1\" class=\"dataframe\">\n",
       "  <thead>\n",
       "    <tr style=\"text-align: right;\">\n",
       "      <th>borough_2</th>\n",
       "      <th>Bronx</th>\n",
       "      <th>Brooklyn</th>\n",
       "      <th>Queens</th>\n",
       "    </tr>\n",
       "    <tr>\n",
       "      <th>borough_1</th>\n",
       "      <th></th>\n",
       "      <th></th>\n",
       "      <th></th>\n",
       "    </tr>\n",
       "  </thead>\n",
       "  <tbody>\n",
       "    <tr>\n",
       "      <th>Bronx</th>\n",
       "      <td>1.000000e+00</td>\n",
       "      <td>3.834652e-36</td>\n",
       "      <td>1.058710e-11</td>\n",
       "    </tr>\n",
       "    <tr>\n",
       "      <th>Brooklyn</th>\n",
       "      <td>3.834652e-36</td>\n",
       "      <td>1.000000e+00</td>\n",
       "      <td>7.438516e-16</td>\n",
       "    </tr>\n",
       "    <tr>\n",
       "      <th>Queens</th>\n",
       "      <td>1.058710e-11</td>\n",
       "      <td>7.438516e-16</td>\n",
       "      <td>1.000000e+00</td>\n",
       "    </tr>\n",
       "  </tbody>\n",
       "</table>\n",
       "</div>"
      ],
      "text/plain": [
       "borough_2         Bronx      Brooklyn        Queens\n",
       "borough_1                                          \n",
       "Bronx      1.000000e+00  3.834652e-36  1.058710e-11\n",
       "Brooklyn   3.834652e-36  1.000000e+00  7.438516e-16\n",
       "Queens     1.058710e-11  7.438516e-16  1.000000e+00"
      ]
     },
     "execution_count": 32,
     "metadata": {},
     "output_type": "execute_result"
    }
   ],
   "source": [
    "t_test_df"
   ]
  },
  {
   "cell_type": "code",
   "execution_count": 34,
   "metadata": {},
   "outputs": [],
   "source": [
    "##t_test_df - they are not from the same distribution since p-value < 0.05"
   ]
  },
  {
   "cell_type": "code",
   "execution_count": 33,
   "metadata": {},
   "outputs": [
    {
     "data": {
      "text/html": [
       "<div>\n",
       "<style scoped>\n",
       "    .dataframe tbody tr th:only-of-type {\n",
       "        vertical-align: middle;\n",
       "    }\n",
       "\n",
       "    .dataframe tbody tr th {\n",
       "        vertical-align: top;\n",
       "    }\n",
       "\n",
       "    .dataframe thead th {\n",
       "        text-align: right;\n",
       "    }\n",
       "</style>\n",
       "<table border=\"1\" class=\"dataframe\">\n",
       "  <thead>\n",
       "    <tr style=\"text-align: right;\">\n",
       "      <th>borough_2</th>\n",
       "      <th>Bronx</th>\n",
       "      <th>Brooklyn</th>\n",
       "      <th>Queens</th>\n",
       "    </tr>\n",
       "    <tr>\n",
       "      <th>borough_1</th>\n",
       "      <th></th>\n",
       "      <th></th>\n",
       "      <th></th>\n",
       "    </tr>\n",
       "  </thead>\n",
       "  <tbody>\n",
       "    <tr>\n",
       "      <th>Bronx</th>\n",
       "      <td>1.000000e+00</td>\n",
       "      <td>1.887379e-15</td>\n",
       "      <td>6.932233e-13</td>\n",
       "    </tr>\n",
       "    <tr>\n",
       "      <th>Brooklyn</th>\n",
       "      <td>1.887379e-15</td>\n",
       "      <td>1.000000e+00</td>\n",
       "      <td>7.588900e-21</td>\n",
       "    </tr>\n",
       "    <tr>\n",
       "      <th>Queens</th>\n",
       "      <td>6.932233e-13</td>\n",
       "      <td>7.588900e-21</td>\n",
       "      <td>1.000000e+00</td>\n",
       "    </tr>\n",
       "  </tbody>\n",
       "</table>\n",
       "</div>"
      ],
      "text/plain": [
       "borough_2         Bronx      Brooklyn        Queens\n",
       "borough_1                                          \n",
       "Bronx      1.000000e+00  1.887379e-15  6.932233e-13\n",
       "Brooklyn   1.887379e-15  1.000000e+00  7.588900e-21\n",
       "Queens     6.932233e-13  7.588900e-21  1.000000e+00"
      ]
     },
     "execution_count": 33,
     "metadata": {},
     "output_type": "execute_result"
    }
   ],
   "source": [
    "ks_test_df"
   ]
  },
  {
   "cell_type": "code",
   "execution_count": 35,
   "metadata": {},
   "outputs": [],
   "source": [
    "##ks_test_df - they are not from the same distribution since p-value < 0.05"
   ]
  }
 ],
 "metadata": {
  "kernelspec": {
   "display_name": "Python [conda env:PUI]",
   "language": "python",
   "name": "conda-env-PUI-py"
  },
  "language_info": {
   "codemirror_mode": {
    "name": "ipython",
    "version": 3
   },
   "file_extension": ".py",
   "mimetype": "text/x-python",
   "name": "python",
   "nbconvert_exporter": "python",
   "pygments_lexer": "ipython3",
   "version": "3.8.10"
  }
 },
 "nbformat": 4,
 "nbformat_minor": 4
}
