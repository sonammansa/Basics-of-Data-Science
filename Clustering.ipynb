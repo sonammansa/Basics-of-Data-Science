{
 "cells": [
  {
   "cell_type": "markdown",
   "metadata": {},
   "source": [
    "## Extra credit assignment\n",
    "\n",
    "In this homework, you will use two data sets: NYC restaurant inspections and 311 complaints. NYC DOHMH conducts inspections for all restaurants in the city on regular basis and report or take suitable action against the concerned restaurant. You'll use features from the restaurant violations and will check how well these are to predict the 311 complaint types regarding restaurants. You will also use clustering to check which areas are similar in terms of restaurant violations. "
   ]
  },
  {
   "cell_type": "code",
   "execution_count": 1,
   "metadata": {},
   "outputs": [],
   "source": [
    "import pandas as pd\n",
    "import numpy as np\n",
    "import os\n",
    "import requests\n",
    "import zipfile\n",
    "from datetime import datetime\n",
    "import geopandas as gpd\n",
    "from sklearn.cluster import KMeans\n",
    "from sklearn.metrics import silhouette_samples, silhouette_score\n",
    "from scipy.spatial.distance import cdist, pdist\n",
    "import statsmodels.formula.api as smf\n",
    "import urllib\n",
    "import matplotlib.cm as cm\n",
    "from sklearn import metrics\n",
    "from sklearn import preprocessing\n",
    "from matplotlib import pyplot as plt\n",
    "\n",
    "import warnings\n",
    "warnings.simplefilter(action='ignore', category=Warning)\n",
    "%matplotlib inline"
   ]
  },
  {
   "cell_type": "markdown",
   "metadata": {},
   "source": [
    "### Download restaurant inspections data\n",
    "\n",
    "other method is to manually download from the website: https://data.cityofnewyork.us/Health/DOHMH-New-York-City-Restaurant-Inspection-Results/43nn-pn8j"
   ]
  },
  {
   "cell_type": "code",
   "execution_count": 2,
   "metadata": {},
   "outputs": [
    {
     "data": {
      "text/html": [
       "<div>\n",
       "<style scoped>\n",
       "    .dataframe tbody tr th:only-of-type {\n",
       "        vertical-align: middle;\n",
       "    }\n",
       "\n",
       "    .dataframe tbody tr th {\n",
       "        vertical-align: top;\n",
       "    }\n",
       "\n",
       "    .dataframe thead th {\n",
       "        text-align: right;\n",
       "    }\n",
       "</style>\n",
       "<table border=\"1\" class=\"dataframe\">\n",
       "  <thead>\n",
       "    <tr style=\"text-align: right;\">\n",
       "      <th></th>\n",
       "      <th>CAMIS</th>\n",
       "      <th>DBA</th>\n",
       "      <th>BORO</th>\n",
       "      <th>BUILDING</th>\n",
       "      <th>STREET</th>\n",
       "      <th>ZIPCODE</th>\n",
       "      <th>PHONE</th>\n",
       "      <th>CUISINE DESCRIPTION</th>\n",
       "      <th>INSPECTION DATE</th>\n",
       "      <th>ACTION</th>\n",
       "      <th>...</th>\n",
       "      <th>RECORD DATE</th>\n",
       "      <th>INSPECTION TYPE</th>\n",
       "      <th>Latitude</th>\n",
       "      <th>Longitude</th>\n",
       "      <th>Community Board</th>\n",
       "      <th>Council District</th>\n",
       "      <th>Census Tract</th>\n",
       "      <th>BIN</th>\n",
       "      <th>BBL</th>\n",
       "      <th>NTA</th>\n",
       "    </tr>\n",
       "  </thead>\n",
       "  <tbody>\n",
       "    <tr>\n",
       "      <th>0</th>\n",
       "      <td>50100205</td>\n",
       "      <td>FOUR FOUR SOUTH VILLAGE TAIPEI BEEF NOODLES</td>\n",
       "      <td>Queens</td>\n",
       "      <td>3806</td>\n",
       "      <td>PRINCE ST</td>\n",
       "      <td>11354.0</td>\n",
       "      <td>7183137588</td>\n",
       "      <td>Chinese</td>\n",
       "      <td>2019-11-14</td>\n",
       "      <td>Violations were cited in the following area(s).</td>\n",
       "      <td>...</td>\n",
       "      <td>11/30/2021</td>\n",
       "      <td>Pre-permit (Operational) / Initial Inspection</td>\n",
       "      <td>40.760066</td>\n",
       "      <td>-73.832570</td>\n",
       "      <td>407.0</td>\n",
       "      <td>20.0</td>\n",
       "      <td>87100.0</td>\n",
       "      <td>4439964.0</td>\n",
       "      <td>4.049720e+09</td>\n",
       "      <td>QN22</td>\n",
       "    </tr>\n",
       "    <tr>\n",
       "      <th>1</th>\n",
       "      <td>41434246</td>\n",
       "      <td>SILVER KITCHEN</td>\n",
       "      <td>Queens</td>\n",
       "      <td>4301</td>\n",
       "      <td>21 STREET</td>\n",
       "      <td>11101.0</td>\n",
       "      <td>7184331327</td>\n",
       "      <td>American</td>\n",
       "      <td>2018-08-15</td>\n",
       "      <td>Violations were cited in the following area(s).</td>\n",
       "      <td>...</td>\n",
       "      <td>11/30/2021</td>\n",
       "      <td>Cycle Inspection / Re-inspection</td>\n",
       "      <td>40.750557</td>\n",
       "      <td>-73.945718</td>\n",
       "      <td>402.0</td>\n",
       "      <td>26.0</td>\n",
       "      <td>1900.0</td>\n",
       "      <td>4005198.0</td>\n",
       "      <td>4.004410e+09</td>\n",
       "      <td>QN31</td>\n",
       "    </tr>\n",
       "    <tr>\n",
       "      <th>2</th>\n",
       "      <td>41139783</td>\n",
       "      <td>JK &amp; SONS COFFEE SHOP</td>\n",
       "      <td>Brooklyn</td>\n",
       "      <td>801</td>\n",
       "      <td>BROADWAY</td>\n",
       "      <td>11206.0</td>\n",
       "      <td>7187822366</td>\n",
       "      <td>American</td>\n",
       "      <td>2018-09-25</td>\n",
       "      <td>Violations were cited in the following area(s).</td>\n",
       "      <td>...</td>\n",
       "      <td>11/30/2021</td>\n",
       "      <td>Cycle Inspection / Re-inspection</td>\n",
       "      <td>40.699713</td>\n",
       "      <td>-73.940137</td>\n",
       "      <td>304.0</td>\n",
       "      <td>34.0</td>\n",
       "      <td>38900.0</td>\n",
       "      <td>3071691.0</td>\n",
       "      <td>3.031320e+09</td>\n",
       "      <td>BK78</td>\n",
       "    </tr>\n",
       "    <tr>\n",
       "      <th>3</th>\n",
       "      <td>40394762</td>\n",
       "      <td>CAROLINE'S ON BROADWAY</td>\n",
       "      <td>Manhattan</td>\n",
       "      <td>750</td>\n",
       "      <td>7 AVENUE</td>\n",
       "      <td>10019.0</td>\n",
       "      <td>2127574100</td>\n",
       "      <td>American</td>\n",
       "      <td>2017-10-18</td>\n",
       "      <td>Violations were cited in the following area(s).</td>\n",
       "      <td>...</td>\n",
       "      <td>11/30/2021</td>\n",
       "      <td>Cycle Inspection / Initial Inspection</td>\n",
       "      <td>40.760746</td>\n",
       "      <td>-73.983525</td>\n",
       "      <td>105.0</td>\n",
       "      <td>4.0</td>\n",
       "      <td>12500.0</td>\n",
       "      <td>1024795.0</td>\n",
       "      <td>1.010210e+09</td>\n",
       "      <td>MN17</td>\n",
       "    </tr>\n",
       "    <tr>\n",
       "      <th>4</th>\n",
       "      <td>50102980</td>\n",
       "      <td>THE HOLY GROUP</td>\n",
       "      <td>Queens</td>\n",
       "      <td>10402</td>\n",
       "      <td>NORTHERN BLVD</td>\n",
       "      <td>11368.0</td>\n",
       "      <td>9176226465</td>\n",
       "      <td>Other</td>\n",
       "      <td>2021-09-14</td>\n",
       "      <td>Violations were cited in the following area(s).</td>\n",
       "      <td>...</td>\n",
       "      <td>11/30/2021</td>\n",
       "      <td>Pre-permit (Operational) / Initial Inspection</td>\n",
       "      <td>40.757684</td>\n",
       "      <td>-73.864471</td>\n",
       "      <td>403.0</td>\n",
       "      <td>21.0</td>\n",
       "      <td>37900.0</td>\n",
       "      <td>4042649.0</td>\n",
       "      <td>4.017190e+09</td>\n",
       "      <td>QN26</td>\n",
       "    </tr>\n",
       "  </tbody>\n",
       "</table>\n",
       "<p>5 rows × 26 columns</p>\n",
       "</div>"
      ],
      "text/plain": [
       "      CAMIS                                          DBA       BORO BUILDING  \\\n",
       "0  50100205  FOUR FOUR SOUTH VILLAGE TAIPEI BEEF NOODLES     Queens     3806   \n",
       "1  41434246                               SILVER KITCHEN     Queens     4301   \n",
       "2  41139783                        JK & SONS COFFEE SHOP   Brooklyn      801   \n",
       "3  40394762                       CAROLINE'S ON BROADWAY  Manhattan      750   \n",
       "4  50102980                               THE HOLY GROUP     Queens    10402   \n",
       "\n",
       "          STREET  ZIPCODE       PHONE CUISINE DESCRIPTION INSPECTION DATE  \\\n",
       "0      PRINCE ST  11354.0  7183137588             Chinese      2019-11-14   \n",
       "1      21 STREET  11101.0  7184331327            American      2018-08-15   \n",
       "2       BROADWAY  11206.0  7187822366            American      2018-09-25   \n",
       "3       7 AVENUE  10019.0  2127574100            American      2017-10-18   \n",
       "4  NORTHERN BLVD  11368.0  9176226465               Other      2021-09-14   \n",
       "\n",
       "                                            ACTION  ... RECORD DATE  \\\n",
       "0  Violations were cited in the following area(s).  ...  11/30/2021   \n",
       "1  Violations were cited in the following area(s).  ...  11/30/2021   \n",
       "2  Violations were cited in the following area(s).  ...  11/30/2021   \n",
       "3  Violations were cited in the following area(s).  ...  11/30/2021   \n",
       "4  Violations were cited in the following area(s).  ...  11/30/2021   \n",
       "\n",
       "                                 INSPECTION TYPE   Latitude  Longitude  \\\n",
       "0  Pre-permit (Operational) / Initial Inspection  40.760066 -73.832570   \n",
       "1               Cycle Inspection / Re-inspection  40.750557 -73.945718   \n",
       "2               Cycle Inspection / Re-inspection  40.699713 -73.940137   \n",
       "3          Cycle Inspection / Initial Inspection  40.760746 -73.983525   \n",
       "4  Pre-permit (Operational) / Initial Inspection  40.757684 -73.864471   \n",
       "\n",
       "  Community Board Council District Census Tract        BIN           BBL   NTA  \n",
       "0           407.0             20.0      87100.0  4439964.0  4.049720e+09  QN22  \n",
       "1           402.0             26.0       1900.0  4005198.0  4.004410e+09  QN31  \n",
       "2           304.0             34.0      38900.0  3071691.0  3.031320e+09  BK78  \n",
       "3           105.0              4.0      12500.0  1024795.0  1.010210e+09  MN17  \n",
       "4           403.0             21.0      37900.0  4042649.0  4.017190e+09  QN26  \n",
       "\n",
       "[5 rows x 26 columns]"
      ]
     },
     "execution_count": 2,
     "metadata": {},
     "output_type": "execute_result"
    }
   ],
   "source": [
    "## read the data\n",
    "\n",
    "data = pd.read_csv('/home/jovyan/shared/Data/DOHMH_New_York_City_Restaurant_Inspection_Results.csv', parse_dates=['INSPECTION DATE'])\n",
    "data.head()"
   ]
  },
  {
   "cell_type": "code",
   "execution_count": 3,
   "metadata": {},
   "outputs": [
    {
     "data": {
      "text/plain": [
       "Index(['CAMIS', 'DBA', 'BORO', 'BUILDING', 'STREET', 'ZIPCODE', 'PHONE',\n",
       "       'CUISINE DESCRIPTION', 'INSPECTION DATE', 'ACTION', 'VIOLATION CODE',\n",
       "       'VIOLATION DESCRIPTION', 'CRITICAL FLAG', 'SCORE', 'GRADE',\n",
       "       'GRADE DATE', 'RECORD DATE', 'INSPECTION TYPE', 'Latitude', 'Longitude',\n",
       "       'Community Board', 'Council District', 'Census Tract', 'BIN', 'BBL',\n",
       "       'NTA'],\n",
       "      dtype='object')"
      ]
     },
     "execution_count": 3,
     "metadata": {},
     "output_type": "execute_result"
    }
   ],
   "source": [
    "data.columns"
   ]
  },
  {
   "cell_type": "markdown",
   "metadata": {},
   "source": [
    "You only need certain columns for the tasks, namely 'CAMIS', 'ZIPCODE', 'INSPECTION DATE', 'ACTION', 'VIOLATION DESCRIPTION', 'SCORE', 'GRADE', 'Latitude', 'Longitude'\n",
    "\n",
    "'CAMIS' is a unique identifier for a restaurant/business. 'INSPECTION DATE' is the date on which inspection took place. 'ACTION' tells what kind of action was taken, 'VIOLATION DESCRIPTION' is the type of violation reported.\n",
    "\n",
    "'SCORE' is the measure of severity of violations reported. A higher score means the restaurant had more violations/bad violations. \n",
    "\n",
    "'GRADE' is also a measure of restaurant violations. The best grade is 'A' (which means restaurant had minor/no violations), followed by 'B' and 'C', which mean more serious violations. 'P' grade means the inspection is pending and 'N' and 'Z' mean grades was not assigned due to some reasons."
   ]
  },
  {
   "cell_type": "code",
   "execution_count": 4,
   "metadata": {},
   "outputs": [],
   "source": [
    "## keep only the above columns\n",
    "data = data[['CAMIS', 'ZIPCODE', 'INSPECTION DATE', 'ACTION', 'VIOLATION DESCRIPTION', 'SCORE', 'GRADE', 'Latitude', 'Longitude']]"
   ]
  },
  {
   "cell_type": "code",
   "execution_count": 5,
   "metadata": {},
   "outputs": [
    {
     "data": {
      "text/plain": [
       "(383171, 9)"
      ]
     },
     "execution_count": 5,
     "metadata": {},
     "output_type": "execute_result"
    }
   ],
   "source": [
    "data.shape"
   ]
  },
  {
   "cell_type": "markdown",
   "metadata": {},
   "source": [
    "### Keep data only for 2019"
   ]
  },
  {
   "cell_type": "code",
   "execution_count": 6,
   "metadata": {},
   "outputs": [],
   "source": [
    "data = data[data['INSPECTION DATE'].dt.year == 2019]"
   ]
  },
  {
   "cell_type": "code",
   "execution_count": 7,
   "metadata": {},
   "outputs": [
    {
     "data": {
      "text/plain": [
       "145583"
      ]
     },
     "execution_count": 7,
     "metadata": {},
     "output_type": "execute_result"
    }
   ],
   "source": [
    "len(data)"
   ]
  },
  {
   "cell_type": "markdown",
   "metadata": {},
   "source": [
    "### Remove rows where the 'ACTION' was restaurant closure: 'Establishment Closed by DOHMH.  Violations were cited in the following area(s) and those requiring immediate action were addressed.' and 'Establishment re-closed by DOHMH'"
   ]
  },
  {
   "cell_type": "code",
   "execution_count": 8,
   "metadata": {},
   "outputs": [],
   "source": [
    "data = data[(data['ACTION']!= 'Establishment Closed by DOHMH. Violations were cited in the following area(s) and those requiring immediate action were addressed.') & (data['ACTION']!= 'Establishment re-closed by DOHMH')]\n"
   ]
  },
  {
   "cell_type": "code",
   "execution_count": 9,
   "metadata": {},
   "outputs": [
    {
     "data": {
      "text/plain": [
       "139693"
      ]
     },
     "execution_count": 9,
     "metadata": {},
     "output_type": "execute_result"
    }
   ],
   "source": [
    "len(data)"
   ]
  },
  {
   "cell_type": "markdown",
   "metadata": {},
   "source": [
    "### You only need certain type of violations for further analysis. Keep only the rows where 'VIOLATION DESCRIPTION' was one of the below categories"
   ]
  },
  {
   "cell_type": "code",
   "execution_count": 10,
   "metadata": {},
   "outputs": [
    {
     "data": {
      "text/html": [
       "<div>\n",
       "<style scoped>\n",
       "    .dataframe tbody tr th:only-of-type {\n",
       "        vertical-align: middle;\n",
       "    }\n",
       "\n",
       "    .dataframe tbody tr th {\n",
       "        vertical-align: top;\n",
       "    }\n",
       "\n",
       "    .dataframe thead th {\n",
       "        text-align: right;\n",
       "    }\n",
       "</style>\n",
       "<table border=\"1\" class=\"dataframe\">\n",
       "  <thead>\n",
       "    <tr style=\"text-align: right;\">\n",
       "      <th></th>\n",
       "      <th>VIOLATION DESCRIPTION</th>\n",
       "      <th>count</th>\n",
       "    </tr>\n",
       "  </thead>\n",
       "  <tbody>\n",
       "    <tr>\n",
       "      <th>0</th>\n",
       "      <td>Facility not vermin proof. Harborage or condit...</td>\n",
       "      <td>41352</td>\n",
       "    </tr>\n",
       "    <tr>\n",
       "      <th>1</th>\n",
       "      <td>Evidence of mice or live mice present in facil...</td>\n",
       "      <td>27816</td>\n",
       "    </tr>\n",
       "    <tr>\n",
       "      <th>2</th>\n",
       "      <td>Food contact surface not properly washed, rins...</td>\n",
       "      <td>25889</td>\n",
       "    </tr>\n",
       "    <tr>\n",
       "      <th>3</th>\n",
       "      <td>Food not protected from potential source of co...</td>\n",
       "      <td>25336</td>\n",
       "    </tr>\n",
       "    <tr>\n",
       "      <th>4</th>\n",
       "      <td>Cold food item held above 41Âº F (smoked fish ...</td>\n",
       "      <td>22834</td>\n",
       "    </tr>\n",
       "  </tbody>\n",
       "</table>\n",
       "</div>"
      ],
      "text/plain": [
       "                               VIOLATION DESCRIPTION  count\n",
       "0  Facility not vermin proof. Harborage or condit...  41352\n",
       "1  Evidence of mice or live mice present in facil...  27816\n",
       "2  Food contact surface not properly washed, rins...  25889\n",
       "3  Food not protected from potential source of co...  25336\n",
       "4  Cold food item held above 41Âº F (smoked fish ...  22834"
      ]
     },
     "execution_count": 10,
     "metadata": {},
     "output_type": "execute_result"
    }
   ],
   "source": [
    "violCat = pd.read_csv('RestViol_types.csv')\n",
    "violCat.head()"
   ]
  },
  {
   "cell_type": "code",
   "execution_count": 11,
   "metadata": {},
   "outputs": [
    {
     "data": {
      "text/plain": [
       "(62738, 9)"
      ]
     },
     "execution_count": 11,
     "metadata": {},
     "output_type": "execute_result"
    }
   ],
   "source": [
    "# keep rows just for above categories\n",
    "\n",
    "data = data[data['VIOLATION DESCRIPTION'].isin(violCat['VIOLATION DESCRIPTION'])]\n",
    "data.shape"
   ]
  },
  {
   "cell_type": "markdown",
   "metadata": {},
   "source": [
    "### Filter out GRADES that are 'P', 'N' and 'Z'\n",
    "\n",
    "Do not remove the NaN values from 'GRADE' yet"
   ]
  },
  {
   "cell_type": "code",
   "execution_count": 7,
   "metadata": {},
   "outputs": [
    {
     "data": {
      "text/plain": [
       "array(['C', 'B', 'A', nan, 'N', 'Z', 'P'], dtype=object)"
      ]
     },
     "execution_count": 7,
     "metadata": {},
     "output_type": "execute_result"
    }
   ],
   "source": [
    "data.GRADE.unique()"
   ]
  },
  {
   "cell_type": "code",
   "execution_count": 13,
   "metadata": {},
   "outputs": [],
   "source": [
    "data = data[(data['GRADE'] != 'P') & (data['GRADE'] != 'N') & (data['GRADE'] != 'Z')]"
   ]
  },
  {
   "cell_type": "code",
   "execution_count": 14,
   "metadata": {},
   "outputs": [
    {
     "data": {
      "text/plain": [
       "61987"
      ]
     },
     "execution_count": 14,
     "metadata": {},
     "output_type": "execute_result"
    }
   ],
   "source": [
    "len(data)"
   ]
  },
  {
   "cell_type": "markdown",
   "metadata": {},
   "source": [
    "Zip codes shapefile"
   ]
  },
  {
   "cell_type": "code",
   "execution_count": 12,
   "metadata": {},
   "outputs": [],
   "source": [
    "# !git clone https://github.com/CUSP2020PUI/Data.git\n",
    "\n",
    "# zips = gpd.read_file(\"Data/zip_code/ZIP_CODE_040114.shp\")\n",
    "# zips = zips[['ZIPCODE', 'POPULATION', 'geometry']]\n",
    "# zips['ZIPCODE'] = zips['ZIPCODE'].astype(int)\n",
    "# zips.head()"
   ]
  },
  {
   "cell_type": "code",
   "execution_count": 16,
   "metadata": {},
   "outputs": [
    {
     "data": {
      "text/html": [
       "<div>\n",
       "<style scoped>\n",
       "    .dataframe tbody tr th:only-of-type {\n",
       "        vertical-align: middle;\n",
       "    }\n",
       "\n",
       "    .dataframe tbody tr th {\n",
       "        vertical-align: top;\n",
       "    }\n",
       "\n",
       "    .dataframe thead th {\n",
       "        text-align: right;\n",
       "    }\n",
       "</style>\n",
       "<table border=\"1\" class=\"dataframe\">\n",
       "  <thead>\n",
       "    <tr style=\"text-align: right;\">\n",
       "      <th></th>\n",
       "      <th>ZIPCODE</th>\n",
       "      <th>POPULATION</th>\n",
       "      <th>geometry</th>\n",
       "    </tr>\n",
       "  </thead>\n",
       "  <tbody>\n",
       "    <tr>\n",
       "      <th>0</th>\n",
       "      <td>11436</td>\n",
       "      <td>18681.0</td>\n",
       "      <td>POLYGON ((1038098.252 188138.380, 1038141.936 ...</td>\n",
       "    </tr>\n",
       "    <tr>\n",
       "      <th>1</th>\n",
       "      <td>11213</td>\n",
       "      <td>62426.0</td>\n",
       "      <td>POLYGON ((1001613.713 186926.440, 1002314.243 ...</td>\n",
       "    </tr>\n",
       "    <tr>\n",
       "      <th>2</th>\n",
       "      <td>11212</td>\n",
       "      <td>83866.0</td>\n",
       "      <td>POLYGON ((1011174.276 183696.338, 1011373.584 ...</td>\n",
       "    </tr>\n",
       "    <tr>\n",
       "      <th>3</th>\n",
       "      <td>11225</td>\n",
       "      <td>56527.0</td>\n",
       "      <td>POLYGON ((995908.365 183617.613, 996522.848 18...</td>\n",
       "    </tr>\n",
       "    <tr>\n",
       "      <th>4</th>\n",
       "      <td>11218</td>\n",
       "      <td>72280.0</td>\n",
       "      <td>POLYGON ((991997.113 176307.496, 992042.798 17...</td>\n",
       "    </tr>\n",
       "  </tbody>\n",
       "</table>\n",
       "</div>"
      ],
      "text/plain": [
       "   ZIPCODE  POPULATION                                           geometry\n",
       "0    11436     18681.0  POLYGON ((1038098.252 188138.380, 1038141.936 ...\n",
       "1    11213     62426.0  POLYGON ((1001613.713 186926.440, 1002314.243 ...\n",
       "2    11212     83866.0  POLYGON ((1011174.276 183696.338, 1011373.584 ...\n",
       "3    11225     56527.0  POLYGON ((995908.365 183617.613, 996522.848 18...\n",
       "4    11218     72280.0  POLYGON ((991997.113 176307.496, 992042.798 17..."
      ]
     },
     "execution_count": 16,
     "metadata": {},
     "output_type": "execute_result"
    }
   ],
   "source": [
    "# or use this\n",
    "urllib.request.urlretrieve (\"https://data.cityofnewyork.us/download/i8iw-xf4u/application%2Fzip\", \n",
    "                            \"ZIPS.zip\")\n",
    "with zipfile.ZipFile('ZIPS.zip', 'r') as zip_ref:\n",
    "    zip_ref.extractall('ZIPS/')\n",
    "    \n",
    "zips = gpd.read_file(\"ZIPS/ZIP_CODE_040114.shp\")\n",
    "zips = zips[['ZIPCODE', 'POPULATION', 'geometry']]\n",
    "zips['ZIPCODE'] = zips['ZIPCODE'].astype(int)\n",
    "zips.head()"
   ]
  },
  {
   "cell_type": "code",
   "execution_count": 17,
   "metadata": {},
   "outputs": [
    {
     "data": {
      "text/plain": [
       "263"
      ]
     },
     "execution_count": 17,
     "metadata": {},
     "output_type": "execute_result"
    }
   ],
   "source": [
    "len(zips)"
   ]
  },
  {
   "cell_type": "markdown",
   "metadata": {},
   "source": [
    "### Merge the violations data with zip code shapefile on column 'ZIPCODE'"
   ]
  },
  {
   "cell_type": "code",
   "execution_count": 18,
   "metadata": {},
   "outputs": [],
   "source": [
    "merge_df = pd.merge(data,zips.drop_duplicates('ZIPCODE'), on='ZIPCODE',how = 'inner')"
   ]
  },
  {
   "cell_type": "code",
   "execution_count": 19,
   "metadata": {},
   "outputs": [
    {
     "data": {
      "text/plain": [
       "61172"
      ]
     },
     "execution_count": 19,
     "metadata": {},
     "output_type": "execute_result"
    }
   ],
   "source": [
    "len(merge_df)"
   ]
  },
  {
   "cell_type": "code",
   "execution_count": 20,
   "metadata": {},
   "outputs": [
    {
     "data": {
      "text/html": [
       "<div>\n",
       "<style scoped>\n",
       "    .dataframe tbody tr th:only-of-type {\n",
       "        vertical-align: middle;\n",
       "    }\n",
       "\n",
       "    .dataframe tbody tr th {\n",
       "        vertical-align: top;\n",
       "    }\n",
       "\n",
       "    .dataframe thead th {\n",
       "        text-align: right;\n",
       "    }\n",
       "</style>\n",
       "<table border=\"1\" class=\"dataframe\">\n",
       "  <thead>\n",
       "    <tr style=\"text-align: right;\">\n",
       "      <th></th>\n",
       "      <th>CAMIS</th>\n",
       "      <th>ZIPCODE</th>\n",
       "      <th>INSPECTION DATE</th>\n",
       "      <th>ACTION</th>\n",
       "      <th>VIOLATION DESCRIPTION</th>\n",
       "      <th>SCORE</th>\n",
       "      <th>GRADE</th>\n",
       "      <th>Latitude</th>\n",
       "      <th>Longitude</th>\n",
       "      <th>POPULATION</th>\n",
       "      <th>geometry</th>\n",
       "    </tr>\n",
       "  </thead>\n",
       "  <tbody>\n",
       "    <tr>\n",
       "      <th>0</th>\n",
       "      <td>50093646</td>\n",
       "      <td>11366.0</td>\n",
       "      <td>2019-08-07</td>\n",
       "      <td>Violations were cited in the following area(s).</td>\n",
       "      <td>Proper sanitization not provided for utensil w...</td>\n",
       "      <td>11.0</td>\n",
       "      <td>A</td>\n",
       "      <td>40.729259</td>\n",
       "      <td>-73.780988</td>\n",
       "      <td>13168.0</td>\n",
       "      <td>POLYGON ((1047964.522 205966.960, 1047895.063 ...</td>\n",
       "    </tr>\n",
       "    <tr>\n",
       "      <th>1</th>\n",
       "      <td>50035638</td>\n",
       "      <td>11366.0</td>\n",
       "      <td>2019-04-29</td>\n",
       "      <td>Violations were cited in the following area(s).</td>\n",
       "      <td>Food contact surface not properly washed, rins...</td>\n",
       "      <td>22.0</td>\n",
       "      <td>NaN</td>\n",
       "      <td>40.725867</td>\n",
       "      <td>-73.791429</td>\n",
       "      <td>13168.0</td>\n",
       "      <td>POLYGON ((1047964.522 205966.960, 1047895.063 ...</td>\n",
       "    </tr>\n",
       "  </tbody>\n",
       "</table>\n",
       "</div>"
      ],
      "text/plain": [
       "      CAMIS  ZIPCODE INSPECTION DATE  \\\n",
       "0  50093646  11366.0      2019-08-07   \n",
       "1  50035638  11366.0      2019-04-29   \n",
       "\n",
       "                                            ACTION  \\\n",
       "0  Violations were cited in the following area(s).   \n",
       "1  Violations were cited in the following area(s).   \n",
       "\n",
       "                               VIOLATION DESCRIPTION  SCORE GRADE   Latitude  \\\n",
       "0  Proper sanitization not provided for utensil w...   11.0     A  40.729259   \n",
       "1  Food contact surface not properly washed, rins...   22.0   NaN  40.725867   \n",
       "\n",
       "   Longitude  POPULATION                                           geometry  \n",
       "0 -73.780988     13168.0  POLYGON ((1047964.522 205966.960, 1047895.063 ...  \n",
       "1 -73.791429     13168.0  POLYGON ((1047964.522 205966.960, 1047895.063 ...  "
      ]
     },
     "execution_count": 20,
     "metadata": {},
     "output_type": "execute_result"
    }
   ],
   "source": [
    "merge_df.head(2)"
   ]
  },
  {
   "cell_type": "markdown",
   "metadata": {},
   "source": [
    "### Next, you need to aggregare features by zipcode. You need to get number of violations, average score, and ratio of each grade 'A', 'B' and 'C'. The ratio for a particular grade 'A' should be calculated as number of inspections when restaurants were graded 'A' divided by total number of inspections. In the end, you should have 5 above featues for each zip code."
   ]
  },
  {
   "cell_type": "code",
   "execution_count": 21,
   "metadata": {},
   "outputs": [
    {
     "data": {
      "text/html": [
       "<div>\n",
       "<style scoped>\n",
       "    .dataframe tbody tr th:only-of-type {\n",
       "        vertical-align: middle;\n",
       "    }\n",
       "\n",
       "    .dataframe tbody tr th {\n",
       "        vertical-align: top;\n",
       "    }\n",
       "\n",
       "    .dataframe thead th {\n",
       "        text-align: right;\n",
       "    }\n",
       "</style>\n",
       "<table border=\"1\" class=\"dataframe\">\n",
       "  <thead>\n",
       "    <tr style=\"text-align: right;\">\n",
       "      <th>GRADE</th>\n",
       "      <th>ZIPCODE</th>\n",
       "      <th>total_violation_count</th>\n",
       "      <th>avg_score</th>\n",
       "      <th>A</th>\n",
       "      <th>B</th>\n",
       "      <th>C</th>\n",
       "    </tr>\n",
       "  </thead>\n",
       "  <tbody>\n",
       "    <tr>\n",
       "      <th>0</th>\n",
       "      <td>10001.0</td>\n",
       "      <td>1087</td>\n",
       "      <td>19.870285</td>\n",
       "      <td>0.435143</td>\n",
       "      <td>0.066237</td>\n",
       "      <td>0.016559</td>\n",
       "    </tr>\n",
       "    <tr>\n",
       "      <th>1</th>\n",
       "      <td>10002.0</td>\n",
       "      <td>1512</td>\n",
       "      <td>21.900662</td>\n",
       "      <td>0.341270</td>\n",
       "      <td>0.095238</td>\n",
       "      <td>0.029101</td>\n",
       "    </tr>\n",
       "    <tr>\n",
       "      <th>2</th>\n",
       "      <td>10003.0</td>\n",
       "      <td>1650</td>\n",
       "      <td>19.778047</td>\n",
       "      <td>0.391515</td>\n",
       "      <td>0.089091</td>\n",
       "      <td>0.024242</td>\n",
       "    </tr>\n",
       "    <tr>\n",
       "      <th>3</th>\n",
       "      <td>10004.0</td>\n",
       "      <td>323</td>\n",
       "      <td>22.167702</td>\n",
       "      <td>0.402477</td>\n",
       "      <td>0.046440</td>\n",
       "      <td>0.055728</td>\n",
       "    </tr>\n",
       "    <tr>\n",
       "      <th>4</th>\n",
       "      <td>10005.0</td>\n",
       "      <td>114</td>\n",
       "      <td>18.535088</td>\n",
       "      <td>0.500000</td>\n",
       "      <td>0.052632</td>\n",
       "      <td>0.026316</td>\n",
       "    </tr>\n",
       "    <tr>\n",
       "      <th>...</th>\n",
       "      <td>...</td>\n",
       "      <td>...</td>\n",
       "      <td>...</td>\n",
       "      <td>...</td>\n",
       "      <td>...</td>\n",
       "      <td>...</td>\n",
       "    </tr>\n",
       "    <tr>\n",
       "      <th>201</th>\n",
       "      <td>11691.0</td>\n",
       "      <td>87</td>\n",
       "      <td>20.218391</td>\n",
       "      <td>0.494253</td>\n",
       "      <td>0.080460</td>\n",
       "      <td>0.000000</td>\n",
       "    </tr>\n",
       "    <tr>\n",
       "      <th>202</th>\n",
       "      <td>11692.0</td>\n",
       "      <td>16</td>\n",
       "      <td>14.062500</td>\n",
       "      <td>0.750000</td>\n",
       "      <td>0.000000</td>\n",
       "      <td>0.000000</td>\n",
       "    </tr>\n",
       "    <tr>\n",
       "      <th>203</th>\n",
       "      <td>11693.0</td>\n",
       "      <td>65</td>\n",
       "      <td>18.384615</td>\n",
       "      <td>0.507692</td>\n",
       "      <td>0.046154</td>\n",
       "      <td>0.000000</td>\n",
       "    </tr>\n",
       "    <tr>\n",
       "      <th>204</th>\n",
       "      <td>11694.0</td>\n",
       "      <td>52</td>\n",
       "      <td>14.826923</td>\n",
       "      <td>0.673077</td>\n",
       "      <td>0.000000</td>\n",
       "      <td>0.000000</td>\n",
       "    </tr>\n",
       "    <tr>\n",
       "      <th>205</th>\n",
       "      <td>11697.0</td>\n",
       "      <td>9</td>\n",
       "      <td>14.222222</td>\n",
       "      <td>0.444444</td>\n",
       "      <td>0.333333</td>\n",
       "      <td>0.000000</td>\n",
       "    </tr>\n",
       "  </tbody>\n",
       "</table>\n",
       "<p>206 rows × 6 columns</p>\n",
       "</div>"
      ],
      "text/plain": [
       "GRADE  ZIPCODE  total_violation_count  avg_score         A         B         C\n",
       "0      10001.0                   1087  19.870285  0.435143  0.066237  0.016559\n",
       "1      10002.0                   1512  21.900662  0.341270  0.095238  0.029101\n",
       "2      10003.0                   1650  19.778047  0.391515  0.089091  0.024242\n",
       "3      10004.0                    323  22.167702  0.402477  0.046440  0.055728\n",
       "4      10005.0                    114  18.535088  0.500000  0.052632  0.026316\n",
       "..         ...                    ...        ...       ...       ...       ...\n",
       "201    11691.0                     87  20.218391  0.494253  0.080460  0.000000\n",
       "202    11692.0                     16  14.062500  0.750000  0.000000  0.000000\n",
       "203    11693.0                     65  18.384615  0.507692  0.046154  0.000000\n",
       "204    11694.0                     52  14.826923  0.673077  0.000000  0.000000\n",
       "205    11697.0                      9  14.222222  0.444444  0.333333  0.000000\n",
       "\n",
       "[206 rows x 6 columns]"
      ]
     },
     "execution_count": 21,
     "metadata": {},
     "output_type": "execute_result"
    }
   ],
   "source": [
    "# get number of violations and average score\n",
    "## merge number of violations, avg score and grade ratios \n",
    "## get each grade ratio per zip code\n",
    "# agg_zip_df = merge_df.groupby('ZIPCODE').agg({'VIOLATION DESCRIPTION':['count'],'SCORE':['mean'],'GRADE':['count']})\n",
    "# agg_zip_df.head()\n",
    "merge_df['GRADE'] = merge_df['GRADE'].fillna('NaN')\n",
    "violation_count_grade_df = merge_df.groupby(['ZIPCODE','GRADE'])['VIOLATION DESCRIPTION'].count().reset_index().rename(columns={'VIOLATION DESCRIPTION':'grade_type_violation_count'})\n",
    "average_score_grade_df = merge_df.groupby(['ZIPCODE'])['SCORE'].mean().reset_index().rename(columns={'SCORE':'avg_score'})\n",
    "violation_count_tot_df = merge_df.groupby(['ZIPCODE'])['VIOLATION DESCRIPTION'].count().reset_index().rename(columns={'VIOLATION DESCRIPTION':'total_violation_count'})\n",
    "agg_zip_df = pd.merge(violation_count_tot_df, average_score_grade_df, on='ZIPCODE')\n",
    "agg_zip_df = pd.merge(agg_zip_df, violation_count_grade_df, on='ZIPCODE')\n",
    "agg_zip_df['grade_type_violation_count'] = agg_zip_df['grade_type_violation_count']/agg_zip_df['total_violation_count']\n",
    "\n",
    "agg_zip_df = agg_zip_df[agg_zip_df['GRADE']!='NaN']\n",
    "agg_zip_df = pd.pivot_table(agg_zip_df, columns='GRADE', values='grade_type_violation_count', index=['ZIPCODE','total_violation_count','avg_score']).reset_index().fillna(0)\n",
    "agg_zip_df"
   ]
  },
  {
   "cell_type": "markdown",
   "metadata": {},
   "source": [
    "### Read 311 data.\n",
    "\n",
    "This data containts all restaurant related complaints for 2019. 'Unique Key' is a unique identifier for each complaint"
   ]
  },
  {
   "cell_type": "code",
   "execution_count": 22,
   "metadata": {},
   "outputs": [
    {
     "data": {
      "text/html": [
       "<div>\n",
       "<style scoped>\n",
       "    .dataframe tbody tr th:only-of-type {\n",
       "        vertical-align: middle;\n",
       "    }\n",
       "\n",
       "    .dataframe tbody tr th {\n",
       "        vertical-align: top;\n",
       "    }\n",
       "\n",
       "    .dataframe thead th {\n",
       "        text-align: right;\n",
       "    }\n",
       "</style>\n",
       "<table border=\"1\" class=\"dataframe\">\n",
       "  <thead>\n",
       "    <tr style=\"text-align: right;\">\n",
       "      <th></th>\n",
       "      <th>Unique Key</th>\n",
       "      <th>Incident Zip</th>\n",
       "      <th>Complaint Type</th>\n",
       "      <th>Descriptor</th>\n",
       "    </tr>\n",
       "  </thead>\n",
       "  <tbody>\n",
       "    <tr>\n",
       "      <th>0</th>\n",
       "      <td>34057077</td>\n",
       "      <td>10020.0</td>\n",
       "      <td>Food Establishment</td>\n",
       "      <td>Dishwashing/Utensils</td>\n",
       "    </tr>\n",
       "    <tr>\n",
       "      <th>1</th>\n",
       "      <td>34057113</td>\n",
       "      <td>11104.0</td>\n",
       "      <td>Food Poisoning</td>\n",
       "      <td>1 or 2</td>\n",
       "    </tr>\n",
       "    <tr>\n",
       "      <th>2</th>\n",
       "      <td>34057299</td>\n",
       "      <td>10027.0</td>\n",
       "      <td>Food Establishment</td>\n",
       "      <td>Rodents/Insects/Garbage</td>\n",
       "    </tr>\n",
       "    <tr>\n",
       "      <th>3</th>\n",
       "      <td>34057325</td>\n",
       "      <td>10017.0</td>\n",
       "      <td>Food Establishment</td>\n",
       "      <td>Bare Hands in Contact w/ Food</td>\n",
       "    </tr>\n",
       "    <tr>\n",
       "      <th>4</th>\n",
       "      <td>34057330</td>\n",
       "      <td>11385.0</td>\n",
       "      <td>Food Establishment</td>\n",
       "      <td>Bare Hands in Contact w/ Food</td>\n",
       "    </tr>\n",
       "  </tbody>\n",
       "</table>\n",
       "</div>"
      ],
      "text/plain": [
       "   Unique Key  Incident Zip      Complaint Type                     Descriptor\n",
       "0    34057077       10020.0  Food Establishment           Dishwashing/Utensils\n",
       "1    34057113       11104.0      Food Poisoning                         1 or 2\n",
       "2    34057299       10027.0  Food Establishment        Rodents/Insects/Garbage\n",
       "3    34057325       10017.0  Food Establishment  Bare Hands in Contact w/ Food\n",
       "4    34057330       11385.0  Food Establishment  Bare Hands in Contact w/ Food"
      ]
     },
     "execution_count": 22,
     "metadata": {},
     "output_type": "execute_result"
    }
   ],
   "source": [
    "data311 = pd.read_csv('311_foodComplaints.csv')\n",
    "data311.head()"
   ]
  },
  {
   "cell_type": "code",
   "execution_count": 23,
   "metadata": {},
   "outputs": [
    {
     "data": {
      "text/plain": [
       "(22388, 4)"
      ]
     },
     "execution_count": 23,
     "metadata": {},
     "output_type": "execute_result"
    }
   ],
   "source": [
    "data311.shape"
   ]
  },
  {
   "cell_type": "code",
   "execution_count": 24,
   "metadata": {},
   "outputs": [],
   "source": [
    "data311 = data311.rename(columns={\"Incident Zip\": \"ZIPCODE\"})"
   ]
  },
  {
   "cell_type": "markdown",
   "metadata": {},
   "source": [
    "### Group these 311 complaints by zip code"
   ]
  },
  {
   "cell_type": "code",
   "execution_count": 25,
   "metadata": {},
   "outputs": [],
   "source": [
    "group311_df = data311.groupby(['ZIPCODE'])['Unique Key'].count().reset_index()\n",
    "group311_df = group311_df.rename(columns={\"Unique Key\": \"Number_of_Complaints\"})"
   ]
  },
  {
   "cell_type": "code",
   "execution_count": 26,
   "metadata": {},
   "outputs": [],
   "source": [
    "## merge with zips shapefile and normalize 311 complaints by population (per 1000 people)\n",
    "merge311_df = pd.merge(group311_df,zips.drop_duplicates('ZIPCODE'), on='ZIPCODE',how = 'inner')\n",
    "merge311_df['pop_1000']= merge311_df['POPULATION']/1000\n",
    "merge311_df['normalized_complaints']= merge311_df['Number_of_Complaints']/merge311_df['pop_1000']"
   ]
  },
  {
   "cell_type": "code",
   "execution_count": 27,
   "metadata": {},
   "outputs": [],
   "source": [
    "## merge with the violations features data from above\n",
    "\n",
    "merge_all_df = pd.merge(merge311_df, agg_zip_df, on='ZIPCODE',how = 'inner')"
   ]
  },
  {
   "cell_type": "code",
   "execution_count": 28,
   "metadata": {},
   "outputs": [
    {
     "data": {
      "text/html": [
       "<div>\n",
       "<style scoped>\n",
       "    .dataframe tbody tr th:only-of-type {\n",
       "        vertical-align: middle;\n",
       "    }\n",
       "\n",
       "    .dataframe tbody tr th {\n",
       "        vertical-align: top;\n",
       "    }\n",
       "\n",
       "    .dataframe thead th {\n",
       "        text-align: right;\n",
       "    }\n",
       "</style>\n",
       "<table border=\"1\" class=\"dataframe\">\n",
       "  <thead>\n",
       "    <tr style=\"text-align: right;\">\n",
       "      <th></th>\n",
       "      <th>ZIPCODE</th>\n",
       "      <th>Number_of_Complaints</th>\n",
       "      <th>POPULATION</th>\n",
       "      <th>geometry</th>\n",
       "      <th>pop_1000</th>\n",
       "      <th>normalized_complaints</th>\n",
       "      <th>total_violation_count</th>\n",
       "      <th>avg_score</th>\n",
       "      <th>A</th>\n",
       "      <th>B</th>\n",
       "      <th>C</th>\n",
       "    </tr>\n",
       "  </thead>\n",
       "  <tbody>\n",
       "    <tr>\n",
       "      <th>0</th>\n",
       "      <td>10001.0</td>\n",
       "      <td>331</td>\n",
       "      <td>22413.0</td>\n",
       "      <td>POLYGON ((981958.647 213464.453, 981980.328 21...</td>\n",
       "      <td>22.413</td>\n",
       "      <td>14.768215</td>\n",
       "      <td>1087</td>\n",
       "      <td>19.870285</td>\n",
       "      <td>0.435143</td>\n",
       "      <td>0.066237</td>\n",
       "      <td>0.016559</td>\n",
       "    </tr>\n",
       "    <tr>\n",
       "      <th>1</th>\n",
       "      <td>10002.0</td>\n",
       "      <td>348</td>\n",
       "      <td>81305.0</td>\n",
       "      <td>POLYGON ((991339.870 207576.784, 991330.490 20...</td>\n",
       "      <td>81.305</td>\n",
       "      <td>4.280180</td>\n",
       "      <td>1512</td>\n",
       "      <td>21.900662</td>\n",
       "      <td>0.341270</td>\n",
       "      <td>0.095238</td>\n",
       "      <td>0.029101</td>\n",
       "    </tr>\n",
       "  </tbody>\n",
       "</table>\n",
       "</div>"
      ],
      "text/plain": [
       "   ZIPCODE  Number_of_Complaints  POPULATION  \\\n",
       "0  10001.0                   331     22413.0   \n",
       "1  10002.0                   348     81305.0   \n",
       "\n",
       "                                            geometry  pop_1000  \\\n",
       "0  POLYGON ((981958.647 213464.453, 981980.328 21...    22.413   \n",
       "1  POLYGON ((991339.870 207576.784, 991330.490 20...    81.305   \n",
       "\n",
       "   normalized_complaints  total_violation_count  avg_score         A  \\\n",
       "0              14.768215                   1087  19.870285  0.435143   \n",
       "1               4.280180                   1512  21.900662  0.341270   \n",
       "\n",
       "          B         C  \n",
       "0  0.066237  0.016559  \n",
       "1  0.095238  0.029101  "
      ]
     },
     "execution_count": 28,
     "metadata": {},
     "output_type": "execute_result"
    }
   ],
   "source": [
    "merge_all_df.head(2)"
   ]
  },
  {
   "cell_type": "markdown",
   "metadata": {},
   "source": [
    "### Normalize the number of 311 complaints and number of violations by population (per 1000 people)"
   ]
  },
  {
   "cell_type": "code",
   "execution_count": 29,
   "metadata": {},
   "outputs": [],
   "source": [
    "merge_all_df['normalized_violations']= merge_all_df['total_violation_count']/merge_all_df['pop_1000']"
   ]
  },
  {
   "cell_type": "code",
   "execution_count": 30,
   "metadata": {},
   "outputs": [
    {
     "data": {
      "text/html": [
       "<div>\n",
       "<style scoped>\n",
       "    .dataframe tbody tr th:only-of-type {\n",
       "        vertical-align: middle;\n",
       "    }\n",
       "\n",
       "    .dataframe tbody tr th {\n",
       "        vertical-align: top;\n",
       "    }\n",
       "\n",
       "    .dataframe thead th {\n",
       "        text-align: right;\n",
       "    }\n",
       "</style>\n",
       "<table border=\"1\" class=\"dataframe\">\n",
       "  <thead>\n",
       "    <tr style=\"text-align: right;\">\n",
       "      <th></th>\n",
       "      <th>ZIPCODE</th>\n",
       "      <th>Number_of_Complaints</th>\n",
       "      <th>POPULATION</th>\n",
       "      <th>pop_1000</th>\n",
       "      <th>normalized_complaints</th>\n",
       "      <th>total_violation_count</th>\n",
       "      <th>avg_score</th>\n",
       "      <th>A</th>\n",
       "      <th>B</th>\n",
       "      <th>C</th>\n",
       "      <th>normalized_violations</th>\n",
       "    </tr>\n",
       "  </thead>\n",
       "  <tbody>\n",
       "    <tr>\n",
       "      <th>count</th>\n",
       "      <td>201.000000</td>\n",
       "      <td>201.000000</td>\n",
       "      <td>201.000000</td>\n",
       "      <td>201.000000</td>\n",
       "      <td>201.000000</td>\n",
       "      <td>201.000000</td>\n",
       "      <td>201.000000</td>\n",
       "      <td>201.000000</td>\n",
       "      <td>201.000000</td>\n",
       "      <td>201.000000</td>\n",
       "      <td>201.000000</td>\n",
       "    </tr>\n",
       "    <tr>\n",
       "      <th>mean</th>\n",
       "      <td>10761.283582</td>\n",
       "      <td>110.925373</td>\n",
       "      <td>40648.497512</td>\n",
       "      <td>40.648498</td>\n",
       "      <td>inf</td>\n",
       "      <td>304.268657</td>\n",
       "      <td>19.183920</td>\n",
       "      <td>0.452839</td>\n",
       "      <td>0.067590</td>\n",
       "      <td>0.028462</td>\n",
       "      <td>inf</td>\n",
       "    </tr>\n",
       "    <tr>\n",
       "      <th>std</th>\n",
       "      <td>581.276220</td>\n",
       "      <td>100.775192</td>\n",
       "      <td>28378.111363</td>\n",
       "      <td>28.378111</td>\n",
       "      <td>NaN</td>\n",
       "      <td>314.512365</td>\n",
       "      <td>3.428143</td>\n",
       "      <td>0.148355</td>\n",
       "      <td>0.050480</td>\n",
       "      <td>0.033991</td>\n",
       "      <td>NaN</td>\n",
       "    </tr>\n",
       "    <tr>\n",
       "      <th>min</th>\n",
       "      <td>10001.000000</td>\n",
       "      <td>1.000000</td>\n",
       "      <td>0.000000</td>\n",
       "      <td>0.000000</td>\n",
       "      <td>0.170940</td>\n",
       "      <td>1.000000</td>\n",
       "      <td>6.500000</td>\n",
       "      <td>0.000000</td>\n",
       "      <td>0.000000</td>\n",
       "      <td>0.000000</td>\n",
       "      <td>0.512821</td>\n",
       "    </tr>\n",
       "    <tr>\n",
       "      <th>25%</th>\n",
       "      <td>10121.000000</td>\n",
       "      <td>33.000000</td>\n",
       "      <td>18818.000000</td>\n",
       "      <td>18.818000</td>\n",
       "      <td>1.478852</td>\n",
       "      <td>78.000000</td>\n",
       "      <td>18.191083</td>\n",
       "      <td>0.381443</td>\n",
       "      <td>0.037037</td>\n",
       "      <td>0.000000</td>\n",
       "      <td>3.431100</td>\n",
       "    </tr>\n",
       "    <tr>\n",
       "      <th>50%</th>\n",
       "      <td>11004.000000</td>\n",
       "      <td>88.000000</td>\n",
       "      <td>38116.000000</td>\n",
       "      <td>38.116000</td>\n",
       "      <td>2.438132</td>\n",
       "      <td>200.000000</td>\n",
       "      <td>19.587342</td>\n",
       "      <td>0.417722</td>\n",
       "      <td>0.067961</td>\n",
       "      <td>0.023810</td>\n",
       "      <td>5.748858</td>\n",
       "    </tr>\n",
       "    <tr>\n",
       "      <th>75%</th>\n",
       "      <td>11356.000000</td>\n",
       "      <td>153.000000</td>\n",
       "      <td>60267.000000</td>\n",
       "      <td>60.267000</td>\n",
       "      <td>4.203822</td>\n",
       "      <td>395.000000</td>\n",
       "      <td>21.259446</td>\n",
       "      <td>0.470588</td>\n",
       "      <td>0.087719</td>\n",
       "      <td>0.039216</td>\n",
       "      <td>12.659628</td>\n",
       "    </tr>\n",
       "    <tr>\n",
       "      <th>max</th>\n",
       "      <td>11697.000000</td>\n",
       "      <td>505.000000</td>\n",
       "      <td>109069.000000</td>\n",
       "      <td>109.069000</td>\n",
       "      <td>inf</td>\n",
       "      <td>1650.000000</td>\n",
       "      <td>30.500000</td>\n",
       "      <td>1.000000</td>\n",
       "      <td>0.333333</td>\n",
       "      <td>0.285714</td>\n",
       "      <td>inf</td>\n",
       "    </tr>\n",
       "  </tbody>\n",
       "</table>\n",
       "</div>"
      ],
      "text/plain": [
       "            ZIPCODE  Number_of_Complaints     POPULATION    pop_1000  \\\n",
       "count    201.000000            201.000000     201.000000  201.000000   \n",
       "mean   10761.283582            110.925373   40648.497512   40.648498   \n",
       "std      581.276220            100.775192   28378.111363   28.378111   \n",
       "min    10001.000000              1.000000       0.000000    0.000000   \n",
       "25%    10121.000000             33.000000   18818.000000   18.818000   \n",
       "50%    11004.000000             88.000000   38116.000000   38.116000   \n",
       "75%    11356.000000            153.000000   60267.000000   60.267000   \n",
       "max    11697.000000            505.000000  109069.000000  109.069000   \n",
       "\n",
       "       normalized_complaints  total_violation_count   avg_score           A  \\\n",
       "count             201.000000             201.000000  201.000000  201.000000   \n",
       "mean                     inf             304.268657   19.183920    0.452839   \n",
       "std                      NaN             314.512365    3.428143    0.148355   \n",
       "min                 0.170940               1.000000    6.500000    0.000000   \n",
       "25%                 1.478852              78.000000   18.191083    0.381443   \n",
       "50%                 2.438132             200.000000   19.587342    0.417722   \n",
       "75%                 4.203822             395.000000   21.259446    0.470588   \n",
       "max                      inf            1650.000000   30.500000    1.000000   \n",
       "\n",
       "                B           C  normalized_violations  \n",
       "count  201.000000  201.000000             201.000000  \n",
       "mean     0.067590    0.028462                    inf  \n",
       "std      0.050480    0.033991                    NaN  \n",
       "min      0.000000    0.000000               0.512821  \n",
       "25%      0.037037    0.000000               3.431100  \n",
       "50%      0.067961    0.023810               5.748858  \n",
       "75%      0.087719    0.039216              12.659628  \n",
       "max      0.333333    0.285714                    inf  "
      ]
     },
     "execution_count": 30,
     "metadata": {},
     "output_type": "execute_result"
    }
   ],
   "source": [
    "# check statistics of all features\n",
    "merge_all_df.describe()"
   ]
  },
  {
   "cell_type": "code",
   "execution_count": 31,
   "metadata": {},
   "outputs": [],
   "source": [
    "## keep only rows where normalized 311 complaints (per 1000 people) are <30\n",
    "merge_all_df = merge_all_df[merge_all_df['normalized_complaints'] < 30]"
   ]
  },
  {
   "cell_type": "code",
   "execution_count": 32,
   "metadata": {},
   "outputs": [
    {
     "data": {
      "text/html": [
       "<div>\n",
       "<style scoped>\n",
       "    .dataframe tbody tr th:only-of-type {\n",
       "        vertical-align: middle;\n",
       "    }\n",
       "\n",
       "    .dataframe tbody tr th {\n",
       "        vertical-align: top;\n",
       "    }\n",
       "\n",
       "    .dataframe thead th {\n",
       "        text-align: right;\n",
       "    }\n",
       "</style>\n",
       "<table border=\"1\" class=\"dataframe\">\n",
       "  <thead>\n",
       "    <tr style=\"text-align: right;\">\n",
       "      <th></th>\n",
       "      <th>ZIPCODE</th>\n",
       "      <th>Number_of_Complaints</th>\n",
       "      <th>POPULATION</th>\n",
       "      <th>geometry</th>\n",
       "      <th>pop_1000</th>\n",
       "      <th>normalized_complaints</th>\n",
       "      <th>total_violation_count</th>\n",
       "      <th>avg_score</th>\n",
       "      <th>A</th>\n",
       "      <th>B</th>\n",
       "      <th>C</th>\n",
       "      <th>normalized_violations</th>\n",
       "    </tr>\n",
       "  </thead>\n",
       "  <tbody>\n",
       "    <tr>\n",
       "      <th>0</th>\n",
       "      <td>10001.0</td>\n",
       "      <td>331</td>\n",
       "      <td>22413.0</td>\n",
       "      <td>POLYGON ((981958.647 213464.453, 981980.328 21...</td>\n",
       "      <td>22.413</td>\n",
       "      <td>14.768215</td>\n",
       "      <td>1087</td>\n",
       "      <td>19.870285</td>\n",
       "      <td>0.435143</td>\n",
       "      <td>0.066237</td>\n",
       "      <td>0.016559</td>\n",
       "      <td>48.498639</td>\n",
       "    </tr>\n",
       "    <tr>\n",
       "      <th>1</th>\n",
       "      <td>10002.0</td>\n",
       "      <td>348</td>\n",
       "      <td>81305.0</td>\n",
       "      <td>POLYGON ((991339.870 207576.784, 991330.490 20...</td>\n",
       "      <td>81.305</td>\n",
       "      <td>4.280180</td>\n",
       "      <td>1512</td>\n",
       "      <td>21.900662</td>\n",
       "      <td>0.341270</td>\n",
       "      <td>0.095238</td>\n",
       "      <td>0.029101</td>\n",
       "      <td>18.596642</td>\n",
       "    </tr>\n",
       "  </tbody>\n",
       "</table>\n",
       "</div>"
      ],
      "text/plain": [
       "   ZIPCODE  Number_of_Complaints  POPULATION  \\\n",
       "0  10001.0                   331     22413.0   \n",
       "1  10002.0                   348     81305.0   \n",
       "\n",
       "                                            geometry  pop_1000  \\\n",
       "0  POLYGON ((981958.647 213464.453, 981980.328 21...    22.413   \n",
       "1  POLYGON ((991339.870 207576.784, 991330.490 20...    81.305   \n",
       "\n",
       "   normalized_complaints  total_violation_count  avg_score         A  \\\n",
       "0              14.768215                   1087  19.870285  0.435143   \n",
       "1               4.280180                   1512  21.900662  0.341270   \n",
       "\n",
       "          B         C  normalized_violations  \n",
       "0  0.066237  0.016559              48.498639  \n",
       "1  0.095238  0.029101              18.596642  "
      ]
     },
     "execution_count": 32,
     "metadata": {},
     "output_type": "execute_result"
    }
   ],
   "source": [
    "merge_all_df.head(2)"
   ]
  },
  {
   "cell_type": "code",
   "execution_count": 33,
   "metadata": {},
   "outputs": [],
   "source": [
    "#make it geopandas dataframe to visualize on map\n",
    "merge_all_df_gpd = gpd.GeoDataFrame(merge_all_df)"
   ]
  },
  {
   "cell_type": "markdown",
   "metadata": {},
   "source": [
    "### Visualization\n",
    "\n",
    "Plot normalized number of violations, average score and normalized 311 complaints on separate maps "
   ]
  },
  {
   "cell_type": "code",
   "execution_count": 34,
   "metadata": {},
   "outputs": [
    {
     "data": {
      "text/plain": [
       "<AxesSubplot:>"
      ]
     },
     "execution_count": 34,
     "metadata": {},
     "output_type": "execute_result"
    },
    {
     "data": {
      "image/png": "[encoded data removed]",
      "text/plain": [
       "<Figure size 720x720 with 2 Axes>"
      ]
     },
     "metadata": {
      "needs_background": "light"
     },
     "output_type": "display_data"
    }
   ],
   "source": [
    "## normalized number of violations (per 1000 people)\n",
    "merge_all_df_gpd.plot(column='normalized_violations',colormap='Spectral_r',legend=True,markersize=0.01,figsize=(10,10),missing_kwds={\n",
    "                \"color\": \"lightgrey\", ## what to do with missing values\n",
    "                \"edgecolor\": \"red\",\n",
    "                \"hatch\": \"///\",\n",
    "                \"label\": \"Missing values\",\n",
    "                },)"
   ]
  },
  {
   "cell_type": "code",
   "execution_count": 35,
   "metadata": {},
   "outputs": [
    {
     "data": {
      "text/plain": [
       "<AxesSubplot:>"
      ]
     },
     "execution_count": 35,
     "metadata": {},
     "output_type": "execute_result"
    },
    {
     "data": {
      "image/png": "[encoded data removed]",
      "text/plain": [
       "<Figure size 720x720 with 2 Axes>"
      ]
     },
     "metadata": {
      "needs_background": "light"
     },
     "output_type": "display_data"
    }
   ],
   "source": [
    "## average score\n",
    "merge_all_df_gpd.plot(column='avg_score',colormap='Spectral_r',legend=True,markersize=0.01,figsize=(10,10),missing_kwds={\n",
    "                \"color\": \"lightgrey\", ## what to do with missing values\n",
    "                \"edgecolor\": \"red\",\n",
    "                \"hatch\": \"///\",\n",
    "                \"label\": \"Missing values\",\n",
    "                },)"
   ]
  },
  {
   "cell_type": "code",
   "execution_count": 36,
   "metadata": {},
   "outputs": [
    {
     "data": {
      "text/plain": [
       "<AxesSubplot:>"
      ]
     },
     "execution_count": 36,
     "metadata": {},
     "output_type": "execute_result"
    },
    {
     "data": {
      "image/png": "[encoded data removed]",
      "text/plain": [
       "<Figure size 720x720 with 2 Axes>"
      ]
     },
     "metadata": {
      "needs_background": "light"
     },
     "output_type": "display_data"
    }
   ],
   "source": [
    "## normalized 311 complaints (per 1000 people)\n",
    "\n",
    "merge_all_df_gpd.plot(column='normalized_complaints',colormap='Spectral_r',legend=True,markersize=0.01,figsize=(10,10),missing_kwds={\n",
    "                \"color\": \"lightgrey\", ## what to do with missing values\n",
    "                \"edgecolor\": \"red\",\n",
    "                \"hatch\": \"///\",\n",
    "                \"label\": \"Missing values\",\n",
    "                },)"
   ]
  },
  {
   "cell_type": "markdown",
   "metadata": {},
   "source": [
    "### Perform clustering analyses by assigning each zipcode to a cluster. Use K-means clustering and choose appropriate number of clusters with average silhouette score and visualize the clusters on the map.\n",
    "\n",
    "Take only the following features: normalized number of violations, average score and ratios for each grade for the task\n",
    "\n",
    "These features make an approximate profile of a neighborhood in terms of the quality and performance of restaurants and food businesses present there. With clustering, we would get an idea about what areas have similar profiles and would help understand the areas where restaurants behave similarly. \n",
    "\n",
    "Make sure to standardize the data before clustering"
   ]
  },
  {
   "cell_type": "code",
   "execution_count": 37,
   "metadata": {},
   "outputs": [],
   "source": [
    "## perform clustring analyses\n",
    "## use average silhouette score (just report the scores and choose best for number of clusters to be used)\n",
    "## try with (3-15 clusters)\n"
   ]
  },
  {
   "cell_type": "code",
   "execution_count": 38,
   "metadata": {},
   "outputs": [],
   "source": [
    "selected_df = merge_all_df[['ZIPCODE','normalized_violations','avg_score','A','B','C']]\n",
    "selected_df= selected_df.set_index('ZIPCODE')\n",
    "selected_mean = selected_df.mean().to_dict()\n",
    "selected_std = selected_df.std().to_dict()"
   ]
  },
  {
   "cell_type": "code",
   "execution_count": 39,
   "metadata": {},
   "outputs": [],
   "source": [
    "for col in selected_df.columns:\n",
    "    selected_df[col] = (selected_df[col] - selected_mean[col])/selected_std[col]"
   ]
  },
  {
   "cell_type": "code",
   "execution_count": 40,
   "metadata": {},
   "outputs": [
    {
     "data": {
      "text/html": [
       "<div>\n",
       "<style scoped>\n",
       "    .dataframe tbody tr th:only-of-type {\n",
       "        vertical-align: middle;\n",
       "    }\n",
       "\n",
       "    .dataframe tbody tr th {\n",
       "        vertical-align: top;\n",
       "    }\n",
       "\n",
       "    .dataframe thead th {\n",
       "        text-align: right;\n",
       "    }\n",
       "</style>\n",
       "<table border=\"1\" class=\"dataframe\">\n",
       "  <thead>\n",
       "    <tr style=\"text-align: right;\">\n",
       "      <th></th>\n",
       "      <th>normalized_violations</th>\n",
       "      <th>avg_score</th>\n",
       "      <th>A</th>\n",
       "      <th>B</th>\n",
       "      <th>C</th>\n",
       "    </tr>\n",
       "    <tr>\n",
       "      <th>ZIPCODE</th>\n",
       "      <th></th>\n",
       "      <th></th>\n",
       "      <th></th>\n",
       "      <th></th>\n",
       "      <th></th>\n",
       "    </tr>\n",
       "  </thead>\n",
       "  <tbody>\n",
       "    <tr>\n",
       "      <th>10001.0</th>\n",
       "      <td>4.366083</td>\n",
       "      <td>0.049474</td>\n",
       "      <td>0.134235</td>\n",
       "      <td>-0.169548</td>\n",
       "      <td>-0.419605</td>\n",
       "    </tr>\n",
       "    <tr>\n",
       "      <th>10002.0</th>\n",
       "      <td>1.118381</td>\n",
       "      <td>0.818585</td>\n",
       "      <td>-0.825497</td>\n",
       "      <td>0.428622</td>\n",
       "      <td>-0.057242</td>\n",
       "    </tr>\n",
       "    <tr>\n",
       "      <th>10003.0</th>\n",
       "      <td>2.305720</td>\n",
       "      <td>0.014534</td>\n",
       "      <td>-0.311801</td>\n",
       "      <td>0.301830</td>\n",
       "      <td>-0.197611</td>\n",
       "    </tr>\n",
       "    <tr>\n",
       "      <th>10005.0</th>\n",
       "      <td>0.625858</td>\n",
       "      <td>-0.456301</td>\n",
       "      <td>0.797322</td>\n",
       "      <td>-0.450181</td>\n",
       "      <td>-0.137704</td>\n",
       "    </tr>\n",
       "    <tr>\n",
       "      <th>10006.0</th>\n",
       "      <td>2.597515</td>\n",
       "      <td>0.192334</td>\n",
       "      <td>-0.414773</td>\n",
       "      <td>-0.472564</td>\n",
       "      <td>0.293431</td>\n",
       "    </tr>\n",
       "  </tbody>\n",
       "</table>\n",
       "</div>"
      ],
      "text/plain": [
       "         normalized_violations  avg_score         A         B         C\n",
       "ZIPCODE                                                                \n",
       "10001.0               4.366083   0.049474  0.134235 -0.169548 -0.419605\n",
       "10002.0               1.118381   0.818585 -0.825497  0.428622 -0.057242\n",
       "10003.0               2.305720   0.014534 -0.311801  0.301830 -0.197611\n",
       "10005.0               0.625858  -0.456301  0.797322 -0.450181 -0.137704\n",
       "10006.0               2.597515   0.192334 -0.414773 -0.472564  0.293431"
      ]
     },
     "execution_count": 40,
     "metadata": {},
     "output_type": "execute_result"
    }
   ],
   "source": [
    "selected_df.head()"
   ]
  },
  {
   "cell_type": "code",
   "execution_count": 41,
   "metadata": {},
   "outputs": [
    {
     "name": "stdout",
     "output_type": "stream",
     "text": [
      "For n_clusters =3, the average silhouette_score is :0.31576568975207475\n",
      "For n_clusters =4, the average silhouette_score is :0.3605977339331824\n",
      "For n_clusters =5, the average silhouette_score is :0.3644171654563263\n",
      "For n_clusters =6, the average silhouette_score is :0.3307396981951205\n",
      "For n_clusters =7, the average silhouette_score is :0.238574365413165\n",
      "For n_clusters =8, the average silhouette_score is :0.2385741209775579\n",
      "For n_clusters =9, the average silhouette_score is :0.22833691436277875\n",
      "For n_clusters =10, the average silhouette_score is :0.24904355593700758\n",
      "For n_clusters =11, the average silhouette_score is :0.24160291209615212\n",
      "For n_clusters =12, the average silhouette_score is :0.23815085183199294\n",
      "For n_clusters =13, the average silhouette_score is :0.248280466095079\n",
      "For n_clusters =14, the average silhouette_score is :0.25377091613060526\n"
     ]
    }
   ],
   "source": [
    "for n_clusters in range(3, 15): #try different numbers of clusters\n",
    "    km = KMeans(n_clusters=n_clusters, random_state=99)\n",
    "    cluster_labels = km.fit_predict(selected_df)\n",
    "    #report average Silhouette score\n",
    "    silhouette_avg = silhouette_score(selected_df, cluster_labels)\n",
    "    print(\"For n_clusters ={},\".format(n_clusters)+\" the average silhouette_score is :{}\".format(silhouette_avg))"
   ]
  },
  {
   "cell_type": "markdown",
   "metadata": {},
   "source": [
    "***For n_clusters =5, the average silhouette_score is :0.3644171654563263 , is the highest. So we can selected K =5***"
   ]
  },
  {
   "cell_type": "code",
   "execution_count": 42,
   "metadata": {},
   "outputs": [
    {
     "name": "stdout",
     "output_type": "stream",
     "text": [
      "[3 0 3 4 3 3 4 4 4 3 3 3 4 3 3 4 3 4 4 0 0 4 4 0 4 4 0 0 0 4 3 0 3 4 4 1 4\n",
      " 0 4 4 1 4 1 4 4 4 4 4 4 1 4 4 4 4 4 4 0 0 0 0 4 0 0 4 4 4 4 0 4 4 4 4 0 4\n",
      " 0 4 4 4 0 4 2 1 1 1 3 4 4 4 4 4 4 4 0 4 4 4 4 4 4 4 4 4 0 4 4 4 4 4 4 0 0\n",
      " 4 4 4 4 4 0 4 4 4 4 4 4 4 0 4 4 0 4 0 0 0 1 4 1 4 4 4 4 4 4 4 4 1 0 4 4 4\n",
      " 4 4 4 4 4 4 4 4 4 0 0 0 0 0 4 4 4 4 0 4 4 1 4 4 4 4 0 4 1 4 1 4]\n"
     ]
    }
   ],
   "source": [
    "from sklearn.cluster import KMeans\n",
    "k = 5\n",
    "#initialize the model\n",
    "km=KMeans(random_state=99,n_clusters=k)\n",
    "res=km.fit(selected_df) #train the model\n",
    "y_t=res.labels_\n",
    "print(y_t) #output the result"
   ]
  },
  {
   "cell_type": "code",
   "execution_count": 43,
   "metadata": {},
   "outputs": [],
   "source": [
    "selected_df['label'] = y_t\n",
    "selected_df = selected_df.reset_index()"
   ]
  },
  {
   "cell_type": "code",
   "execution_count": 44,
   "metadata": {},
   "outputs": [
    {
     "data": {
      "text/plain": [
       "(180, 7)"
      ]
     },
     "execution_count": 44,
     "metadata": {},
     "output_type": "execute_result"
    }
   ],
   "source": [
    "selected_df.shape"
   ]
  },
  {
   "cell_type": "code",
   "execution_count": 45,
   "metadata": {},
   "outputs": [],
   "source": [
    "selected_df = zips.drop_duplicates(['ZIPCODE']).merge(selected_df,on = 'ZIPCODE', how='inner')\n",
    "selected_df['label'] = selected_df['label'].astype(str)"
   ]
  },
  {
   "cell_type": "code",
   "execution_count": 46,
   "metadata": {},
   "outputs": [
    {
     "data": {
      "text/plain": [
       "<AxesSubplot:>"
      ]
     },
     "execution_count": 46,
     "metadata": {},
     "output_type": "execute_result"
    },
    {
     "data": {
      "image/png": "[encoded data removed]",
      "text/plain": [
       "<Figure size 720x720 with 1 Axes>"
      ]
     },
     "metadata": {
      "needs_background": "light"
     },
     "output_type": "display_data"
    }
   ],
   "source": [
    "## plot all clustered zips in the map\n",
    "fig, ax = plt.subplots(1, figsize=(10,10))\n",
    "\n",
    "selected_df.plot(ax=ax, column='label', legend=True, cmap='PiYG')\n"
   ]
  },
  {
   "cell_type": "markdown",
   "metadata": {},
   "source": [
    "### Perform a regression analyses with normalized 311 complaints as the target and above features (normalized number of violations, average score, and ratios of 'A', 'B' and 'C' grades) as regressors. Comment on the signficance of each feature.\n",
    "\n",
    "Include the intercept for the regression analysis. Try performing regression with each of the regressors individually (with normalized 311 complaints as target). Comment on how these regressor perform against each other. What do you think could be any problems when doing regression with all regressors together? Also comment on the coeffiecients of each regressor and whether or not they are significant."
   ]
  },
  {
   "cell_type": "code",
   "execution_count": 47,
   "metadata": {},
   "outputs": [],
   "source": [
    "regress_df = merge_all_df[['ZIPCODE','normalized_complaints','normalized_violations','avg_score','A','B','C']]"
   ]
  },
  {
   "cell_type": "code",
   "execution_count": 48,
   "metadata": {},
   "outputs": [
    {
     "data": {
      "text/html": [
       "<div>\n",
       "<style scoped>\n",
       "    .dataframe tbody tr th:only-of-type {\n",
       "        vertical-align: middle;\n",
       "    }\n",
       "\n",
       "    .dataframe tbody tr th {\n",
       "        vertical-align: top;\n",
       "    }\n",
       "\n",
       "    .dataframe thead th {\n",
       "        text-align: right;\n",
       "    }\n",
       "</style>\n",
       "<table border=\"1\" class=\"dataframe\">\n",
       "  <thead>\n",
       "    <tr style=\"text-align: right;\">\n",
       "      <th></th>\n",
       "      <th>ZIPCODE</th>\n",
       "      <th>normalized_complaints</th>\n",
       "      <th>normalized_violations</th>\n",
       "      <th>avg_score</th>\n",
       "      <th>A</th>\n",
       "      <th>B</th>\n",
       "      <th>C</th>\n",
       "    </tr>\n",
       "  </thead>\n",
       "  <tbody>\n",
       "    <tr>\n",
       "      <th>0</th>\n",
       "      <td>10001.0</td>\n",
       "      <td>14.768215</td>\n",
       "      <td>48.498639</td>\n",
       "      <td>19.870285</td>\n",
       "      <td>0.435143</td>\n",
       "      <td>0.066237</td>\n",
       "      <td>0.016559</td>\n",
       "    </tr>\n",
       "    <tr>\n",
       "      <th>1</th>\n",
       "      <td>10002.0</td>\n",
       "      <td>4.280180</td>\n",
       "      <td>18.596642</td>\n",
       "      <td>21.900662</td>\n",
       "      <td>0.341270</td>\n",
       "      <td>0.095238</td>\n",
       "      <td>0.029101</td>\n",
       "    </tr>\n",
       "    <tr>\n",
       "      <th>2</th>\n",
       "      <td>10003.0</td>\n",
       "      <td>9.037546</td>\n",
       "      <td>29.528616</td>\n",
       "      <td>19.778047</td>\n",
       "      <td>0.391515</td>\n",
       "      <td>0.089091</td>\n",
       "      <td>0.024242</td>\n",
       "    </tr>\n",
       "    <tr>\n",
       "      <th>4</th>\n",
       "      <td>10005.0</td>\n",
       "      <td>6.784261</td>\n",
       "      <td>14.061922</td>\n",
       "      <td>18.535088</td>\n",
       "      <td>0.500000</td>\n",
       "      <td>0.052632</td>\n",
       "      <td>0.026316</td>\n",
       "    </tr>\n",
       "    <tr>\n",
       "      <th>5</th>\n",
       "      <td>10006.0</td>\n",
       "      <td>12.288276</td>\n",
       "      <td>32.215211</td>\n",
       "      <td>20.247423</td>\n",
       "      <td>0.381443</td>\n",
       "      <td>0.051546</td>\n",
       "      <td>0.041237</td>\n",
       "    </tr>\n",
       "  </tbody>\n",
       "</table>\n",
       "</div>"
      ],
      "text/plain": [
       "   ZIPCODE  normalized_complaints  normalized_violations  avg_score         A  \\\n",
       "0  10001.0              14.768215              48.498639  19.870285  0.435143   \n",
       "1  10002.0               4.280180              18.596642  21.900662  0.341270   \n",
       "2  10003.0               9.037546              29.528616  19.778047  0.391515   \n",
       "4  10005.0               6.784261              14.061922  18.535088  0.500000   \n",
       "5  10006.0              12.288276              32.215211  20.247423  0.381443   \n",
       "\n",
       "          B         C  \n",
       "0  0.066237  0.016559  \n",
       "1  0.095238  0.029101  \n",
       "2  0.089091  0.024242  \n",
       "4  0.052632  0.026316  \n",
       "5  0.051546  0.041237  "
      ]
     },
     "execution_count": 48,
     "metadata": {},
     "output_type": "execute_result"
    }
   ],
   "source": [
    "regress_df.head()"
   ]
  },
  {
   "cell_type": "code",
   "execution_count": 49,
   "metadata": {},
   "outputs": [
    {
     "name": "stdout",
     "output_type": "stream",
     "text": [
      "                              OLS Regression Results                             \n",
      "=================================================================================\n",
      "Dep. Variable:     normalized_complaints   R-squared:                       0.876\n",
      "Model:                               OLS   Adj. R-squared:                  0.875\n",
      "Method:                    Least Squares   F-statistic:                     1259.\n",
      "Date:                   Fri, 10 Dec 2021   Prob (F-statistic):           1.18e-82\n",
      "Time:                           14:27:16   Log-Likelihood:                -266.79\n",
      "No. Observations:                    180   AIC:                             537.6\n",
      "Df Residuals:                        178   BIC:                             544.0\n",
      "Df Model:                              1                                         \n",
      "Covariance Type:               nonrobust                                         \n",
      "=========================================================================================\n",
      "                            coef    std err          t      P>|t|      [0.025      0.975]\n",
      "-----------------------------------------------------------------------------------------\n",
      "Intercept                 0.5474      0.108      5.086      0.000       0.335       0.760\n",
      "normalized_violations     0.3086      0.009     35.485      0.000       0.291       0.326\n",
      "==============================================================================\n",
      "Omnibus:                       91.457   Durbin-Watson:                   1.563\n",
      "Prob(Omnibus):                  0.000   Jarque-Bera (JB):              568.542\n",
      "Skew:                           1.808   Prob(JB):                    3.49e-124\n",
      "Kurtosis:                      10.920   Cond. No.                         16.7\n",
      "==============================================================================\n",
      "\n",
      "Notes:\n",
      "[1] Standard Errors assume that the covariance matrix of the errors is correctly specified.\n"
     ]
    }
   ],
   "source": [
    "# Target - normalized_complaints and Regressor -  normalized_violations\n",
    "\n",
    "lm_vio = smf.ols(formula = 'normalized_complaints ~ normalized_violations', data = regress_df).fit()\n",
    "print(lm_vio.summary())"
   ]
  },
  {
   "cell_type": "code",
   "execution_count": 50,
   "metadata": {},
   "outputs": [
    {
     "name": "stdout",
     "output_type": "stream",
     "text": [
      "                              OLS Regression Results                             \n",
      "=================================================================================\n",
      "Dep. Variable:     normalized_complaints   R-squared:                       0.001\n",
      "Model:                               OLS   Adj. R-squared:                 -0.004\n",
      "Method:                    Least Squares   F-statistic:                    0.2496\n",
      "Date:                   Fri, 10 Dec 2021   Prob (F-statistic):              0.618\n",
      "Time:                           14:27:25   Log-Likelihood:                -454.65\n",
      "No. Observations:                    180   AIC:                             913.3\n",
      "Df Residuals:                        178   BIC:                             919.7\n",
      "Df Model:                              1                                         \n",
      "Covariance Type:               nonrobust                                         \n",
      "==============================================================================\n",
      "                 coef    std err          t      P>|t|      [0.025      0.975]\n",
      "------------------------------------------------------------------------------\n",
      "Intercept      2.2592      1.715      1.317      0.189      -1.125       5.644\n",
      "avg_score      0.0430      0.086      0.500      0.618      -0.127       0.213\n",
      "==============================================================================\n",
      "Omnibus:                      119.227   Durbin-Watson:                   0.962\n",
      "Prob(Omnibus):                  0.000   Jarque-Bera (JB):              655.783\n",
      "Skew:                           2.644   Prob(JB):                    3.97e-143\n",
      "Kurtosis:                      10.713   Cond. No.                         151.\n",
      "==============================================================================\n",
      "\n",
      "Notes:\n",
      "[1] Standard Errors assume that the covariance matrix of the errors is correctly specified.\n"
     ]
    }
   ],
   "source": [
    "# Target - normalized_complaints and Regressor -  avg_score\n",
    "\n",
    "lm_score = smf.ols(formula = 'normalized_complaints ~ avg_score', data = regress_df).fit()\n",
    "print(lm_score.summary())"
   ]
  },
  {
   "cell_type": "code",
   "execution_count": 51,
   "metadata": {},
   "outputs": [
    {
     "name": "stdout",
     "output_type": "stream",
     "text": [
      "                              OLS Regression Results                             \n",
      "=================================================================================\n",
      "Dep. Variable:     normalized_complaints   R-squared:                       0.001\n",
      "Model:                               OLS   Adj. R-squared:                 -0.005\n",
      "Method:                    Least Squares   F-statistic:                    0.1665\n",
      "Date:                   Fri, 10 Dec 2021   Prob (F-statistic):              0.684\n",
      "Time:                           14:27:46   Log-Likelihood:                -454.69\n",
      "No. Observations:                    180   AIC:                             913.4\n",
      "Df Residuals:                        178   BIC:                             919.8\n",
      "Df Model:                              1                                         \n",
      "Covariance Type:               nonrobust                                         \n",
      "==============================================================================\n",
      "                 coef    std err          t      P>|t|      [0.025      0.975]\n",
      "------------------------------------------------------------------------------\n",
      "Intercept      2.7082      1.007      2.689      0.008       0.721       4.696\n",
      "A              0.9486      2.325      0.408      0.684      -3.639       5.537\n",
      "==============================================================================\n",
      "Omnibus:                      120.230   Durbin-Watson:                   0.949\n",
      "Prob(Omnibus):                  0.000   Jarque-Bera (JB):              674.389\n",
      "Skew:                           2.662   Prob(JB):                    3.62e-147\n",
      "Kurtosis:                      10.847   Cond. No.                         12.1\n",
      "==============================================================================\n",
      "\n",
      "Notes:\n",
      "[1] Standard Errors assume that the covariance matrix of the errors is correctly specified.\n"
     ]
    }
   ],
   "source": [
    "# Target - normalized_complaints and Regressor -  A Grade\n",
    "\n",
    "lm_A = smf.ols(formula = 'normalized_complaints ~ A', data = regress_df).fit()\n",
    "print(lm_A.summary())"
   ]
  },
  {
   "cell_type": "code",
   "execution_count": 52,
   "metadata": {},
   "outputs": [
    {
     "name": "stdout",
     "output_type": "stream",
     "text": [
      "                              OLS Regression Results                             \n",
      "=================================================================================\n",
      "Dep. Variable:     normalized_complaints   R-squared:                       0.007\n",
      "Model:                               OLS   Adj. R-squared:                  0.002\n",
      "Method:                    Least Squares   F-statistic:                     1.285\n",
      "Date:                   Fri, 10 Dec 2021   Prob (F-statistic):              0.258\n",
      "Time:                           14:27:57   Log-Likelihood:                -454.12\n",
      "No. Observations:                    180   AIC:                             912.2\n",
      "Df Residuals:                        178   BIC:                             918.6\n",
      "Df Model:                              1                                         \n",
      "Covariance Type:               nonrobust                                         \n",
      "==============================================================================\n",
      "                 coef    std err          t      P>|t|      [0.025      0.975]\n",
      "------------------------------------------------------------------------------\n",
      "Intercept      3.5033      0.415      8.439      0.000       2.684       4.322\n",
      "B             -5.3014      4.676     -1.134      0.258     -14.529       3.926\n",
      "==============================================================================\n",
      "Omnibus:                      120.128   Durbin-Watson:                   0.972\n",
      "Prob(Omnibus):                  0.000   Jarque-Bera (JB):              678.916\n",
      "Skew:                           2.654   Prob(JB):                    3.76e-148\n",
      "Kurtosis:                      10.896   Cond. No.                         20.8\n",
      "==============================================================================\n",
      "\n",
      "Notes:\n",
      "[1] Standard Errors assume that the covariance matrix of the errors is correctly specified.\n"
     ]
    }
   ],
   "source": [
    "# Target - normalized_complaints and Regressor -  B Grade\n",
    "\n",
    "lm_B = smf.ols(formula = 'normalized_complaints ~ B', data = regress_df).fit()\n",
    "print(lm_B.summary())"
   ]
  },
  {
   "cell_type": "code",
   "execution_count": 53,
   "metadata": {},
   "outputs": [
    {
     "name": "stdout",
     "output_type": "stream",
     "text": [
      "                              OLS Regression Results                             \n",
      "=================================================================================\n",
      "Dep. Variable:     normalized_complaints   R-squared:                       0.006\n",
      "Model:                               OLS   Adj. R-squared:                  0.000\n",
      "Method:                    Least Squares   F-statistic:                     1.033\n",
      "Date:                   Fri, 10 Dec 2021   Prob (F-statistic):              0.311\n",
      "Time:                           14:28:07   Log-Likelihood:                -454.25\n",
      "No. Observations:                    180   AIC:                             912.5\n",
      "Df Residuals:                        178   BIC:                             918.9\n",
      "Df Model:                              1                                         \n",
      "Covariance Type:               nonrobust                                         \n",
      "==============================================================================\n",
      "                 coef    std err          t      P>|t|      [0.025      0.975]\n",
      "------------------------------------------------------------------------------\n",
      "Intercept      3.3156      0.304     10.891      0.000       2.715       3.916\n",
      "C             -6.6615      6.555     -1.016      0.311     -19.597       6.274\n",
      "==============================================================================\n",
      "Omnibus:                      120.082   Durbin-Watson:                   0.948\n",
      "Prob(Omnibus):                  0.000   Jarque-Bera (JB):              675.067\n",
      "Skew:                           2.656   Prob(JB):                    2.58e-147\n",
      "Kurtosis:                      10.861   Cond. No.                         29.0\n",
      "==============================================================================\n",
      "\n",
      "Notes:\n",
      "[1] Standard Errors assume that the covariance matrix of the errors is correctly specified.\n"
     ]
    }
   ],
   "source": [
    "# Target - normalized_complaints and Regressor -  C Grade\n",
    "\n",
    "lm_C = smf.ols(formula = 'normalized_complaints ~ C', data = regress_df).fit()\n",
    "print(lm_C.summary())"
   ]
  },
  {
   "cell_type": "markdown",
   "metadata": {},
   "source": [
    "***Comment on how these regressor perform against each other. What do you think could be any problems when doing regression with all regressors together? Also comment on the coeffiecients of each regressor and whether or not they are significant.***\n",
    "\n",
    "***Ans***\n",
    "\n",
    "***Normalized_Violations -*** R-squared: 0.876 , P- value : 0.000 <br>\n",
    "***Avg Score -*** R-squared: 0.001 , P- value : 0.618 <br>\n",
    "***A -*** R-squared: 0.001 , P- value : 0.684 <br>\n",
    "***B -*** R-squared: 0.007 , P- value : 0.258 <br>\n",
    "***C -*** R-squared: 0.006 , P- value : 0.311 <br>\n",
    "\n",
    "P-value less than 0.05 is considered as significant, because it shows the 95% significance in results. Only \"Normalized Violation\" feature has a P value < 0.05, all other features have p-value greater than 0.05. \n",
    "Also R2 value is significant for \"Normalized violations\" feature only, corresponding to rest of the four features its negligible. \n",
    "\n",
    "From above analysis, we can say that only \"Normalised_Violations\" feature is a significant regressor for the model, rest 4 are not performing well hence can cause noise if included while training a model with all regressors together."
   ]
  },
  {
   "cell_type": "code",
   "execution_count": 55,
   "metadata": {},
   "outputs": [
    {
     "name": "stdout",
     "output_type": "stream",
     "text": [
      "                              OLS Regression Results                             \n",
      "=================================================================================\n",
      "Dep. Variable:     normalized_complaints   R-squared:                       0.886\n",
      "Model:                               OLS   Adj. R-squared:                  0.883\n",
      "Method:                    Least Squares   F-statistic:                     270.7\n",
      "Date:                   Fri, 10 Dec 2021   Prob (F-statistic):           4.39e-80\n",
      "Time:                           14:29:35   Log-Likelihood:                -259.27\n",
      "No. Observations:                    180   AIC:                             530.5\n",
      "Df Residuals:                        174   BIC:                             549.7\n",
      "Df Model:                              5                                         \n",
      "Covariance Type:               nonrobust                                         \n",
      "=========================================================================================\n",
      "                            coef    std err          t      P>|t|      [0.025      0.975]\n",
      "-----------------------------------------------------------------------------------------\n",
      "Intercept                -2.2270      1.467     -1.518      0.131      -5.123       0.669\n",
      "normalized_violations     0.3109      0.009     36.336      0.000       0.294       0.328\n",
      "avg_score                 0.0405      0.044      0.921      0.358      -0.046       0.127\n",
      "A                         4.3236      1.495      2.891      0.004       1.372       7.275\n",
      "B                         1.8216      2.218      0.821      0.413      -2.556       6.200\n",
      "C                        -0.1480      2.389     -0.062      0.951      -4.863       4.567\n",
      "==============================================================================\n",
      "Omnibus:                       89.810   Durbin-Watson:                   1.687\n",
      "Prob(Omnibus):                  0.000   Jarque-Bera (JB):              592.085\n",
      "Skew:                           1.741   Prob(JB):                    2.69e-129\n",
      "Kurtosis:                      11.175   Cond. No.                         813.\n",
      "==============================================================================\n",
      "\n",
      "Notes:\n",
      "[1] Standard Errors assume that the covariance matrix of the errors is correctly specified.\n"
     ]
    }
   ],
   "source": [
    "#all five features together as regressors with target Normalized complaints\n",
    "lm_C = smf.ols(formula = 'normalized_complaints ~ normalized_violations+avg_score+A+B+C', data = regress_df).fit()\n",
    "print(lm_C.summary())"
   ]
  },
  {
   "cell_type": "markdown",
   "metadata": {},
   "source": [
    "When all the regressors are run in one model with target Normalized Complaints, then Normalized violations and A become significant with p value less than 0.05 and all other three still remain insignificant due to high p-value. \n",
    "\n",
    "R2 value for model is 0.886\n",
    "\n",
    "***Coefficient values -***  <br>\n",
    "normalized_violations =    0.3109     <br> \n",
    "avg_score              =   0.0405      <br> \n",
    "A                       =  4.3236      <br> \n",
    "B                        = 1.8216     <br> \n",
    "C                       = -0.1480 <br> \n",
    "\n",
    "\n"
   ]
  },
  {
   "cell_type": "code",
   "execution_count": null,
   "metadata": {},
   "outputs": [],
   "source": []
  }
 ],
 "metadata": {
  "kernelspec": {
   "display_name": "Python 3 (ipykernel)",
   "language": "python",
   "name": "python3"
  },
  "language_info": {
   "codemirror_mode": {
    "name": "ipython",
    "version": 3
   },
   "file_extension": ".py",
   "mimetype": "text/x-python",
   "name": "python",
   "nbconvert_exporter": "python",
   "pygments_lexer": "ipython3",
   "version": "3.8.2"
  }
 },
 "nbformat": 4,
 "nbformat_minor": 2
}
