{
 "cells": [
  {
   "cell_type": "markdown",
   "metadata": {},
   "source": [
    "# Linear regression\n",
    "\n",
    "## 1. Uni-variate linear regression\n",
    "\n",
    "### 1.1. Least square estimate\n",
    "One of the basic models to try, while learning dependence between two real-valued variables $X$ and $Y$ is a uni-variate linear regression:\n",
    "$$\n",
    "y=w x.\n",
    "$$\n",
    "\n",
    "Admitting that the model's accuracy is not be absolute: \n",
    "$$\n",
    "y=w x + \\varepsilon,\\hspace{5ex} (1.1)\n",
    "$$\n",
    "where $\\varepsilon$ is the model's error (often called noise or residual).\n",
    "\n",
    "The objective is to learn $w$ given a training set of $\\{(x_i, y_i), i=1..N\\}$ providing the best possible fit for the model. The fit could be characterized by the errors of the model\n",
    "$$\n",
    "\\varepsilon_i=y_i-w x_i\n",
    "$$\n",
    "and in particular by their sum of squares:\n",
    "$$\n",
    "RSS(w)=\\sum\\limits_i \\varepsilon_i^2=\\sum\\limits_i (y_i-w x_i)^2. \\hspace{5ex} (1.2)\n",
    "$$\n",
    "Minimizing such $RSS(w)\\to min$ is called a least square approach. With respect to this criteria, regression becomes an optimization problem\n",
    "$$\n",
    "\\hat{w}=argmin_w RSS(w). \\hspace{5ex} (1.3)\n",
    "$$\n",
    "Luckily this problem has a precise analytic solution following from RSS function's shape and local extremum criteria:\n",
    "$$\n",
    "RSS'(w)=0,\n",
    "$$\n",
    "i.e.\n",
    "$$\n",
    "0=\\frac{d\\sum\\limits_i (y_i-w x_i)^2}{dw}=\\sum\\limits_i\\frac{d (y_i-w x_i)^2}{dw}=\\sum\\limits_i -2 x_i(y_i-w x_i),\n",
    "$$$$\n",
    "0=\\sum\\limits_i x_i y_i- w \\sum\\limits_i (x_i)^2,\n",
    "$$$$\n",
    "\\sum\\limits_i x_i y_i = w \\sum\\limits_i (x_i)^2,\n",
    "$$$$\n",
    "w=\\frac{\\sum\\limits_i x_i y_i}{\\sum\\limits_i (x_i)^2}. \\hspace{5ex} (1.4)\n",
    "$$\n",
    "Thinking of $x_i$ and $y_i$ as the observations of random variables $X$ and $Y$ this can be rewritten as\n",
    "$$\n",
    "w=\\frac{E[XY]}{E[X^2]}.\n",
    "$$\n",
    "\n",
    "### 1.2. Case of normalized variables \n",
    "In case variables $x,y$ were normalized as\n",
    "$$\n",
    "x:=\\frac{x-E[X]}{\\sigma[X]},\\ y:=\\frac{y-E[Y]}{\\sigma[Y]}\n",
    "$$\n",
    "in order to ensure zero averages $E[X]=E[Y]=0$ and unit standard deviations $\\sigma[X]=\\sigma[Y]=1$, the equation for $w$ could be rewritten as\n",
    "$$\n",
    "w=\\frac{E[XY]-E[X]E[Y]}{E[X^2]-E[X]^2}=\\frac{E[XY]-E[X]E[Y]}{\\sigma[X]^2}=\\frac{E[XY]-E[X]E[Y]}{\\sigma[X]\\sigma[Y]}=corr(X,Y).\n",
    "$$\n",
    "So in case of normalized $x,y$ a best fit univariate linear regression is provided by an equation\n",
    "$$\n",
    "y=corr(X,Y)x\n",
    "$$\n",
    "\n"
   ]
  },
  {
   "cell_type": "markdown",
   "metadata": {},
   "source": [
    "## 2. Multiple linear regression\n",
    "\n",
    "### 2.1. Definition and parameter estimation\n",
    "\n",
    "As we remember linear model between single real-value regressor $x$ and output variable $y$ is expressed by \n",
    "$$\n",
    "y=w_1 x + w_0 +\\varepsilon.\n",
    "$$\n",
    "$w_1$-slope coefficient, $w_0$ - intercept, $\\varepsilon$ - random noise. In a more general case when $x$ is a real-valued $n \\times 1$-vector $x=(x_1,x_2,...,x_n)^T$, the model could be easily generalized as\n",
    "$$\n",
    "y=\\sum\\limits_j w_j x_j +\\varepsilon (2.1)\n",
    "$$\n",
    "or in a vector form\n",
    "$$\n",
    "y=w^T x+\\varepsilon, \\hspace{5ex} (2.1')\n",
    "$$\n",
    "where $w=(w_1,w_2,...,w_n)$ is also a $n \\times 1$-vector. \n",
    "Notice that intercept is not specifically separated as it could be always introduced by adding a dummy variable $x^m\\equiv 1$.\n",
    "\n",
    "The probabilistic view on the model in the assumption that $\\varepsilon\\sim {\\cal N}(0,\\sigma^2)$ is\n",
    "$$\n",
    "p(y|x,w,\\sigma)={\\cal N}(y|w^T x,\\sigma^2).\n",
    "$$\n",
    "\n",
    "Given a training set $X=\\{(x_j^i), j=1..n, i=1..N\\}$, $Y=\\{(y^i), i=1..N\\}$ (further also denote columns of $X$ as $X_j=\\{(x_j^i), i=1..N\\}$), the least square optimization criteria for inferring a vector of coefficients $w$ can be written as\n",
    "\n",
    "$$\n",
    "RSS(w)= \\sum \\limits_i \\varepsilon_i^2= \\sum \\limits_i (y^i-w^T x^i)^2. \\hspace{5ex} (2.2)\n",
    "$$\n",
    "\n",
    "or in a matrix form:\n",
    "$$\n",
    "RSS(w)=(Y-X w)^T(Y-X w).\n",
    "$$\n",
    "Then finding an estimate\n",
    "$$\n",
    "\\hat{w}=argmin_w RSS(w)\n",
    "$$\n",
    "can be done by solving the system (in a matrix form)\n",
    "$$\n",
    "0=\\frac{\\partial RSS(\\hat{w})}{\\partial w}=2X^T (Y-X \\hat{w}).\n",
    "$$\n",
    "Using matrix formalism the solution could be expressed as\n",
    "$$\n",
    "\\hat{w}=\\left(X^T X\\right )^{-1}X^T Y. \\hspace{5ex} (2.3)\n",
    "$$\n",
    "This assumes that $X^T X$ is non-singular. Otherwise we have a case of multicollinearity.\n",
    "\n",
    "### 2.2. Case of orthogonal/uncorrelated regressors\n",
    "\n",
    "Typically the resulting estimates for the coefficients $w_j$ of a multi-variate regression (2.1) are not the same as one could get from performing a series of uni-variate regressions \n",
    "$$\n",
    "y\\sim w_j x_j, j=1,2,...,n. \\hspace{5ex} (2.4)\n",
    "$$\n",
    "This is because the regressors might be correlated with each other and their impacts on the output variable could overlap and partly offset one another.\n",
    "\n",
    "But in one special case of mutually orthogonal regressors, such that \n",
    "$$\n",
    "x_i^T x_j=0, \\hspace{5ex} (2.5)\n",
    "$$ \n",
    "for each $i\\neq j$, multi-variate regression can be derived through a series of uni-variate regressions. This is because such a condition makes the matrix $X^T X$ in (2.3) diogonal and the solution effectively splits into a series of solutions (1.4) for the regressions (2.4). Condition (2.5) is called orthogonality of regressors. \n",
    "\n",
    "In a particular case, when all the regressors are normalized as in 1.2, the orthogonality condition (2.5) is equivalent to the regressors being mutually uncorrelated. Then for normalized mutually uncorrelated regressors and a normalized output variable, a multi-variate regression (2.1) can be estimated as\n",
    "$$\n",
    "y\\sim\\sum\\limits_j corr(X_j,Y) x_j, \\hspace{5ex} (2.6)\n",
    "$$\n",
    "i.e. all the coefficients are estimated as correlations between the columns of observations for each regressor and the output variable. But remember, this is only the case when the regressors and the output variable were normalized and the regressors appeared to be mutually uncorrelated. Correlated regressors which we deal with in the most cases do not allow using the formulae (2.6)."
   ]
  },
  {
   "cell_type": "markdown",
   "metadata": {},
   "source": [
    "### 2.3. Regression performance: R-squared\n",
    "\n",
    "In the same way as for the bi-variate regression:\n",
    "$$\n",
    "R^2=1-\\frac{RSS}{\\sum\\limits_i (y_i-\\overline{y})^2}=\\frac{\\sum\\limits_i (\\hat{y}_i-\\overline{y})^2}{\\sum\\limits_i (y_i-\\overline{y})^2},\n",
    "$$\n",
    "where $\\overline{y}=\\sum\\limits_i y_i$ is the sample mean of observed values of responce variable, while $\\hat{y}_i=w^T x_i$ is the predicted value of output variable as compared to the observed value of $y_i$ corresponding to $x=x_i$. This way $R^2$ is often interpreted as a fraction of responce variable's variance explained by linear model. $R^2=1$ is equivalent to $RSS=0$, i.e. the model fits the observations exactly, i.e. responce variable depends linearly on the explaining variables. On the other hand, $R^2=0$ means that the model always predicts the sample mean $\\overline{y}$, i.e. explaining variables $x$ have no effect on responce variable $y$. \n",
    "\n",
    "Least-square criteria is equivalent to maximizing $R^2$.\n",
    "\n",
    "In case of a bi-variate regression with intercept $R^2=corr(Y,X)^2$, i.e. is a square of a correlation coefficient between observations of input and output variables."
   ]
  },
  {
   "cell_type": "markdown",
   "metadata": {},
   "source": [
    "## Case 1. Real estate prices in NYC"
   ]
  },
  {
   "cell_type": "markdown",
   "metadata": {},
   "source": [
    "### Consider rolling sales data as in the LAB 2\n",
    "##### The Department of Finance’s Rolling Sales files lists properties that sold in the last twelve-month period in New York City for all tax classes. These files include:\n",
    "* sale date\n",
    "* the address, zip code and tax borough, block and lot (BBL)\n",
    "* building type;\n",
    "* square footage;\n",
    "* the price\n",
    "* other characteristics\n",
    "\n",
    "Focus on the Staten Island in 2019 and ask a question: \n",
    "### **which characteristic of the house would be the best predictor for its price?**\n",
    "And implement such prediction using linear regression."
   ]
  },
  {
   "cell_type": "code",
   "execution_count": 1,
   "metadata": {},
   "outputs": [],
   "source": [
    "import pandas as pd\n",
    "import numpy as np\n",
    "import statsmodels.formula.api as smf\n",
    "import matplotlib.pylab as plt\n",
    "import math\n",
    "import os \n",
    "import seaborn as sns #for styling the plots\n",
    "import warnings\n",
    "import urllib.request\n",
    "%matplotlib inline"
   ]
  },
  {
   "cell_type": "code",
   "execution_count": 2,
   "metadata": {},
   "outputs": [],
   "source": [
    "#load the house sales data from staten island\n",
    "REStaten=pd.read_excel('2019statenisland.xlsx',skiprows=4)"
   ]
  },
  {
   "cell_type": "code",
   "execution_count": 3,
   "metadata": {},
   "outputs": [
    {
     "data": {
      "text/html": [
       "<div>\n",
       "<style scoped>\n",
       "    .dataframe tbody tr th:only-of-type {\n",
       "        vertical-align: middle;\n",
       "    }\n",
       "\n",
       "    .dataframe tbody tr th {\n",
       "        vertical-align: top;\n",
       "    }\n",
       "\n",
       "    .dataframe thead th {\n",
       "        text-align: right;\n",
       "    }\n",
       "</style>\n",
       "<table border=\"1\" class=\"dataframe\">\n",
       "  <thead>\n",
       "    <tr style=\"text-align: right;\">\n",
       "      <th></th>\n",
       "      <th>BOROUGH</th>\n",
       "      <th>NEIGHBORHOOD</th>\n",
       "      <th>BUILDING_CLASS_CATEGORY</th>\n",
       "      <th>TAX_CLASS_AS_OF_FINAL_ROLL_18/19</th>\n",
       "      <th>BLOCK</th>\n",
       "      <th>LOT</th>\n",
       "      <th>EASE-MENT</th>\n",
       "      <th>BUILDING_CLASS_AS_OF_FINAL_ROLL_18/19</th>\n",
       "      <th>ADDRESS</th>\n",
       "      <th>APARTMENT_NUMBER</th>\n",
       "      <th>...</th>\n",
       "      <th>RESIDENTIAL_UNITS</th>\n",
       "      <th>COMMERCIAL_UNITS</th>\n",
       "      <th>TOTAL_UNITS</th>\n",
       "      <th>LAND_SQUARE_FEET</th>\n",
       "      <th>GROSS_SQUARE_FEET</th>\n",
       "      <th>YEAR_BUILT</th>\n",
       "      <th>TAX_CLASS_AT_TIME_OF_SALE</th>\n",
       "      <th>BUILDING_CLASS_AT_TIME_OF_SALE</th>\n",
       "      <th>SALE_PRICE</th>\n",
       "      <th>SALE_DATE</th>\n",
       "    </tr>\n",
       "  </thead>\n",
       "  <tbody>\n",
       "    <tr>\n",
       "      <th>0</th>\n",
       "      <td>5</td>\n",
       "      <td>ANNADALE</td>\n",
       "      <td>01 ONE FAMILY DWELLINGS</td>\n",
       "      <td>1</td>\n",
       "      <td>5391</td>\n",
       "      <td>13</td>\n",
       "      <td>NaN</td>\n",
       "      <td>A5</td>\n",
       "      <td>4716 AMBOY ROAD</td>\n",
       "      <td>NaN</td>\n",
       "      <td>...</td>\n",
       "      <td>1.0</td>\n",
       "      <td>0.0</td>\n",
       "      <td>1.0</td>\n",
       "      <td>1871.0</td>\n",
       "      <td>910.0</td>\n",
       "      <td>2002.0</td>\n",
       "      <td>1</td>\n",
       "      <td>A5</td>\n",
       "      <td>0</td>\n",
       "      <td>2019-07-10</td>\n",
       "    </tr>\n",
       "    <tr>\n",
       "      <th>1</th>\n",
       "      <td>5</td>\n",
       "      <td>ANNADALE</td>\n",
       "      <td>01 ONE FAMILY DWELLINGS</td>\n",
       "      <td>1</td>\n",
       "      <td>5393</td>\n",
       "      <td>29</td>\n",
       "      <td>NaN</td>\n",
       "      <td>A1</td>\n",
       "      <td>21 FINGAL STREET</td>\n",
       "      <td>NaN</td>\n",
       "      <td>...</td>\n",
       "      <td>1.0</td>\n",
       "      <td>0.0</td>\n",
       "      <td>1.0</td>\n",
       "      <td>9000.0</td>\n",
       "      <td>3540.0</td>\n",
       "      <td>1985.0</td>\n",
       "      <td>1</td>\n",
       "      <td>A1</td>\n",
       "      <td>1650000</td>\n",
       "      <td>2019-03-14</td>\n",
       "    </tr>\n",
       "    <tr>\n",
       "      <th>2</th>\n",
       "      <td>5</td>\n",
       "      <td>ANNADALE</td>\n",
       "      <td>01 ONE FAMILY DWELLINGS</td>\n",
       "      <td>1</td>\n",
       "      <td>5395</td>\n",
       "      <td>23</td>\n",
       "      <td>NaN</td>\n",
       "      <td>A1</td>\n",
       "      <td>525 SYCAMORE STREET</td>\n",
       "      <td>NaN</td>\n",
       "      <td>...</td>\n",
       "      <td>1.0</td>\n",
       "      <td>0.0</td>\n",
       "      <td>1.0</td>\n",
       "      <td>10000.0</td>\n",
       "      <td>2848.0</td>\n",
       "      <td>1980.0</td>\n",
       "      <td>1</td>\n",
       "      <td>A1</td>\n",
       "      <td>775000</td>\n",
       "      <td>2019-12-13</td>\n",
       "    </tr>\n",
       "    <tr>\n",
       "      <th>3</th>\n",
       "      <td>5</td>\n",
       "      <td>ANNADALE</td>\n",
       "      <td>01 ONE FAMILY DWELLINGS</td>\n",
       "      <td>1</td>\n",
       "      <td>5398</td>\n",
       "      <td>20</td>\n",
       "      <td>NaN</td>\n",
       "      <td>A1</td>\n",
       "      <td>1468 ARDEN AVENUE</td>\n",
       "      <td>NaN</td>\n",
       "      <td>...</td>\n",
       "      <td>1.0</td>\n",
       "      <td>0.0</td>\n",
       "      <td>1.0</td>\n",
       "      <td>5000.0</td>\n",
       "      <td>2200.0</td>\n",
       "      <td>1940.0</td>\n",
       "      <td>1</td>\n",
       "      <td>A1</td>\n",
       "      <td>685000</td>\n",
       "      <td>2019-04-15</td>\n",
       "    </tr>\n",
       "    <tr>\n",
       "      <th>4</th>\n",
       "      <td>5</td>\n",
       "      <td>ANNADALE</td>\n",
       "      <td>01 ONE FAMILY DWELLINGS</td>\n",
       "      <td>1</td>\n",
       "      <td>5399</td>\n",
       "      <td>15</td>\n",
       "      <td>NaN</td>\n",
       "      <td>A2</td>\n",
       "      <td>2 SANDBORN STREET</td>\n",
       "      <td>NaN</td>\n",
       "      <td>...</td>\n",
       "      <td>1.0</td>\n",
       "      <td>0.0</td>\n",
       "      <td>1.0</td>\n",
       "      <td>4845.0</td>\n",
       "      <td>880.0</td>\n",
       "      <td>1950.0</td>\n",
       "      <td>1</td>\n",
       "      <td>A2</td>\n",
       "      <td>0</td>\n",
       "      <td>2019-01-24</td>\n",
       "    </tr>\n",
       "  </tbody>\n",
       "</table>\n",
       "<p>5 rows × 21 columns</p>\n",
       "</div>"
      ],
      "text/plain": [
       "   BOROUGH NEIGHBORHOOD  BUILDING_CLASS_CATEGORY  \\\n",
       "0        5     ANNADALE  01 ONE FAMILY DWELLINGS   \n",
       "1        5     ANNADALE  01 ONE FAMILY DWELLINGS   \n",
       "2        5     ANNADALE  01 ONE FAMILY DWELLINGS   \n",
       "3        5     ANNADALE  01 ONE FAMILY DWELLINGS   \n",
       "4        5     ANNADALE  01 ONE FAMILY DWELLINGS   \n",
       "\n",
       "  TAX_CLASS_AS_OF_FINAL_ROLL_18/19  BLOCK  LOT  EASE-MENT  \\\n",
       "0                                1   5391   13        NaN   \n",
       "1                                1   5393   29        NaN   \n",
       "2                                1   5395   23        NaN   \n",
       "3                                1   5398   20        NaN   \n",
       "4                                1   5399   15        NaN   \n",
       "\n",
       "  BUILDING_CLASS_AS_OF_FINAL_ROLL_18/19              ADDRESS APARTMENT_NUMBER  \\\n",
       "0                                    A5      4716 AMBOY ROAD              NaN   \n",
       "1                                    A1     21 FINGAL STREET              NaN   \n",
       "2                                    A1  525 SYCAMORE STREET              NaN   \n",
       "3                                    A1    1468 ARDEN AVENUE              NaN   \n",
       "4                                    A2    2 SANDBORN STREET              NaN   \n",
       "\n",
       "   ...  RESIDENTIAL_UNITS  COMMERCIAL_UNITS  TOTAL_UNITS  LAND_SQUARE_FEET  \\\n",
       "0  ...                1.0               0.0          1.0            1871.0   \n",
       "1  ...                1.0               0.0          1.0            9000.0   \n",
       "2  ...                1.0               0.0          1.0           10000.0   \n",
       "3  ...                1.0               0.0          1.0            5000.0   \n",
       "4  ...                1.0               0.0          1.0            4845.0   \n",
       "\n",
       "   GROSS_SQUARE_FEET  YEAR_BUILT  TAX_CLASS_AT_TIME_OF_SALE  \\\n",
       "0              910.0      2002.0                          1   \n",
       "1             3540.0      1985.0                          1   \n",
       "2             2848.0      1980.0                          1   \n",
       "3             2200.0      1940.0                          1   \n",
       "4              880.0      1950.0                          1   \n",
       "\n",
       "   BUILDING_CLASS_AT_TIME_OF_SALE SALE_PRICE  SALE_DATE  \n",
       "0                              A5          0 2019-07-10  \n",
       "1                              A1    1650000 2019-03-14  \n",
       "2                              A1     775000 2019-12-13  \n",
       "3                              A1     685000 2019-04-15  \n",
       "4                              A2          0 2019-01-24  \n",
       "\n",
       "[5 rows x 21 columns]"
      ]
     },
     "execution_count": 3,
     "metadata": {},
     "output_type": "execute_result"
    }
   ],
   "source": [
    "#fix column names, excluding \\n\n",
    "REStaten.columns = [col.replace('\\n','').replace(' ','_') for col in REStaten.columns]\n",
    "REStaten.head(5)"
   ]
  },
  {
   "cell_type": "code",
   "execution_count": 4,
   "metadata": {},
   "outputs": [
    {
     "data": {
      "text/html": [
       "<div>\n",
       "<style scoped>\n",
       "    .dataframe tbody tr th:only-of-type {\n",
       "        vertical-align: middle;\n",
       "    }\n",
       "\n",
       "    .dataframe tbody tr th {\n",
       "        vertical-align: top;\n",
       "    }\n",
       "\n",
       "    .dataframe thead th {\n",
       "        text-align: right;\n",
       "    }\n",
       "</style>\n",
       "<table border=\"1\" class=\"dataframe\">\n",
       "  <thead>\n",
       "    <tr style=\"text-align: right;\">\n",
       "      <th></th>\n",
       "      <th>BOROUGH</th>\n",
       "      <th>BLOCK</th>\n",
       "      <th>LOT</th>\n",
       "      <th>BUILDING_CLASS_CATEGORY</th>\n",
       "      <th>ADDRESS</th>\n",
       "      <th>ZIP_CODE</th>\n",
       "      <th>GROSS_SQUARE_FEET</th>\n",
       "      <th>YEAR_BUILT</th>\n",
       "      <th>SALE_PRICE</th>\n",
       "      <th>SALE_DATE</th>\n",
       "      <th>RESIDENTIAL_UNITS</th>\n",
       "      <th>COMMERCIAL_UNITS</th>\n",
       "      <th>LAND_SQUARE_FEET</th>\n",
       "    </tr>\n",
       "  </thead>\n",
       "  <tbody>\n",
       "    <tr>\n",
       "      <th>0</th>\n",
       "      <td>5</td>\n",
       "      <td>5391</td>\n",
       "      <td>13</td>\n",
       "      <td>01 ONE FAMILY DWELLINGS</td>\n",
       "      <td>4716 AMBOY ROAD</td>\n",
       "      <td>10312.0</td>\n",
       "      <td>910.0</td>\n",
       "      <td>2002.0</td>\n",
       "      <td>0</td>\n",
       "      <td>2019-07-10</td>\n",
       "      <td>1.0</td>\n",
       "      <td>0.0</td>\n",
       "      <td>1871.0</td>\n",
       "    </tr>\n",
       "    <tr>\n",
       "      <th>1</th>\n",
       "      <td>5</td>\n",
       "      <td>5393</td>\n",
       "      <td>29</td>\n",
       "      <td>01 ONE FAMILY DWELLINGS</td>\n",
       "      <td>21 FINGAL STREET</td>\n",
       "      <td>10312.0</td>\n",
       "      <td>3540.0</td>\n",
       "      <td>1985.0</td>\n",
       "      <td>1650000</td>\n",
       "      <td>2019-03-14</td>\n",
       "      <td>1.0</td>\n",
       "      <td>0.0</td>\n",
       "      <td>9000.0</td>\n",
       "    </tr>\n",
       "    <tr>\n",
       "      <th>2</th>\n",
       "      <td>5</td>\n",
       "      <td>5395</td>\n",
       "      <td>23</td>\n",
       "      <td>01 ONE FAMILY DWELLINGS</td>\n",
       "      <td>525 SYCAMORE STREET</td>\n",
       "      <td>10312.0</td>\n",
       "      <td>2848.0</td>\n",
       "      <td>1980.0</td>\n",
       "      <td>775000</td>\n",
       "      <td>2019-12-13</td>\n",
       "      <td>1.0</td>\n",
       "      <td>0.0</td>\n",
       "      <td>10000.0</td>\n",
       "    </tr>\n",
       "    <tr>\n",
       "      <th>3</th>\n",
       "      <td>5</td>\n",
       "      <td>5398</td>\n",
       "      <td>20</td>\n",
       "      <td>01 ONE FAMILY DWELLINGS</td>\n",
       "      <td>1468 ARDEN AVENUE</td>\n",
       "      <td>10312.0</td>\n",
       "      <td>2200.0</td>\n",
       "      <td>1940.0</td>\n",
       "      <td>685000</td>\n",
       "      <td>2019-04-15</td>\n",
       "      <td>1.0</td>\n",
       "      <td>0.0</td>\n",
       "      <td>5000.0</td>\n",
       "    </tr>\n",
       "    <tr>\n",
       "      <th>4</th>\n",
       "      <td>5</td>\n",
       "      <td>5399</td>\n",
       "      <td>15</td>\n",
       "      <td>01 ONE FAMILY DWELLINGS</td>\n",
       "      <td>2 SANDBORN STREET</td>\n",
       "      <td>10312.0</td>\n",
       "      <td>880.0</td>\n",
       "      <td>1950.0</td>\n",
       "      <td>0</td>\n",
       "      <td>2019-01-24</td>\n",
       "      <td>1.0</td>\n",
       "      <td>0.0</td>\n",
       "      <td>4845.0</td>\n",
       "    </tr>\n",
       "  </tbody>\n",
       "</table>\n",
       "</div>"
      ],
      "text/plain": [
       "   BOROUGH  BLOCK  LOT  BUILDING_CLASS_CATEGORY              ADDRESS  \\\n",
       "0        5   5391   13  01 ONE FAMILY DWELLINGS      4716 AMBOY ROAD   \n",
       "1        5   5393   29  01 ONE FAMILY DWELLINGS     21 FINGAL STREET   \n",
       "2        5   5395   23  01 ONE FAMILY DWELLINGS  525 SYCAMORE STREET   \n",
       "3        5   5398   20  01 ONE FAMILY DWELLINGS    1468 ARDEN AVENUE   \n",
       "4        5   5399   15  01 ONE FAMILY DWELLINGS    2 SANDBORN STREET   \n",
       "\n",
       "   ZIP_CODE  GROSS_SQUARE_FEET  YEAR_BUILT  SALE_PRICE  SALE_DATE  \\\n",
       "0   10312.0              910.0      2002.0           0 2019-07-10   \n",
       "1   10312.0             3540.0      1985.0     1650000 2019-03-14   \n",
       "2   10312.0             2848.0      1980.0      775000 2019-12-13   \n",
       "3   10312.0             2200.0      1940.0      685000 2019-04-15   \n",
       "4   10312.0              880.0      1950.0           0 2019-01-24   \n",
       "\n",
       "   RESIDENTIAL_UNITS  COMMERCIAL_UNITS  LAND_SQUARE_FEET  \n",
       "0                1.0               0.0            1871.0  \n",
       "1                1.0               0.0            9000.0  \n",
       "2                1.0               0.0           10000.0  \n",
       "3                1.0               0.0            5000.0  \n",
       "4                1.0               0.0            4845.0  "
      ]
     },
     "execution_count": 4,
     "metadata": {},
     "output_type": "execute_result"
    }
   ],
   "source": [
    "#subset dataframe by selecting columns we're going to use\n",
    "selectedNames = ['BOROUGH','BLOCK','LOT', 'BUILDING_CLASS_CATEGORY', 'ADDRESS', 'ZIP_CODE',\n",
    "                'GROSS_SQUARE_FEET', 'YEAR_BUILT','SALE_PRICE', 'SALE_DATE','RESIDENTIAL_UNITS','COMMERCIAL_UNITS','LAND_SQUARE_FEET']\n",
    "REStaten = REStaten[selectedNames]\n",
    "REStaten.head()"
   ]
  },
  {
   "cell_type": "code",
   "execution_count": 5,
   "metadata": {},
   "outputs": [
    {
     "data": {
      "text/html": [
       "<div>\n",
       "<style scoped>\n",
       "    .dataframe tbody tr th:only-of-type {\n",
       "        vertical-align: middle;\n",
       "    }\n",
       "\n",
       "    .dataframe tbody tr th {\n",
       "        vertical-align: top;\n",
       "    }\n",
       "\n",
       "    .dataframe thead th {\n",
       "        text-align: right;\n",
       "    }\n",
       "</style>\n",
       "<table border=\"1\" class=\"dataframe\">\n",
       "  <thead>\n",
       "    <tr style=\"text-align: right;\">\n",
       "      <th></th>\n",
       "      <th>BOROUGH</th>\n",
       "      <th>BLOCK</th>\n",
       "      <th>LOT</th>\n",
       "      <th>ZIP_CODE</th>\n",
       "      <th>GROSS_SQUARE_FEET</th>\n",
       "      <th>YEAR_BUILT</th>\n",
       "      <th>SALE_PRICE</th>\n",
       "      <th>RESIDENTIAL_UNITS</th>\n",
       "      <th>COMMERCIAL_UNITS</th>\n",
       "      <th>LAND_SQUARE_FEET</th>\n",
       "    </tr>\n",
       "  </thead>\n",
       "  <tbody>\n",
       "    <tr>\n",
       "      <th>count</th>\n",
       "      <td>8371.0</td>\n",
       "      <td>8371.000000</td>\n",
       "      <td>8371.000000</td>\n",
       "      <td>8365.000000</td>\n",
       "      <td>8280.000000</td>\n",
       "      <td>7856.000000</td>\n",
       "      <td>8.371000e+03</td>\n",
       "      <td>8280.000000</td>\n",
       "      <td>8280.000000</td>\n",
       "      <td>8.280000e+03</td>\n",
       "    </tr>\n",
       "    <tr>\n",
       "      <th>mean</th>\n",
       "      <td>5.0</td>\n",
       "      <td>3383.670649</td>\n",
       "      <td>183.094612</td>\n",
       "      <td>10307.971907</td>\n",
       "      <td>1605.700725</td>\n",
       "      <td>1968.794297</td>\n",
       "      <td>4.157112e+05</td>\n",
       "      <td>1.194807</td>\n",
       "      <td>0.044928</td>\n",
       "      <td>4.812098e+03</td>\n",
       "    </tr>\n",
       "    <tr>\n",
       "      <th>std</th>\n",
       "      <td>0.0</td>\n",
       "      <td>2378.865466</td>\n",
       "      <td>414.758348</td>\n",
       "      <td>4.149530</td>\n",
       "      <td>2416.613354</td>\n",
       "      <td>31.534770</td>\n",
       "      <td>1.291787e+06</td>\n",
       "      <td>0.743192</td>\n",
       "      <td>0.304432</td>\n",
       "      <td>3.112026e+04</td>\n",
       "    </tr>\n",
       "    <tr>\n",
       "      <th>min</th>\n",
       "      <td>5.0</td>\n",
       "      <td>1.000000</td>\n",
       "      <td>1.000000</td>\n",
       "      <td>10301.000000</td>\n",
       "      <td>0.000000</td>\n",
       "      <td>1800.000000</td>\n",
       "      <td>0.000000e+00</td>\n",
       "      <td>0.000000</td>\n",
       "      <td>0.000000</td>\n",
       "      <td>0.000000e+00</td>\n",
       "    </tr>\n",
       "    <tr>\n",
       "      <th>25%</th>\n",
       "      <td>5.0</td>\n",
       "      <td>1092.000000</td>\n",
       "      <td>24.000000</td>\n",
       "      <td>10305.000000</td>\n",
       "      <td>1020.000000</td>\n",
       "      <td>1950.000000</td>\n",
       "      <td>0.000000e+00</td>\n",
       "      <td>1.000000</td>\n",
       "      <td>0.000000</td>\n",
       "      <td>2.191500e+03</td>\n",
       "    </tr>\n",
       "    <tr>\n",
       "      <th>50%</th>\n",
       "      <td>5.0</td>\n",
       "      <td>3246.000000</td>\n",
       "      <td>55.000000</td>\n",
       "      <td>10308.000000</td>\n",
       "      <td>1440.000000</td>\n",
       "      <td>1975.000000</td>\n",
       "      <td>3.950000e+05</td>\n",
       "      <td>1.000000</td>\n",
       "      <td>0.000000</td>\n",
       "      <td>3.420000e+03</td>\n",
       "    </tr>\n",
       "    <tr>\n",
       "      <th>75%</th>\n",
       "      <td>5.0</td>\n",
       "      <td>5458.000000</td>\n",
       "      <td>125.000000</td>\n",
       "      <td>10312.000000</td>\n",
       "      <td>2025.000000</td>\n",
       "      <td>1991.000000</td>\n",
       "      <td>5.990000e+05</td>\n",
       "      <td>1.000000</td>\n",
       "      <td>0.000000</td>\n",
       "      <td>4.810000e+03</td>\n",
       "    </tr>\n",
       "    <tr>\n",
       "      <th>max</th>\n",
       "      <td>5.0</td>\n",
       "      <td>8050.000000</td>\n",
       "      <td>5344.000000</td>\n",
       "      <td>10314.000000</td>\n",
       "      <td>108275.000000</td>\n",
       "      <td>2019.000000</td>\n",
       "      <td>9.272502e+07</td>\n",
       "      <td>19.000000</td>\n",
       "      <td>8.000000</td>\n",
       "      <td>2.549173e+06</td>\n",
       "    </tr>\n",
       "  </tbody>\n",
       "</table>\n",
       "</div>"
      ],
      "text/plain": [
       "       BOROUGH        BLOCK          LOT      ZIP_CODE  GROSS_SQUARE_FEET  \\\n",
       "count   8371.0  8371.000000  8371.000000   8365.000000        8280.000000   \n",
       "mean       5.0  3383.670649   183.094612  10307.971907        1605.700725   \n",
       "std        0.0  2378.865466   414.758348      4.149530        2416.613354   \n",
       "min        5.0     1.000000     1.000000  10301.000000           0.000000   \n",
       "25%        5.0  1092.000000    24.000000  10305.000000        1020.000000   \n",
       "50%        5.0  3246.000000    55.000000  10308.000000        1440.000000   \n",
       "75%        5.0  5458.000000   125.000000  10312.000000        2025.000000   \n",
       "max        5.0  8050.000000  5344.000000  10314.000000      108275.000000   \n",
       "\n",
       "        YEAR_BUILT    SALE_PRICE  RESIDENTIAL_UNITS  COMMERCIAL_UNITS  \\\n",
       "count  7856.000000  8.371000e+03        8280.000000       8280.000000   \n",
       "mean   1968.794297  4.157112e+05           1.194807          0.044928   \n",
       "std      31.534770  1.291787e+06           0.743192          0.304432   \n",
       "min    1800.000000  0.000000e+00           0.000000          0.000000   \n",
       "25%    1950.000000  0.000000e+00           1.000000          0.000000   \n",
       "50%    1975.000000  3.950000e+05           1.000000          0.000000   \n",
       "75%    1991.000000  5.990000e+05           1.000000          0.000000   \n",
       "max    2019.000000  9.272502e+07          19.000000          8.000000   \n",
       "\n",
       "       LAND_SQUARE_FEET  \n",
       "count      8.280000e+03  \n",
       "mean       4.812098e+03  \n",
       "std        3.112026e+04  \n",
       "min        0.000000e+00  \n",
       "25%        2.191500e+03  \n",
       "50%        3.420000e+03  \n",
       "75%        4.810000e+03  \n",
       "max        2.549173e+06  "
      ]
     },
     "execution_count": 5,
     "metadata": {},
     "output_type": "execute_result"
    }
   ],
   "source": [
    "#get some statistics; does not make sense for categorical columns, like zip code, lot etc, but gives an idea of distributions for house characteristics  \n",
    "REStaten.describe()"
   ]
  },
  {
   "cell_type": "code",
   "execution_count": 6,
   "metadata": {},
   "outputs": [
    {
     "data": {
      "text/plain": [
       "array(['01 ONE FAMILY DWELLINGS', '02 TWO FAMILY DWELLINGS',\n",
       "       '05 TAX CLASS 1 VACANT LAND', '21 OFFICE BUILDINGS',\n",
       "       '22 STORE BUILDINGS', '29 COMMERCIAL GARAGES',\n",
       "       '31 COMMERCIAL VACANT LAND', '04 TAX CLASS 1 CONDOS',\n",
       "       '06 TAX CLASS 1 - OTHER', '14 RENTALS - 4-10 UNIT',\n",
       "       '33 EDUCATIONAL FACILITIES', '10 COOPS - ELEVATOR APARTMENTS',\n",
       "       '13 CONDOS - ELEVATOR APARTMENTS', '43 CONDO OFFICE BUILDINGS',\n",
       "       '30 WAREHOUSES', '07 RENTALS - WALKUP APARTMENTS',\n",
       "       '32 HOSPITAL AND HEALTH FACILITIES', '03 THREE FAMILY DWELLINGS',\n",
       "       '09 COOPS - WALKUP APARTMENTS', '12 CONDOS - WALKUP APARTMENTS',\n",
       "       '37 RELIGIOUS FACILITIES', '27 FACTORIES',\n",
       "       '41 TAX CLASS 4 - OTHER', '44 CONDO PARKING',\n",
       "       '15 CONDOS - 2-10 UNIT RESIDENTIAL',\n",
       "       '16 CONDOS - 2-10 UNIT WITH COMMERCIAL UNIT',\n",
       "       '35 INDOOR PUBLIC AND CULTURAL FACILITIES',\n",
       "       '08 RENTALS - ELEVATOR APARTMENTS',\n",
       "       '36 OUTDOOR RECREATIONAL FACILITIES'], dtype=object)"
      ]
     },
     "execution_count": 6,
     "metadata": {},
     "output_type": "execute_result"
    }
   ],
   "source": [
    "#unique categories of buildings\n",
    "REStaten['BUILDING_CLASS_CATEGORY'].unique()"
   ]
  },
  {
   "cell_type": "code",
   "execution_count": 7,
   "metadata": {},
   "outputs": [],
   "source": [
    "#sanity filtering (and take only those with residential units)\n",
    "REStaten = REStaten.loc[(REStaten['ZIP_CODE'] > 0) & (REStaten['GROSS_SQUARE_FEET'] > 0) & (REStaten['YEAR_BUILT'] > 0) & (REStaten['SALE_PRICE'] > 0)]\n",
    "REStaten = REStaten.loc[(REStaten['YEAR_BUILT'] >= 1850) & (REStaten['GROSS_SQUARE_FEET'] >=300) & (REStaten['GROSS_SQUARE_FEET'] <1e4) & (REStaten['LAND_SQUARE_FEET'] >=300)\n",
    "              & (REStaten['SALE_PRICE'] >= 1e4) & (REStaten['SALE_PRICE'] <= 3e6) & (REStaten['RESIDENTIAL_UNITS']>0)]"
   ]
  },
  {
   "cell_type": "code",
   "execution_count": 8,
   "metadata": {},
   "outputs": [],
   "source": [
    "#take only one-three family houses\n",
    "REStaten_ = REStaten[REStaten['BUILDING_CLASS_CATEGORY'].apply(lambda x: x[:2]).astype('int')<=3].copy()"
   ]
  },
  {
   "cell_type": "code",
   "execution_count": 9,
   "metadata": {},
   "outputs": [
    {
     "data": {
      "text/plain": [
       "array(['01 ONE FAMILY DWELLINGS', '02 TWO FAMILY DWELLINGS',\n",
       "       '03 THREE FAMILY DWELLINGS'], dtype=object)"
      ]
     },
     "execution_count": 9,
     "metadata": {},
     "output_type": "execute_result"
    }
   ],
   "source": [
    "REStaten_['BUILDING_CLASS_CATEGORY'].unique()"
   ]
  },
  {
   "cell_type": "code",
   "execution_count": 10,
   "metadata": {},
   "outputs": [
    {
     "data": {
      "text/plain": [
       "(4416, 13)"
      ]
     },
     "execution_count": 10,
     "metadata": {},
     "output_type": "execute_result"
    }
   ],
   "source": [
    "REStaten_.shape"
   ]
  },
  {
   "cell_type": "code",
   "execution_count": 11,
   "metadata": {},
   "outputs": [
    {
     "data": {
      "text/html": [
       "<div>\n",
       "<style scoped>\n",
       "    .dataframe tbody tr th:only-of-type {\n",
       "        vertical-align: middle;\n",
       "    }\n",
       "\n",
       "    .dataframe tbody tr th {\n",
       "        vertical-align: top;\n",
       "    }\n",
       "\n",
       "    .dataframe thead th {\n",
       "        text-align: right;\n",
       "    }\n",
       "</style>\n",
       "<table border=\"1\" class=\"dataframe\">\n",
       "  <thead>\n",
       "    <tr style=\"text-align: right;\">\n",
       "      <th></th>\n",
       "      <th>BOROUGH</th>\n",
       "      <th>BLOCK</th>\n",
       "      <th>LOT</th>\n",
       "      <th>ZIP_CODE</th>\n",
       "      <th>GROSS_SQUARE_FEET</th>\n",
       "      <th>YEAR_BUILT</th>\n",
       "      <th>SALE_PRICE</th>\n",
       "      <th>RESIDENTIAL_UNITS</th>\n",
       "      <th>COMMERCIAL_UNITS</th>\n",
       "      <th>LAND_SQUARE_FEET</th>\n",
       "    </tr>\n",
       "  </thead>\n",
       "  <tbody>\n",
       "    <tr>\n",
       "      <th>count</th>\n",
       "      <td>4416.0</td>\n",
       "      <td>4416.000000</td>\n",
       "      <td>4416.000000</td>\n",
       "      <td>4416.000000</td>\n",
       "      <td>4416.000000</td>\n",
       "      <td>4416.000000</td>\n",
       "      <td>4.416000e+03</td>\n",
       "      <td>4416.000000</td>\n",
       "      <td>4416.000000</td>\n",
       "      <td>4416.000000</td>\n",
       "    </tr>\n",
       "    <tr>\n",
       "      <th>mean</th>\n",
       "      <td>5.0</td>\n",
       "      <td>3379.954031</td>\n",
       "      <td>81.978261</td>\n",
       "      <td>10307.974411</td>\n",
       "      <td>1709.162364</td>\n",
       "      <td>1968.017889</td>\n",
       "      <td>5.826647e+05</td>\n",
       "      <td>1.281476</td>\n",
       "      <td>0.005208</td>\n",
       "      <td>3932.816803</td>\n",
       "    </tr>\n",
       "    <tr>\n",
       "      <th>std</th>\n",
       "      <td>0.0</td>\n",
       "      <td>2385.493555</td>\n",
       "      <td>95.660983</td>\n",
       "      <td>4.096904</td>\n",
       "      <td>753.904671</td>\n",
       "      <td>32.913716</td>\n",
       "      <td>2.337312e+05</td>\n",
       "      <td>0.471888</td>\n",
       "      <td>0.075069</td>\n",
       "      <td>2787.484429</td>\n",
       "    </tr>\n",
       "    <tr>\n",
       "      <th>min</th>\n",
       "      <td>5.0</td>\n",
       "      <td>14.000000</td>\n",
       "      <td>1.000000</td>\n",
       "      <td>10301.000000</td>\n",
       "      <td>400.000000</td>\n",
       "      <td>1865.000000</td>\n",
       "      <td>1.000000e+04</td>\n",
       "      <td>1.000000</td>\n",
       "      <td>0.000000</td>\n",
       "      <td>353.000000</td>\n",
       "    </tr>\n",
       "    <tr>\n",
       "      <th>25%</th>\n",
       "      <td>5.0</td>\n",
       "      <td>1084.000000</td>\n",
       "      <td>23.000000</td>\n",
       "      <td>10305.000000</td>\n",
       "      <td>1216.750000</td>\n",
       "      <td>1945.000000</td>\n",
       "      <td>4.440990e+05</td>\n",
       "      <td>1.000000</td>\n",
       "      <td>0.000000</td>\n",
       "      <td>2400.000000</td>\n",
       "    </tr>\n",
       "    <tr>\n",
       "      <th>50%</th>\n",
       "      <td>5.0</td>\n",
       "      <td>3287.500000</td>\n",
       "      <td>50.000000</td>\n",
       "      <td>10308.000000</td>\n",
       "      <td>1516.000000</td>\n",
       "      <td>1970.000000</td>\n",
       "      <td>5.550000e+05</td>\n",
       "      <td>1.000000</td>\n",
       "      <td>0.000000</td>\n",
       "      <td>3500.000000</td>\n",
       "    </tr>\n",
       "    <tr>\n",
       "      <th>75%</th>\n",
       "      <td>5.0</td>\n",
       "      <td>5487.000000</td>\n",
       "      <td>103.000000</td>\n",
       "      <td>10312.000000</td>\n",
       "      <td>2050.000000</td>\n",
       "      <td>1995.000000</td>\n",
       "      <td>6.850000e+05</td>\n",
       "      <td>2.000000</td>\n",
       "      <td>0.000000</td>\n",
       "      <td>4600.000000</td>\n",
       "    </tr>\n",
       "    <tr>\n",
       "      <th>max</th>\n",
       "      <td>5.0</td>\n",
       "      <td>8050.000000</td>\n",
       "      <td>853.000000</td>\n",
       "      <td>10314.000000</td>\n",
       "      <td>9375.000000</td>\n",
       "      <td>2019.000000</td>\n",
       "      <td>2.575000e+06</td>\n",
       "      <td>4.000000</td>\n",
       "      <td>2.000000</td>\n",
       "      <td>45444.000000</td>\n",
       "    </tr>\n",
       "  </tbody>\n",
       "</table>\n",
       "</div>"
      ],
      "text/plain": [
       "       BOROUGH        BLOCK          LOT      ZIP_CODE  GROSS_SQUARE_FEET  \\\n",
       "count   4416.0  4416.000000  4416.000000   4416.000000        4416.000000   \n",
       "mean       5.0  3379.954031    81.978261  10307.974411        1709.162364   \n",
       "std        0.0  2385.493555    95.660983      4.096904         753.904671   \n",
       "min        5.0    14.000000     1.000000  10301.000000         400.000000   \n",
       "25%        5.0  1084.000000    23.000000  10305.000000        1216.750000   \n",
       "50%        5.0  3287.500000    50.000000  10308.000000        1516.000000   \n",
       "75%        5.0  5487.000000   103.000000  10312.000000        2050.000000   \n",
       "max        5.0  8050.000000   853.000000  10314.000000        9375.000000   \n",
       "\n",
       "        YEAR_BUILT    SALE_PRICE  RESIDENTIAL_UNITS  COMMERCIAL_UNITS  \\\n",
       "count  4416.000000  4.416000e+03        4416.000000       4416.000000   \n",
       "mean   1968.017889  5.826647e+05           1.281476          0.005208   \n",
       "std      32.913716  2.337312e+05           0.471888          0.075069   \n",
       "min    1865.000000  1.000000e+04           1.000000          0.000000   \n",
       "25%    1945.000000  4.440990e+05           1.000000          0.000000   \n",
       "50%    1970.000000  5.550000e+05           1.000000          0.000000   \n",
       "75%    1995.000000  6.850000e+05           2.000000          0.000000   \n",
       "max    2019.000000  2.575000e+06           4.000000          2.000000   \n",
       "\n",
       "       LAND_SQUARE_FEET  \n",
       "count       4416.000000  \n",
       "mean        3932.816803  \n",
       "std         2787.484429  \n",
       "min          353.000000  \n",
       "25%         2400.000000  \n",
       "50%         3500.000000  \n",
       "75%         4600.000000  \n",
       "max        45444.000000  "
      ]
     },
     "execution_count": 11,
     "metadata": {},
     "output_type": "execute_result"
    }
   ],
   "source": [
    "REStaten_.describe()"
   ]
  },
  {
   "cell_type": "markdown",
   "metadata": {},
   "source": [
    "Get a better idea of the data by looking at the distribution (histograms) of the key characteristics"
   ]
  },
  {
   "cell_type": "code",
   "execution_count": 12,
   "metadata": {},
   "outputs": [
    {
     "data": {
      "text/plain": [
       "array([[<AxesSubplot:title={'center':'RESIDENTIAL_UNITS'}>]], dtype=object)"
      ]
     },
     "execution_count": 12,
     "metadata": {},
     "output_type": "execute_result"
    },
    {
     "data": {
      "image/png": "[encoded data removed]",
      "text/plain": [
       "<Figure size 432x288 with 1 Axes>"
      ]
     },
     "metadata": {
      "needs_background": "light"
     },
     "output_type": "display_data"
    }
   ],
   "source": [
    "#stats on the number of residential units\n",
    "REStaten_.hist('RESIDENTIAL_UNITS',bins=3)"
   ]
  },
  {
   "cell_type": "markdown",
   "metadata": {},
   "source": [
    "Now look at the correlation between all the quantitative parameters of the properties"
   ]
  },
  {
   "cell_type": "markdown",
   "metadata": {},
   "source": [
    "### Correlation analysis"
   ]
  },
  {
   "cell_type": "code",
   "execution_count": 13,
   "metadata": {},
   "outputs": [
    {
     "data": {
      "text/html": [
       "<div>\n",
       "<style scoped>\n",
       "    .dataframe tbody tr th:only-of-type {\n",
       "        vertical-align: middle;\n",
       "    }\n",
       "\n",
       "    .dataframe tbody tr th {\n",
       "        vertical-align: top;\n",
       "    }\n",
       "\n",
       "    .dataframe thead th {\n",
       "        text-align: right;\n",
       "    }\n",
       "</style>\n",
       "<table border=\"1\" class=\"dataframe\">\n",
       "  <thead>\n",
       "    <tr style=\"text-align: right;\">\n",
       "      <th></th>\n",
       "      <th>YEAR_BUILT</th>\n",
       "      <th>RESIDENTIAL_UNITS</th>\n",
       "      <th>COMMERCIAL_UNITS</th>\n",
       "      <th>GROSS_SQUARE_FEET</th>\n",
       "      <th>LAND_SQUARE_FEET</th>\n",
       "      <th>SALE_PRICE</th>\n",
       "    </tr>\n",
       "  </thead>\n",
       "  <tbody>\n",
       "    <tr>\n",
       "      <th>YEAR_BUILT</th>\n",
       "      <td>1.000000</td>\n",
       "      <td>-0.009658</td>\n",
       "      <td>-0.054582</td>\n",
       "      <td>0.141006</td>\n",
       "      <td>-0.220481</td>\n",
       "      <td>0.206584</td>\n",
       "    </tr>\n",
       "    <tr>\n",
       "      <th>RESIDENTIAL_UNITS</th>\n",
       "      <td>-0.009658</td>\n",
       "      <td>1.000000</td>\n",
       "      <td>-0.009424</td>\n",
       "      <td>0.383982</td>\n",
       "      <td>0.110894</td>\n",
       "      <td>0.245418</td>\n",
       "    </tr>\n",
       "    <tr>\n",
       "      <th>COMMERCIAL_UNITS</th>\n",
       "      <td>-0.054582</td>\n",
       "      <td>-0.009424</td>\n",
       "      <td>1.000000</td>\n",
       "      <td>0.067633</td>\n",
       "      <td>0.067733</td>\n",
       "      <td>0.005392</td>\n",
       "    </tr>\n",
       "    <tr>\n",
       "      <th>GROSS_SQUARE_FEET</th>\n",
       "      <td>0.141006</td>\n",
       "      <td>0.383982</td>\n",
       "      <td>0.067633</td>\n",
       "      <td>1.000000</td>\n",
       "      <td>0.464357</td>\n",
       "      <td>0.640454</td>\n",
       "    </tr>\n",
       "    <tr>\n",
       "      <th>LAND_SQUARE_FEET</th>\n",
       "      <td>-0.220481</td>\n",
       "      <td>0.110894</td>\n",
       "      <td>0.067733</td>\n",
       "      <td>0.464357</td>\n",
       "      <td>1.000000</td>\n",
       "      <td>0.521999</td>\n",
       "    </tr>\n",
       "    <tr>\n",
       "      <th>SALE_PRICE</th>\n",
       "      <td>0.206584</td>\n",
       "      <td>0.245418</td>\n",
       "      <td>0.005392</td>\n",
       "      <td>0.640454</td>\n",
       "      <td>0.521999</td>\n",
       "      <td>1.000000</td>\n",
       "    </tr>\n",
       "  </tbody>\n",
       "</table>\n",
       "</div>"
      ],
      "text/plain": [
       "                   YEAR_BUILT  RESIDENTIAL_UNITS  COMMERCIAL_UNITS  \\\n",
       "YEAR_BUILT           1.000000          -0.009658         -0.054582   \n",
       "RESIDENTIAL_UNITS   -0.009658           1.000000         -0.009424   \n",
       "COMMERCIAL_UNITS    -0.054582          -0.009424          1.000000   \n",
       "GROSS_SQUARE_FEET    0.141006           0.383982          0.067633   \n",
       "LAND_SQUARE_FEET    -0.220481           0.110894          0.067733   \n",
       "SALE_PRICE           0.206584           0.245418          0.005392   \n",
       "\n",
       "                   GROSS_SQUARE_FEET  LAND_SQUARE_FEET  SALE_PRICE  \n",
       "YEAR_BUILT                  0.141006         -0.220481    0.206584  \n",
       "RESIDENTIAL_UNITS           0.383982          0.110894    0.245418  \n",
       "COMMERCIAL_UNITS            0.067633          0.067733    0.005392  \n",
       "GROSS_SQUARE_FEET           1.000000          0.464357    0.640454  \n",
       "LAND_SQUARE_FEET            0.464357          1.000000    0.521999  \n",
       "SALE_PRICE                  0.640454          0.521999    1.000000  "
      ]
     },
     "execution_count": 13,
     "metadata": {},
     "output_type": "execute_result"
    }
   ],
   "source": [
    "REStaten_[['YEAR_BUILT','RESIDENTIAL_UNITS','COMMERCIAL_UNITS','GROSS_SQUARE_FEET','LAND_SQUARE_FEET','SALE_PRICE']].corr()"
   ]
  },
  {
   "cell_type": "markdown",
   "metadata": {},
   "source": [
    "Size, land area appear to demonstrate the strongest correlations trailed by the number of residential units"
   ]
  },
  {
   "cell_type": "markdown",
   "metadata": {},
   "source": [
    "Perform a uni-variate linear regression on the feature showing the strongest correlation - the size"
   ]
  },
  {
   "cell_type": "code",
   "execution_count": 14,
   "metadata": {},
   "outputs": [],
   "source": [
    "from sklearn.linear_model import LinearRegression"
   ]
  },
  {
   "cell_type": "code",
   "execution_count": 15,
   "metadata": {},
   "outputs": [],
   "source": [
    "#fit the regression without intercept\n",
    "lm = LinearRegression(fit_intercept=False).fit(REStaten_[['GROSS_SQUARE_FEET']], REStaten_['SALE_PRICE'])"
   ]
  },
  {
   "cell_type": "code",
   "execution_count": 16,
   "metadata": {},
   "outputs": [
    {
     "data": {
      "text/plain": [
       "array([317.72592299])"
      ]
     },
     "execution_count": 16,
     "metadata": {},
     "output_type": "execute_result"
    }
   ],
   "source": [
    "#slope coefficient\n",
    "lm.coef_"
   ]
  },
  {
   "cell_type": "code",
   "execution_count": 17,
   "metadata": {},
   "outputs": [
    {
     "data": {
      "text/plain": [
       "(array([198.55835005]), 243296.25750452286)"
      ]
     },
     "execution_count": 17,
     "metadata": {},
     "output_type": "execute_result"
    }
   ],
   "source": [
    "#fit regression with intercept\n",
    "lm = LinearRegression(fit_intercept=True).fit(REStaten_[['GROSS_SQUARE_FEET']], REStaten_['SALE_PRICE'])\n",
    "lm.coef_, lm.intercept_"
   ]
  },
  {
   "cell_type": "code",
   "execution_count": 18,
   "metadata": {},
   "outputs": [
    {
     "name": "stdout",
     "output_type": "stream",
     "text": [
      "Price~198.55835004513676*Size+243296.25750452286\n"
     ]
    }
   ],
   "source": [
    "print('Price~{}*Size+{}'.format(lm.coef_[0],lm.intercept_))"
   ]
  },
  {
   "cell_type": "code",
   "execution_count": 19,
   "metadata": {},
   "outputs": [
    {
     "name": "stdout",
     "output_type": "stream",
     "text": [
      "                            OLS Regression Results                            \n",
      "==============================================================================\n",
      "Dep. Variable:             SALE_PRICE   R-squared:                       0.410\n",
      "Model:                            OLS   Adj. R-squared:                  0.410\n",
      "Method:                 Least Squares   F-statistic:                     3070.\n",
      "Date:                Mon, 08 Nov 2021   Prob (F-statistic):               0.00\n",
      "Time:                        22:44:54   Log-Likelihood:                -59690.\n",
      "No. Observations:                4416   AIC:                         1.194e+05\n",
      "Df Residuals:                    4414   BIC:                         1.194e+05\n",
      "Df Model:                           1                                         \n",
      "Covariance Type:            nonrobust                                         \n",
      "=====================================================================================\n",
      "                        coef    std err          t      P>|t|      [0.025      0.975]\n",
      "-------------------------------------------------------------------------------------\n",
      "Intercept          2.433e+05   6694.585     36.342      0.000     2.3e+05    2.56e+05\n",
      "GROSS_SQUARE_FEET   198.5584      3.584     55.404      0.000     191.532     205.584\n",
      "==============================================================================\n",
      "Omnibus:                      462.623   Durbin-Watson:                   1.425\n",
      "Prob(Omnibus):                  0.000   Jarque-Bera (JB):             3749.138\n",
      "Skew:                           0.117   Prob(JB):                         0.00\n",
      "Kurtosis:                       7.508   Cond. No.                     4.63e+03\n",
      "==============================================================================\n",
      "\n",
      "Notes:\n",
      "[1] Standard Errors assume that the covariance matrix of the errors is correctly specified.\n",
      "[2] The condition number is large, 4.63e+03. This might indicate that there are\n",
      "strong multicollinearity or other numerical problems.\n"
     ]
    }
   ],
   "source": [
    "#alternative implementation with fomulae\n",
    "lm = smf.ols(formula='SALE_PRICE~GROSS_SQUARE_FEET', data = REStaten_).fit()\n",
    "print(lm.summary())"
   ]
  },
  {
   "cell_type": "markdown",
   "metadata": {},
   "source": [
    "Now standardize the sale_price and gross_square_feet by subtracting averages and dividing by standard deviation\n",
    "$$\n",
    "X^*:=(X-E[X])/\\sigma(X)\n",
    "$$\n",
    "Repeat the regression. Compare the regression coefficient against the correlation between sale_price and gross_square_feet. Do you find smth interesting here? Does the slope coefficient remind you something?"
   ]
  },
  {
   "cell_type": "code",
   "execution_count": 20,
   "metadata": {},
   "outputs": [],
   "source": [
    "REStaten_['PRICE_stand']=(REStaten_['SALE_PRICE']-REStaten_['SALE_PRICE'].mean())/REStaten_['SALE_PRICE'].std()"
   ]
  },
  {
   "cell_type": "code",
   "execution_count": 21,
   "metadata": {},
   "outputs": [],
   "source": [
    "REStaten_['SIZE_stand']=(REStaten_['GROSS_SQUARE_FEET']-REStaten_['GROSS_SQUARE_FEET'].mean())/REStaten_['GROSS_SQUARE_FEET'].std()"
   ]
  },
  {
   "cell_type": "code",
   "execution_count": 22,
   "metadata": {},
   "outputs": [
    {
     "name": "stdout",
     "output_type": "stream",
     "text": [
      "                                 OLS Regression Results                                \n",
      "=======================================================================================\n",
      "Dep. Variable:            PRICE_stand   R-squared (uncentered):                   0.410\n",
      "Model:                            OLS   Adj. R-squared (uncentered):              0.410\n",
      "Method:                 Least Squares   F-statistic:                              3070.\n",
      "Date:                Mon, 08 Nov 2021   Prob (F-statistic):                        0.00\n",
      "Time:                        22:44:54   Log-Likelihood:                         -5099.8\n",
      "No. Observations:                4416   AIC:                                  1.020e+04\n",
      "Df Residuals:                    4415   BIC:                                  1.021e+04\n",
      "Df Model:                           1                                                  \n",
      "Covariance Type:            nonrobust                                                  \n",
      "==============================================================================\n",
      "                 coef    std err          t      P>|t|      [0.025      0.975]\n",
      "------------------------------------------------------------------------------\n",
      "SIZE_stand     0.6405      0.012     55.411      0.000       0.618       0.663\n",
      "==============================================================================\n",
      "Omnibus:                      462.623   Durbin-Watson:                   1.425\n",
      "Prob(Omnibus):                  0.000   Jarque-Bera (JB):             3749.138\n",
      "Skew:                           0.117   Prob(JB):                         0.00\n",
      "Kurtosis:                       7.508   Cond. No.                         1.00\n",
      "==============================================================================\n",
      "\n",
      "Notes:\n",
      "[1] R² is computed without centering (uncentered) since the model does not contain a constant.\n",
      "[2] Standard Errors assume that the covariance matrix of the errors is correctly specified.\n"
     ]
    }
   ],
   "source": [
    "#alternative implementation with fomulae (-1 stands for no intercept as it inclused one by default)\n",
    "lm = smf.ols(formula='PRICE_stand~SIZE_stand-1', data = REStaten_).fit()\n",
    "print(lm.summary())"
   ]
  },
  {
   "cell_type": "code",
   "execution_count": 23,
   "metadata": {},
   "outputs": [
    {
     "data": {
      "text/plain": [
       "0.6404539846221196"
      ]
     },
     "execution_count": 23,
     "metadata": {},
     "output_type": "execute_result"
    }
   ],
   "source": [
    "#as we see the coefficient is exacltly the correlation coeffient between the Price and Size\n",
    "corrXY = np.corrcoef(REStaten_['SALE_PRICE'],REStaten_['GROSS_SQUARE_FEET'])[0,1]; corrXY"
   ]
  },
  {
   "cell_type": "code",
   "execution_count": 24,
   "metadata": {},
   "outputs": [
    {
     "data": {
      "text/plain": [
       "0.41018130641835016"
      ]
     },
     "execution_count": 24,
     "metadata": {},
     "output_type": "execute_result"
    }
   ],
   "source": [
    "#and the R-squared is exactly the square of the correlation coefficient\n",
    "corrXY**2"
   ]
  },
  {
   "cell_type": "code",
   "execution_count": 25,
   "metadata": {},
   "outputs": [
    {
     "data": {
      "text/plain": [
       "0.41018130641835016"
      ]
     },
     "execution_count": 25,
     "metadata": {},
     "output_type": "execute_result"
    }
   ],
   "source": [
    "lm.rsquared"
   ]
  },
  {
   "cell_type": "code",
   "execution_count": 26,
   "metadata": {},
   "outputs": [
    {
     "data": {
      "text/plain": [
       "1709.1623641304348"
      ]
     },
     "execution_count": 26,
     "metadata": {},
     "output_type": "execute_result"
    }
   ],
   "source": [
    "#reconstruct original scale regression using the standardized regression\n",
    "muX = REStaten_['GROSS_SQUARE_FEET'].mean(); muX"
   ]
  },
  {
   "cell_type": "code",
   "execution_count": 27,
   "metadata": {},
   "outputs": [
    {
     "data": {
      "text/plain": [
       "753.9046706673962"
      ]
     },
     "execution_count": 27,
     "metadata": {},
     "output_type": "execute_result"
    }
   ],
   "source": [
    "sigmaX = REStaten_['GROSS_SQUARE_FEET'].std(); sigmaX"
   ]
  },
  {
   "cell_type": "code",
   "execution_count": 28,
   "metadata": {},
   "outputs": [
    {
     "data": {
      "text/plain": [
       "582664.7164855072"
      ]
     },
     "execution_count": 28,
     "metadata": {},
     "output_type": "execute_result"
    }
   ],
   "source": [
    "muY = REStaten_['SALE_PRICE'].mean(); muY"
   ]
  },
  {
   "cell_type": "code",
   "execution_count": 29,
   "metadata": {},
   "outputs": [
    {
     "data": {
      "text/plain": [
       "233731.1830253704"
      ]
     },
     "execution_count": 29,
     "metadata": {},
     "output_type": "execute_result"
    }
   ],
   "source": [
    "sigmaY = REStaten_['SALE_PRICE'].std(); sigmaY"
   ]
  },
  {
   "cell_type": "code",
   "execution_count": 30,
   "metadata": {},
   "outputs": [
    {
     "data": {
      "text/plain": [
       "198.55835004513673"
      ]
     },
     "execution_count": 30,
     "metadata": {},
     "output_type": "execute_result"
    }
   ],
   "source": [
    "w1 = sigmaY * corrXY / sigmaX; w1"
   ]
  },
  {
   "cell_type": "code",
   "execution_count": 31,
   "metadata": {},
   "outputs": [
    {
     "data": {
      "text/plain": [
       "243296.25750452286"
      ]
     },
     "execution_count": 31,
     "metadata": {},
     "output_type": "execute_result"
    }
   ],
   "source": [
    "w0 = muY - sigmaY * corrXY * muX / sigmaX; w0"
   ]
  },
  {
   "cell_type": "code",
   "execution_count": 32,
   "metadata": {},
   "outputs": [
    {
     "name": "stdout",
     "output_type": "stream",
     "text": [
      "                            OLS Regression Results                            \n",
      "==============================================================================\n",
      "Dep. Variable:             SALE_PRICE   R-squared:                       0.410\n",
      "Model:                            OLS   Adj. R-squared:                  0.410\n",
      "Method:                 Least Squares   F-statistic:                     3070.\n",
      "Date:                Mon, 08 Nov 2021   Prob (F-statistic):               0.00\n",
      "Time:                        22:44:54   Log-Likelihood:                -59690.\n",
      "No. Observations:                4416   AIC:                         1.194e+05\n",
      "Df Residuals:                    4414   BIC:                         1.194e+05\n",
      "Df Model:                           1                                         \n",
      "Covariance Type:            nonrobust                                         \n",
      "=====================================================================================\n",
      "                        coef    std err          t      P>|t|      [0.025      0.975]\n",
      "-------------------------------------------------------------------------------------\n",
      "Intercept          2.433e+05   6694.585     36.342      0.000     2.3e+05    2.56e+05\n",
      "GROSS_SQUARE_FEET   198.5584      3.584     55.404      0.000     191.532     205.584\n",
      "==============================================================================\n",
      "Omnibus:                      462.623   Durbin-Watson:                   1.425\n",
      "Prob(Omnibus):                  0.000   Jarque-Bera (JB):             3749.138\n",
      "Skew:                           0.117   Prob(JB):                         0.00\n",
      "Kurtosis:                       7.508   Cond. No.                     4.63e+03\n",
      "==============================================================================\n",
      "\n",
      "Notes:\n",
      "[1] Standard Errors assume that the covariance matrix of the errors is correctly specified.\n",
      "[2] The condition number is large, 4.63e+03. This might indicate that there are\n",
      "strong multicollinearity or other numerical problems.\n"
     ]
    }
   ],
   "source": [
    "#now compare with the orignal non-standardised regression\n",
    "lm = smf.ols(formula='SALE_PRICE~GROSS_SQUARE_FEET', data = REStaten_).fit()\n",
    "print(lm.summary())"
   ]
  },
  {
   "cell_type": "code",
   "execution_count": 33,
   "metadata": {},
   "outputs": [
    {
     "name": "stdout",
     "output_type": "stream",
     "text": [
      "                                 OLS Regression Results                                \n",
      "=======================================================================================\n",
      "Dep. Variable:             SALE_PRICE   R-squared (uncentered):                   0.894\n",
      "Model:                            OLS   Adj. R-squared (uncentered):              0.894\n",
      "Method:                 Least Squares   F-statistic:                          3.716e+04\n",
      "Date:                Mon, 08 Nov 2021   Prob (F-statistic):                        0.00\n",
      "Time:                        22:44:54   Log-Likelihood:                         -60268.\n",
      "No. Observations:                4416   AIC:                                  1.205e+05\n",
      "Df Residuals:                    4415   BIC:                                  1.205e+05\n",
      "Df Model:                           1                                                  \n",
      "Covariance Type:            nonrobust                                                  \n",
      "=====================================================================================\n",
      "                        coef    std err          t      P>|t|      [0.025      0.975]\n",
      "-------------------------------------------------------------------------------------\n",
      "GROSS_SQUARE_FEET   317.7259      1.648    192.766      0.000     314.495     320.957\n",
      "==============================================================================\n",
      "Omnibus:                     1278.006   Durbin-Watson:                   1.489\n",
      "Prob(Omnibus):                  0.000   Jarque-Bera (JB):            12881.525\n",
      "Skew:                          -1.085   Prob(JB):                         0.00\n",
      "Kurtosis:                      11.081   Cond. No.                         1.00\n",
      "==============================================================================\n",
      "\n",
      "Notes:\n",
      "[1] R² is computed without centering (uncentered) since the model does not contain a constant.\n",
      "[2] Standard Errors assume that the covariance matrix of the errors is correctly specified.\n"
     ]
    }
   ],
   "source": [
    "#also consider a regression without intercept\n",
    "lm = smf.ols(formula='SALE_PRICE~GROSS_SQUARE_FEET-1', data = REStaten_).fit()\n",
    "print(lm.summary())"
   ]
  },
  {
   "cell_type": "markdown",
   "metadata": {},
   "source": [
    "The summary does not only return the coefficient estimate but also a lot of statistics including standard error and confidence interval for it (the interval to which the coefficient value is supposed to belong with 95\\% confidence. Where do those come from as the formulae (2.3) seem perfectly robust?\n",
    "Any model comes with an uncertainty of both - the fit and the coefficients estimate. Illustrate it on the experiment below."
   ]
  },
  {
   "cell_type": "code",
   "execution_count": 34,
   "metadata": {},
   "outputs": [],
   "source": [
    "#perform regression on 100 subsamples\n",
    "np.random.seed(2019)\n",
    "W=[]\n",
    "for i in range(0,100):\n",
    "    df=REStaten_.sample(frac=0.7)\n",
    "    lm = smf.ols(formula='SALE_PRICE~GROSS_SQUARE_FEET-1', data = df).fit()\n",
    "    W+=[lm.params.GROSS_SQUARE_FEET]"
   ]
  },
  {
   "cell_type": "code",
   "execution_count": 35,
   "metadata": {},
   "outputs": [
    {
     "data": {
      "text/plain": [
       "317.64825558819604"
      ]
     },
     "execution_count": 35,
     "metadata": {},
     "output_type": "execute_result"
    }
   ],
   "source": [
    "#and report mean and standard deviations of the resulting slope coefficients\n",
    "np.array(W).mean()"
   ]
  },
  {
   "cell_type": "code",
   "execution_count": 36,
   "metadata": {},
   "outputs": [
    {
     "data": {
      "text/plain": [
       "1.804072710698564"
      ]
     },
     "execution_count": 36,
     "metadata": {},
     "output_type": "execute_result"
    }
   ],
   "source": [
    "np.array(W).std()"
   ]
  },
  {
   "cell_type": "markdown",
   "metadata": {},
   "source": [
    "but mind the fact that variance will actually depend on the sample sizes and there is no direct correspondence - it was coincidental that the std of our experiments matched standard error reported in the regression summary. Those are different concepts. This experiment is just an illustration of the idea. A more robust explanation of the confidence intervals of the fit will be provided later in the class"
   ]
  },
  {
   "cell_type": "markdown",
   "metadata": {},
   "source": [
    "Visualizations might further give an idea on how does the regression perform"
   ]
  },
  {
   "cell_type": "code",
   "execution_count": 37,
   "metadata": {},
   "outputs": [
    {
     "data": {
      "text/plain": [
       "<AxesSubplot:xlabel='GROSS_SQUARE_FEET', ylabel='SALE_PRICE'>"
      ]
     },
     "execution_count": 37,
     "metadata": {},
     "output_type": "execute_result"
    },
    {
     "data": {
      "image/png": "[encoded data removed]",
      "text/plain": [
       "<Figure size 432x288 with 1 Axes>"
      ]
     },
     "metadata": {
      "needs_background": "light"
     },
     "output_type": "display_data"
    }
   ],
   "source": [
    "#first visualize the data\n",
    "REStaten_.plot(x='GROSS_SQUARE_FEET',y='SALE_PRICE',kind='scatter')"
   ]
  },
  {
   "cell_type": "code",
   "execution_count": 38,
   "metadata": {},
   "outputs": [],
   "source": [
    "#obtain values predicted by the regression\n",
    "lm = smf.ols(formula='SALE_PRICE~GROSS_SQUARE_FEET', data = REStaten_).fit()\n",
    "REStaten_['predicted_price']=lm.predict()"
   ]
  },
  {
   "cell_type": "code",
   "execution_count": 39,
   "metadata": {},
   "outputs": [
    {
     "data": {
      "text/html": [
       "<div>\n",
       "<style scoped>\n",
       "    .dataframe tbody tr th:only-of-type {\n",
       "        vertical-align: middle;\n",
       "    }\n",
       "\n",
       "    .dataframe tbody tr th {\n",
       "        vertical-align: top;\n",
       "    }\n",
       "\n",
       "    .dataframe thead th {\n",
       "        text-align: right;\n",
       "    }\n",
       "</style>\n",
       "<table border=\"1\" class=\"dataframe\">\n",
       "  <thead>\n",
       "    <tr style=\"text-align: right;\">\n",
       "      <th></th>\n",
       "      <th>SALE_PRICE</th>\n",
       "      <th>predicted_price</th>\n",
       "    </tr>\n",
       "  </thead>\n",
       "  <tbody>\n",
       "    <tr>\n",
       "      <th>1</th>\n",
       "      <td>1650000</td>\n",
       "      <td>946192.816664</td>\n",
       "    </tr>\n",
       "    <tr>\n",
       "      <th>2</th>\n",
       "      <td>775000</td>\n",
       "      <td>808790.438433</td>\n",
       "    </tr>\n",
       "    <tr>\n",
       "      <th>3</th>\n",
       "      <td>685000</td>\n",
       "      <td>680124.627604</td>\n",
       "    </tr>\n",
       "    <tr>\n",
       "      <th>6</th>\n",
       "      <td>620000</td>\n",
       "      <td>393406.370139</td>\n",
       "    </tr>\n",
       "    <tr>\n",
       "      <th>8</th>\n",
       "      <td>1221900</td>\n",
       "      <td>799259.637631</td>\n",
       "    </tr>\n",
       "  </tbody>\n",
       "</table>\n",
       "</div>"
      ],
      "text/plain": [
       "   SALE_PRICE  predicted_price\n",
       "1     1650000    946192.816664\n",
       "2      775000    808790.438433\n",
       "3      685000    680124.627604\n",
       "6      620000    393406.370139\n",
       "8     1221900    799259.637631"
      ]
     },
     "execution_count": 39,
     "metadata": {},
     "output_type": "execute_result"
    }
   ],
   "source": [
    "REStaten_[['SALE_PRICE','predicted_price']].head()"
   ]
  },
  {
   "cell_type": "code",
   "execution_count": 40,
   "metadata": {},
   "outputs": [
    {
     "data": {
      "image/png": "[encoded data removed]",
      "text/plain": [
       "<Figure size 432x288 with 1 Axes>"
      ]
     },
     "metadata": {
      "needs_background": "light"
     },
     "output_type": "display_data"
    }
   ],
   "source": [
    "#add the prediction line\n",
    "fig, ax = plt.subplots() #get axis to plot on\n",
    "REStaten_.plot(ax=ax,kind='scatter',x='GROSS_SQUARE_FEET', y='SALE_PRICE') #show the data\n",
    "ax.plot(REStaten_['GROSS_SQUARE_FEET'],REStaten_['predicted_price'],'r-'); #show the regression line"
   ]
  },
  {
   "cell_type": "code",
   "execution_count": 41,
   "metadata": {},
   "outputs": [
    {
     "data": {
      "image/png": "[encoded data removed]",
      "text/plain": [
       "<Figure size 432x288 with 1 Axes>"
      ]
     },
     "metadata": {
      "needs_background": "light"
     },
     "output_type": "display_data"
    }
   ],
   "source": [
    "#another way visualize: actual values vs predicted values\n",
    "fig, ax = plt.subplots() #get axis to plot on\n",
    "REStaten_.plot(ax=ax,kind='scatter',x='SALE_PRICE', y='predicted_price') #show the data\n",
    "ax.plot(REStaten_['SALE_PRICE'],REStaten_['SALE_PRICE'],'r-'); #show the regression line"
   ]
  },
  {
   "cell_type": "markdown",
   "metadata": {},
   "source": [
    "### Homework task 1. Perform regressions on the remaining regressors: \n",
    "LAND_SQUARE_FEET,YEAR_BUILT,RESIDENTIAL_UNITS,COMMERCIAL_UNITS, with intercept. Visualize the regression fit\n",
    "\n",
    "Report results (together with those for GROSS_SQ_FEET) in a data frame with the following columns: \n",
    "slope | intercept | R2, having regressors as index. R-squared could be obtained through lm.rsquared"
   ]
  },
  {
   "cell_type": "code",
   "execution_count": 42,
   "metadata": {},
   "outputs": [],
   "source": [
    "#fit regression with intercept\n",
    "regr_models_dict = {}\n",
    "feature_list = ['GROSS_SQUARE_FEET','LAND_SQUARE_FEET','YEAR_BUILT','RESIDENTIAL_UNITS','COMMERCIAL_UNITS']\n",
    "for feat in feature_list:\n",
    "    regr_models_dict[feat] = smf.ols(formula='SALE_PRICE~' + str(feat), data = REStaten_).fit()\n",
    "    REStaten_['predicted_price_'+str(feat)] = regr_models_dict[feat].predict()\n",
    "\n",
    "# lg_gross_sqft = smf.ols(formula='SALE_PRICE~GROSS_SQUARE_FEET', data = REStaten_).fit()\n",
    "# lg_land_sqft = smf.ols(formula='SALE_PRICE~LAND_SQUARE_FEET', data = REStaten_).fit()\n",
    "# lg_year_bt = smf.ols(formula='SALE_PRICE~YEAR_BUILT', data = REStaten_).fit()\n",
    "# lg_res_units = smf.ols(formula='SALE_PRICE~RESIDENTIAL_UNITS', data = REStaten_).fit()\n",
    "# lg_com_units = smf.ols(formula='SALE_PRICE~COMMERCIAL_UNITS', data = REStaten_).fit()"
   ]
  },
  {
   "cell_type": "code",
   "execution_count": 43,
   "metadata": {},
   "outputs": [],
   "source": [
    "# REStaten_['predicted_price_gross']=lg_gross_sqft.predict()\n",
    "# REStaten_['predicted_price_land']=lg_land_sqft.predict()\n",
    "# REStaten_['predicted_price_year']=lg_year_bt.predict()\n",
    "# REStaten_['predicted_price_res']=lg_res_units.predict()\n",
    "# REStaten_['predicted_price_com']=lg_com_units.predict()"
   ]
  },
  {
   "cell_type": "code",
   "execution_count": 44,
   "metadata": {},
   "outputs": [
    {
     "data": {
      "image/png": "[encoded data removed]",
      "text/plain": [
       "<Figure size 432x288 with 6 Axes>"
      ]
     },
     "metadata": {
      "needs_background": "light"
     },
     "output_type": "display_data"
    }
   ],
   "source": [
    "#Visualize\n",
    "fig, axs = plt.subplots(3, 2) #get axis to plot in grids\n",
    "REStaten_.plot(ax=axs[0,0],kind='scatter',x='GROSS_SQUARE_FEET', y='SALE_PRICE') #show the data\n",
    "axs[0,0].plot(REStaten_['GROSS_SQUARE_FEET'],REStaten_['predicted_price_GROSS_SQUARE_FEET'],'r-'); #show the regression line\n",
    "\n",
    "REStaten_.plot(ax=axs[0,1],kind='scatter',x='LAND_SQUARE_FEET', y='SALE_PRICE') #show the data\n",
    "axs[0,1].plot(REStaten_['LAND_SQUARE_FEET'],REStaten_['predicted_price_LAND_SQUARE_FEET'],'r-'); #show the regression line\n",
    "\n",
    "REStaten_.plot(ax=axs[1,0],kind='scatter',x='YEAR_BUILT', y='SALE_PRICE') #show the data\n",
    "axs[1,0].plot(REStaten_['YEAR_BUILT'],REStaten_['predicted_price_YEAR_BUILT'],'r-'); #show the regression line\n",
    "\n",
    "REStaten_.plot(ax=axs[1,1],kind='scatter',x='RESIDENTIAL_UNITS', y='SALE_PRICE') #show the data\n",
    "axs[1,1].plot(REStaten_['RESIDENTIAL_UNITS'],REStaten_['predicted_price_RESIDENTIAL_UNITS'],'r-'); #show the regression line\n",
    "\n",
    "REStaten_.plot(ax=axs[2,0],kind='scatter',x='COMMERCIAL_UNITS', y='SALE_PRICE') #show the data\n",
    "axs[2,0].plot(REStaten_['COMMERCIAL_UNITS'],REStaten_['predicted_price_COMMERCIAL_UNITS'],'r-'); #show the regression line\n"
   ]
  },
  {
   "cell_type": "code",
   "execution_count": 45,
   "metadata": {},
   "outputs": [],
   "source": [
    "performance_report_df = {}\n",
    "for feat in feature_list:\n",
    "    performance_report_df[feat] = {'slope':regr_models_dict[feat].params[feat],'intercept':regr_models_dict[feat].params['Intercept'],'R_squared':regr_models_dict[feat].rsquared}\n",
    "    \n",
    "performance_report_df = pd.DataFrame(performance_report_df).T"
   ]
  },
  {
   "cell_type": "code",
   "execution_count": 46,
   "metadata": {},
   "outputs": [
    {
     "data": {
      "text/html": [
       "<div>\n",
       "<style scoped>\n",
       "    .dataframe tbody tr th:only-of-type {\n",
       "        vertical-align: middle;\n",
       "    }\n",
       "\n",
       "    .dataframe tbody tr th {\n",
       "        vertical-align: top;\n",
       "    }\n",
       "\n",
       "    .dataframe thead th {\n",
       "        text-align: right;\n",
       "    }\n",
       "</style>\n",
       "<table border=\"1\" class=\"dataframe\">\n",
       "  <thead>\n",
       "    <tr style=\"text-align: right;\">\n",
       "      <th></th>\n",
       "      <th>slope</th>\n",
       "      <th>intercept</th>\n",
       "      <th>R_squared</th>\n",
       "    </tr>\n",
       "  </thead>\n",
       "  <tbody>\n",
       "    <tr>\n",
       "      <th>GROSS_SQUARE_FEET</th>\n",
       "      <td>198.558350</td>\n",
       "      <td>2.432963e+05</td>\n",
       "      <td>0.410181</td>\n",
       "    </tr>\n",
       "    <tr>\n",
       "      <th>LAND_SQUARE_FEET</th>\n",
       "      <td>43.769710</td>\n",
       "      <td>4.105265e+05</td>\n",
       "      <td>0.272483</td>\n",
       "    </tr>\n",
       "    <tr>\n",
       "      <th>YEAR_BUILT</th>\n",
       "      <td>1467.017849</td>\n",
       "      <td>-2.304453e+06</td>\n",
       "      <td>0.042677</td>\n",
       "    </tr>\n",
       "    <tr>\n",
       "      <th>RESIDENTIAL_UNITS</th>\n",
       "      <td>121558.324664</td>\n",
       "      <td>4.268906e+05</td>\n",
       "      <td>0.060230</td>\n",
       "    </tr>\n",
       "    <tr>\n",
       "      <th>COMMERCIAL_UNITS</th>\n",
       "      <td>16788.907683</td>\n",
       "      <td>5.825773e+05</td>\n",
       "      <td>0.000029</td>\n",
       "    </tr>\n",
       "  </tbody>\n",
       "</table>\n",
       "</div>"
      ],
      "text/plain": [
       "                           slope     intercept  R_squared\n",
       "GROSS_SQUARE_FEET     198.558350  2.432963e+05   0.410181\n",
       "LAND_SQUARE_FEET       43.769710  4.105265e+05   0.272483\n",
       "YEAR_BUILT           1467.017849 -2.304453e+06   0.042677\n",
       "RESIDENTIAL_UNITS  121558.324664  4.268906e+05   0.060230\n",
       "COMMERCIAL_UNITS    16788.907683  5.825773e+05   0.000029"
      ]
     },
     "execution_count": 46,
     "metadata": {},
     "output_type": "execute_result"
    }
   ],
   "source": [
    "performance_report_df"
   ]
  },
  {
   "cell_type": "markdown",
   "metadata": {},
   "source": [
    "## Multi-variate regression case"
   ]
  },
  {
   "cell_type": "markdown",
   "metadata": {},
   "source": [
    "Now try multivariate regression on GROSS_SQUARE_FEET+LAND_SQUARE_FEET+YEAR_BUILT together"
   ]
  },
  {
   "cell_type": "code",
   "execution_count": 47,
   "metadata": {},
   "outputs": [
    {
     "name": "stdout",
     "output_type": "stream",
     "text": [
      "                            OLS Regression Results                            \n",
      "==============================================================================\n",
      "Dep. Variable:             SALE_PRICE   R-squared:                       0.519\n",
      "Model:                            OLS   Adj. R-squared:                  0.519\n",
      "Method:                 Least Squares   F-statistic:                     1589.\n",
      "Date:                Mon, 08 Nov 2021   Prob (F-statistic):               0.00\n",
      "Time:                        22:44:57   Log-Likelihood:                -59238.\n",
      "No. Observations:                4416   AIC:                         1.185e+05\n",
      "Df Residuals:                    4412   BIC:                         1.185e+05\n",
      "Df Model:                           3                                         \n",
      "Covariance Type:            nonrobust                                         \n",
      "=====================================================================================\n",
      "                        coef    std err          t      P>|t|      [0.025      0.975]\n",
      "-------------------------------------------------------------------------------------\n",
      "Intercept         -2.933e+06   1.55e+05    -18.859      0.000   -3.24e+06   -2.63e+06\n",
      "GROSS_SQUARE_FEET   135.5709      3.808     35.601      0.000     128.105     143.037\n",
      "LAND_SQUARE_FEET     30.9260      1.045     29.584      0.000      28.877      32.975\n",
      "YEAR_BUILT         1606.6190     79.201     20.285      0.000    1451.346    1761.892\n",
      "==============================================================================\n",
      "Omnibus:                      555.642   Durbin-Watson:                   1.568\n",
      "Prob(Omnibus):                  0.000   Jarque-Bera (JB):             4478.589\n",
      "Skew:                          -0.322   Prob(JB):                         0.00\n",
      "Kurtosis:                       7.891   Cond. No.                     3.42e+05\n",
      "==============================================================================\n",
      "\n",
      "Notes:\n",
      "[1] Standard Errors assume that the covariance matrix of the errors is correctly specified.\n",
      "[2] The condition number is large, 3.42e+05. This might indicate that there are\n",
      "strong multicollinearity or other numerical problems.\n"
     ]
    }
   ],
   "source": [
    "lm = smf.ols(formula='SALE_PRICE~GROSS_SQUARE_FEET+LAND_SQUARE_FEET+YEAR_BUILT', data = REStaten_).fit()\n",
    "print(lm.summary())"
   ]
  },
  {
   "cell_type": "code",
   "execution_count": 48,
   "metadata": {},
   "outputs": [],
   "source": [
    "#notice that the coefficient for the gross_square_feet have changed again - likely due to the correlation with land size"
   ]
  },
  {
   "cell_type": "markdown",
   "metadata": {},
   "source": [
    "Now try multivariate regression on RESIDENTIAL_UNITS+COMMERCIAL_UNITS together"
   ]
  },
  {
   "cell_type": "code",
   "execution_count": 49,
   "metadata": {},
   "outputs": [
    {
     "name": "stdout",
     "output_type": "stream",
     "text": [
      "                            OLS Regression Results                            \n",
      "==============================================================================\n",
      "Dep. Variable:             SALE_PRICE   R-squared:                       0.060\n",
      "Model:                            OLS   Adj. R-squared:                  0.060\n",
      "Method:                 Least Squares   F-statistic:                     141.6\n",
      "Date:                Mon, 08 Nov 2021   Prob (F-statistic):           2.58e-60\n",
      "Time:                        22:44:57   Log-Likelihood:                -60719.\n",
      "No. Observations:                4416   AIC:                         1.214e+05\n",
      "Df Residuals:                    4413   BIC:                         1.215e+05\n",
      "Df Model:                           2                                         \n",
      "Covariance Type:            nonrobust                                         \n",
      "=====================================================================================\n",
      "                        coef    std err          t      P>|t|      [0.025      0.975]\n",
      "-------------------------------------------------------------------------------------\n",
      "Intercept          4.267e+05   9875.494     43.210      0.000    4.07e+05    4.46e+05\n",
      "RESIDENTIAL_UNITS  1.216e+05   7228.148     16.822      0.000    1.07e+05    1.36e+05\n",
      "COMMERCIAL_UNITS   2.399e+04   4.54e+04      0.528      0.597   -6.51e+04    1.13e+05\n",
      "==============================================================================\n",
      "Omnibus:                     1587.250   Durbin-Watson:                   1.170\n",
      "Prob(Omnibus):                  0.000   Jarque-Bera (JB):            11725.742\n",
      "Skew:                           1.520   Prob(JB):                         0.00\n",
      "Kurtosis:                      10.381   Cond. No.                         22.2\n",
      "==============================================================================\n",
      "\n",
      "Notes:\n",
      "[1] Standard Errors assume that the covariance matrix of the errors is correctly specified.\n"
     ]
    }
   ],
   "source": [
    "lm = smf.ols(formula='SALE_PRICE~RESIDENTIAL_UNITS+COMMERCIAL_UNITS', data = REStaten_).fit()\n",
    "print(lm.summary())"
   ]
  },
  {
   "cell_type": "markdown",
   "metadata": {},
   "source": [
    "And now combine all the variables together"
   ]
  },
  {
   "cell_type": "code",
   "execution_count": 50,
   "metadata": {},
   "outputs": [
    {
     "name": "stdout",
     "output_type": "stream",
     "text": [
      "                            OLS Regression Results                            \n",
      "==============================================================================\n",
      "Dep. Variable:             SALE_PRICE   R-squared:                       0.522\n",
      "Model:                            OLS   Adj. R-squared:                  0.522\n",
      "Method:                 Least Squares   F-statistic:                     964.6\n",
      "Date:                Mon, 08 Nov 2021   Prob (F-statistic):               0.00\n",
      "Time:                        22:44:57   Log-Likelihood:                -59224.\n",
      "No. Observations:                4416   AIC:                         1.185e+05\n",
      "Df Residuals:                    4410   BIC:                         1.185e+05\n",
      "Df Model:                           5                                         \n",
      "Covariance Type:            nonrobust                                         \n",
      "=====================================================================================\n",
      "                        coef    std err          t      P>|t|      [0.025      0.975]\n",
      "-------------------------------------------------------------------------------------\n",
      "Intercept         -2.987e+06   1.57e+05    -19.061      0.000   -3.29e+06   -2.68e+06\n",
      "GROSS_SQUARE_FEET   129.9657      4.131     31.460      0.000     121.867     138.065\n",
      "LAND_SQUARE_FEET     31.4609      1.049     29.992      0.000      29.404      33.517\n",
      "YEAR_BUILT         1624.0300     79.523     20.422      0.000    1468.125    1779.935\n",
      "RESIDENTIAL_UNITS  2.215e+04   5636.248      3.930      0.000    1.11e+04    3.32e+04\n",
      "COMMERCIAL_UNITS  -1.104e+05   3.26e+04     -3.390      0.001   -1.74e+05   -4.66e+04\n",
      "==============================================================================\n",
      "Omnibus:                      547.931   Durbin-Watson:                   1.570\n",
      "Prob(Omnibus):                  0.000   Jarque-Bera (JB):             4618.621\n",
      "Skew:                          -0.287   Prob(JB):                         0.00\n",
      "Kurtosis:                       7.977   Cond. No.                     3.45e+05\n",
      "==============================================================================\n",
      "\n",
      "Notes:\n",
      "[1] Standard Errors assume that the covariance matrix of the errors is correctly specified.\n",
      "[2] The condition number is large, 3.45e+05. This might indicate that there are\n",
      "strong multicollinearity or other numerical problems.\n"
     ]
    }
   ],
   "source": [
    "lm = smf.ols(formula='SALE_PRICE~GROSS_SQUARE_FEET+LAND_SQUARE_FEET+YEAR_BUILT+RESIDENTIAL_UNITS+COMMERCIAL_UNITS', data = REStaten_).fit()\n",
    "print(lm.summary())"
   ]
  },
  {
   "cell_type": "markdown",
   "metadata": {},
   "source": [
    "Again, the coefficients have changed, but now, surprisingly, now the impact of commercial units seem to be negative!"
   ]
  },
  {
   "cell_type": "markdown",
   "metadata": {},
   "source": [
    "This is because they are strongly correlated with house size and for the houses of the same size, slicing them into the larger number of smaller units does not seem to increase the price anymore. However we should be careful with interpretations when the regressors are correlated "
   ]
  },
  {
   "cell_type": "markdown",
   "metadata": {},
   "source": [
    "## Homework task 2\n",
    "\n",
    "Now consider houses with different numbers of residential units: repeat the SALE_PRICE~GROSS_SQUARE_FEET+LAND_SQUARE_FEET+YEAR_BUILT regression for houses with  RESIDENTIAL_UNITS==1,2 and \"3 or above\", COMMERCIAL_UNITS==0. Summarize the number of samples in each category, coefficients and r-squared values of the corresponding regressions in a dataframe with the following columns: samples,GROSS_SQUARE_FEET_coef,LAND_SQUARE_FEET_coef,YEAR_BUILT,coef,Intercept,R2. Make the number of RESIDENTIAL_UNITS (1,2 or '3+') an index"
   ]
  },
  {
   "cell_type": "code",
   "execution_count": 51,
   "metadata": {},
   "outputs": [],
   "source": [
    "lg_res_1 = smf.ols(formula='SALE_PRICE~GROSS_SQUARE_FEET+LAND_SQUARE_FEET+YEAR_BUILT', data = REStaten_[(REStaten_['RESIDENTIAL_UNITS']==1) & (REStaten_['COMMERCIAL_UNITS']==0)]).fit()\n",
    "lg_res_2 = smf.ols(formula='SALE_PRICE~GROSS_SQUARE_FEET+LAND_SQUARE_FEET+YEAR_BUILT', data = REStaten_[(REStaten_['RESIDENTIAL_UNITS']==2) & (REStaten_['COMMERCIAL_UNITS']==0)]).fit()\n",
    "lg_res_3 = smf.ols(formula='SALE_PRICE~GROSS_SQUARE_FEET+LAND_SQUARE_FEET+YEAR_BUILT', data = REStaten_[(REStaten_['RESIDENTIAL_UNITS']>=3) & (REStaten_['COMMERCIAL_UNITS']==0)]).fit()\n"
   ]
  },
  {
   "cell_type": "code",
   "execution_count": 52,
   "metadata": {},
   "outputs": [],
   "source": [
    "multivariate_report_df= {}\n",
    "multivariate_report_df['RESIDENTIAL_UNITS_1'] = {'samples':REStaten_[(REStaten_['RESIDENTIAL_UNITS']==1) & (REStaten_['COMMERCIAL_UNITS']==0)].shape[0],'GROSS_SQUARE_FEET_coef':lg_res_1.params['GROSS_SQUARE_FEET'],'LAND_SQUARE_FEET_coef':lg_res_1.params['LAND_SQUARE_FEET'],'YEAR_BUILT_coef':lg_res_1.params['YEAR_BUILT'],'intercept':lg_res_1.params['Intercept'],'R_squared':lg_res_1.rsquared}\n",
    "multivariate_report_df['RESIDENTIAL_UNITS_2'] = {'samples':REStaten_[(REStaten_['RESIDENTIAL_UNITS']==2) & (REStaten_['COMMERCIAL_UNITS']==0)].shape[0],'GROSS_SQUARE_FEET_coef':lg_res_2.params['GROSS_SQUARE_FEET'],'LAND_SQUARE_FEET_coef':lg_res_2.params['LAND_SQUARE_FEET'],'YEAR_BUILT_coef':lg_res_2.params['YEAR_BUILT'],'intercept':lg_res_2.params['Intercept'],'R_squared':lg_res_2.rsquared}\n",
    "multivariate_report_df['RESIDENTIAL_UNITS_3+'] = {'samples':REStaten_[(REStaten_['RESIDENTIAL_UNITS']>=3) & (REStaten_['COMMERCIAL_UNITS']==0)].shape[0],'GROSS_SQUARE_FEET_coef':lg_res_3.params['GROSS_SQUARE_FEET'],'LAND_SQUARE_FEET_coef':lg_res_3.params['LAND_SQUARE_FEET'],'YEAR_BUILT_coef':lg_res_3.params['YEAR_BUILT'],'intercept':lg_res_3.params['Intercept'],'R_squared':lg_res_3.rsquared}\n",
    "multivariate_report_df = pd.DataFrame(multivariate_report_df).T"
   ]
  },
  {
   "cell_type": "code",
   "execution_count": 53,
   "metadata": {},
   "outputs": [
    {
     "data": {
      "text/html": [
       "<div>\n",
       "<style scoped>\n",
       "    .dataframe tbody tr th:only-of-type {\n",
       "        vertical-align: middle;\n",
       "    }\n",
       "\n",
       "    .dataframe tbody tr th {\n",
       "        vertical-align: top;\n",
       "    }\n",
       "\n",
       "    .dataframe thead th {\n",
       "        text-align: right;\n",
       "    }\n",
       "</style>\n",
       "<table border=\"1\" class=\"dataframe\">\n",
       "  <thead>\n",
       "    <tr style=\"text-align: right;\">\n",
       "      <th></th>\n",
       "      <th>samples</th>\n",
       "      <th>GROSS_SQUARE_FEET_coef</th>\n",
       "      <th>LAND_SQUARE_FEET_coef</th>\n",
       "      <th>YEAR_BUILT_coef</th>\n",
       "      <th>intercept</th>\n",
       "      <th>R_squared</th>\n",
       "    </tr>\n",
       "  </thead>\n",
       "  <tbody>\n",
       "    <tr>\n",
       "      <th>RESIDENTIAL_UNITS_1</th>\n",
       "      <td>3200.0</td>\n",
       "      <td>139.387163</td>\n",
       "      <td>30.558815</td>\n",
       "      <td>1134.016234</td>\n",
       "      <td>-2.012218e+06</td>\n",
       "      <td>0.526892</td>\n",
       "    </tr>\n",
       "    <tr>\n",
       "      <th>RESIDENTIAL_UNITS_2</th>\n",
       "      <td>1151.0</td>\n",
       "      <td>113.883675</td>\n",
       "      <td>31.076155</td>\n",
       "      <td>2517.044042</td>\n",
       "      <td>-4.662861e+06</td>\n",
       "      <td>0.433946</td>\n",
       "    </tr>\n",
       "    <tr>\n",
       "      <th>RESIDENTIAL_UNITS_3+</th>\n",
       "      <td>43.0</td>\n",
       "      <td>29.529114</td>\n",
       "      <td>51.992945</td>\n",
       "      <td>2381.431181</td>\n",
       "      <td>-4.258056e+06</td>\n",
       "      <td>0.529637</td>\n",
       "    </tr>\n",
       "  </tbody>\n",
       "</table>\n",
       "</div>"
      ],
      "text/plain": [
       "                      samples  GROSS_SQUARE_FEET_coef  LAND_SQUARE_FEET_coef  \\\n",
       "RESIDENTIAL_UNITS_1    3200.0              139.387163              30.558815   \n",
       "RESIDENTIAL_UNITS_2    1151.0              113.883675              31.076155   \n",
       "RESIDENTIAL_UNITS_3+     43.0               29.529114              51.992945   \n",
       "\n",
       "                      YEAR_BUILT_coef     intercept  R_squared  \n",
       "RESIDENTIAL_UNITS_1       1134.016234 -2.012218e+06   0.526892  \n",
       "RESIDENTIAL_UNITS_2       2517.044042 -4.662861e+06   0.433946  \n",
       "RESIDENTIAL_UNITS_3+      2381.431181 -4.258056e+06   0.529637  "
      ]
     },
     "execution_count": 53,
     "metadata": {},
     "output_type": "execute_result"
    }
   ],
   "source": [
    "multivariate_report_df"
   ]
  },
  {
   "cell_type": "code",
   "execution_count": null,
   "metadata": {},
   "outputs": [],
   "source": []
  },
  {
   "cell_type": "markdown",
   "metadata": {},
   "source": [
    "## Urban activity data\n",
    "\n",
    "Many of your Urban Informatics projects will deal with urban population. Let's take a closer look on how it can be defined and how is it distributed in space. \n",
    "\n",
    "Specifically lets focus on the following question:\n",
    "\n",
    "### Is the residential population distribution representative for urban dynamics in bulk? \n",
    "### Can adding daytime population help?\n",
    "\n",
    "Daytime population is based on LEHD commute data: https://lehd.ces.census.gov/data/\n",
    "\n",
    "The activity dataset includes Citibike trips, 311 service requests, Mobile device connections, subway entries, taxi trips, Twitter activity aggregated on the level of taxi zones. More details on those data can be found in the preprint [Zhu, E., Khan, M., Kats, P., Bamne, S. S., & Sobolevsky, S. (2018). Digital urban sensing: A multi-layered approach. arXiv preprint arXiv:1809.01280] completed together with CUSP students.\n"
   ]
  },
  {
   "cell_type": "code",
   "execution_count": 54,
   "metadata": {},
   "outputs": [],
   "source": [
    "#Upload the main dataset\n",
    "SMdata=pd.read_csv(\"Socio-mobility.csv\",index_col=0)"
   ]
  },
  {
   "cell_type": "code",
   "execution_count": 55,
   "metadata": {},
   "outputs": [],
   "source": [
    "#rename some of the columns for the sake of consistency and also to replace '-'\n",
    "SMdata.rename(columns={'mobile-device_spatial':'mobile','citibike_spatial':'citibike','sr311_spatial':'sr311','subway_spatial':'subway','taxi_spatial':'taxi','twitter_spatial':'twitter'},inplace=True)"
   ]
  },
  {
   "cell_type": "code",
   "execution_count": 56,
   "metadata": {},
   "outputs": [],
   "source": [
    "#also upload two other datasets from the last class - residential and working population\n",
    "LEHDW=pd.read_csv(\"LEHD-work.csv\",index_col=0)"
   ]
  },
  {
   "cell_type": "code",
   "execution_count": 57,
   "metadata": {},
   "outputs": [],
   "source": [
    "#notice that residetial population here (from LEHD, based on the workforce residences) \n",
    "#is different from the one in the main dataset \n",
    "LEHDR=pd.read_csv(\"LEHD-resident.csv\",index_col=0)"
   ]
  },
  {
   "cell_type": "code",
   "execution_count": 58,
   "metadata": {},
   "outputs": [],
   "source": [
    "#merge the dataframes (inner merge on index - taxi zone number); take only the columns to use later\n",
    "SMdata=SMdata[['population','mobile','citibike','sr311','subway','taxi','twitter']].merge(LEHDW[['total']].rename(columns={'total':'working'}), on=None, left_index=True, right_index=True, how='inner')"
   ]
  },
  {
   "cell_type": "code",
   "execution_count": 59,
   "metadata": {},
   "outputs": [],
   "source": [
    "SMdata=SMdata.merge(LEHDR[['total']].rename(columns={'total':'residential'}), on=None, left_index=True, right_index=True, how='inner')"
   ]
  },
  {
   "cell_type": "code",
   "execution_count": 60,
   "metadata": {},
   "outputs": [
    {
     "data": {
      "text/html": [
       "<div>\n",
       "<style scoped>\n",
       "    .dataframe tbody tr th:only-of-type {\n",
       "        vertical-align: middle;\n",
       "    }\n",
       "\n",
       "    .dataframe tbody tr th {\n",
       "        vertical-align: top;\n",
       "    }\n",
       "\n",
       "    .dataframe thead th {\n",
       "        text-align: right;\n",
       "    }\n",
       "</style>\n",
       "<table border=\"1\" class=\"dataframe\">\n",
       "  <thead>\n",
       "    <tr style=\"text-align: right;\">\n",
       "      <th></th>\n",
       "      <th>population</th>\n",
       "      <th>mobile</th>\n",
       "      <th>citibike</th>\n",
       "      <th>sr311</th>\n",
       "      <th>subway</th>\n",
       "      <th>taxi</th>\n",
       "      <th>twitter</th>\n",
       "      <th>working</th>\n",
       "      <th>residential</th>\n",
       "    </tr>\n",
       "    <tr>\n",
       "      <th>tz</th>\n",
       "      <th></th>\n",
       "      <th></th>\n",
       "      <th></th>\n",
       "      <th></th>\n",
       "      <th></th>\n",
       "      <th></th>\n",
       "      <th></th>\n",
       "      <th></th>\n",
       "      <th></th>\n",
       "    </tr>\n",
       "  </thead>\n",
       "  <tbody>\n",
       "    <tr>\n",
       "      <th>3</th>\n",
       "      <td>32450.0</td>\n",
       "      <td>109300</td>\n",
       "      <td>0</td>\n",
       "      <td>700</td>\n",
       "      <td>225527.5</td>\n",
       "      <td>31960</td>\n",
       "      <td>480</td>\n",
       "      <td>4989</td>\n",
       "      <td>11398</td>\n",
       "    </tr>\n",
       "    <tr>\n",
       "      <th>4</th>\n",
       "      <td>27571.0</td>\n",
       "      <td>179644</td>\n",
       "      <td>31545</td>\n",
       "      <td>399</td>\n",
       "      <td>0.0</td>\n",
       "      <td>178515</td>\n",
       "      <td>85</td>\n",
       "      <td>2717</td>\n",
       "      <td>12318</td>\n",
       "    </tr>\n",
       "    <tr>\n",
       "      <th>5</th>\n",
       "      <td>26482.0</td>\n",
       "      <td>56271</td>\n",
       "      <td>0</td>\n",
       "      <td>490</td>\n",
       "      <td>0.0</td>\n",
       "      <td>3667</td>\n",
       "      <td>40</td>\n",
       "      <td>1191</td>\n",
       "      <td>10751</td>\n",
       "    </tr>\n",
       "    <tr>\n",
       "      <th>6</th>\n",
       "      <td>15896.0</td>\n",
       "      <td>147674</td>\n",
       "      <td>0</td>\n",
       "      <td>255</td>\n",
       "      <td>0.0</td>\n",
       "      <td>7456</td>\n",
       "      <td>88</td>\n",
       "      <td>2495</td>\n",
       "      <td>6729</td>\n",
       "    </tr>\n",
       "    <tr>\n",
       "      <th>7</th>\n",
       "      <td>77252.0</td>\n",
       "      <td>508255</td>\n",
       "      <td>0</td>\n",
       "      <td>1389</td>\n",
       "      <td>3336898.0</td>\n",
       "      <td>362180</td>\n",
       "      <td>2294</td>\n",
       "      <td>17223</td>\n",
       "      <td>43048</td>\n",
       "    </tr>\n",
       "  </tbody>\n",
       "</table>\n",
       "</div>"
      ],
      "text/plain": [
       "    population  mobile  citibike  sr311     subway    taxi  twitter  working  \\\n",
       "tz                                                                             \n",
       "3      32450.0  109300         0    700   225527.5   31960      480     4989   \n",
       "4      27571.0  179644     31545    399        0.0  178515       85     2717   \n",
       "5      26482.0   56271         0    490        0.0    3667       40     1191   \n",
       "6      15896.0  147674         0    255        0.0    7456       88     2495   \n",
       "7      77252.0  508255         0   1389  3336898.0  362180     2294    17223   \n",
       "\n",
       "    residential  \n",
       "tz               \n",
       "3         11398  \n",
       "4         12318  \n",
       "5         10751  \n",
       "6          6729  \n",
       "7         43048  "
      ]
     },
     "execution_count": 60,
     "metadata": {},
     "output_type": "execute_result"
    }
   ],
   "source": [
    "#glimpse into the final data\n",
    "SMdata.head()"
   ]
  },
  {
   "cell_type": "code",
   "execution_count": 61,
   "metadata": {},
   "outputs": [
    {
     "data": {
      "text/html": [
       "<div>\n",
       "<style scoped>\n",
       "    .dataframe tbody tr th:only-of-type {\n",
       "        vertical-align: middle;\n",
       "    }\n",
       "\n",
       "    .dataframe tbody tr th {\n",
       "        vertical-align: top;\n",
       "    }\n",
       "\n",
       "    .dataframe thead th {\n",
       "        text-align: right;\n",
       "    }\n",
       "</style>\n",
       "<table border=\"1\" class=\"dataframe\">\n",
       "  <thead>\n",
       "    <tr style=\"text-align: right;\">\n",
       "      <th></th>\n",
       "      <th>population</th>\n",
       "      <th>mobile</th>\n",
       "      <th>citibike</th>\n",
       "      <th>sr311</th>\n",
       "      <th>subway</th>\n",
       "      <th>taxi</th>\n",
       "      <th>twitter</th>\n",
       "      <th>working</th>\n",
       "      <th>residential</th>\n",
       "    </tr>\n",
       "  </thead>\n",
       "  <tbody>\n",
       "    <tr>\n",
       "      <th>population</th>\n",
       "      <td>1.000000</td>\n",
       "      <td>0.670248</td>\n",
       "      <td>-0.210465</td>\n",
       "      <td>0.877397</td>\n",
       "      <td>-0.042691</td>\n",
       "      <td>-0.059860</td>\n",
       "      <td>-0.028276</td>\n",
       "      <td>-0.099852</td>\n",
       "      <td>0.969425</td>\n",
       "    </tr>\n",
       "    <tr>\n",
       "      <th>mobile</th>\n",
       "      <td>0.670248</td>\n",
       "      <td>1.000000</td>\n",
       "      <td>-0.066319</td>\n",
       "      <td>0.607098</td>\n",
       "      <td>0.219016</td>\n",
       "      <td>0.144768</td>\n",
       "      <td>0.214191</td>\n",
       "      <td>0.175743</td>\n",
       "      <td>0.646672</td>\n",
       "    </tr>\n",
       "    <tr>\n",
       "      <th>citibike</th>\n",
       "      <td>-0.210465</td>\n",
       "      <td>-0.066319</td>\n",
       "      <td>1.000000</td>\n",
       "      <td>-0.183276</td>\n",
       "      <td>0.486907</td>\n",
       "      <td>0.748109</td>\n",
       "      <td>0.372861</td>\n",
       "      <td>0.513090</td>\n",
       "      <td>-0.102762</td>\n",
       "    </tr>\n",
       "    <tr>\n",
       "      <th>sr311</th>\n",
       "      <td>0.877397</td>\n",
       "      <td>0.607098</td>\n",
       "      <td>-0.183276</td>\n",
       "      <td>1.000000</td>\n",
       "      <td>-0.010677</td>\n",
       "      <td>-0.026607</td>\n",
       "      <td>0.066799</td>\n",
       "      <td>-0.049597</td>\n",
       "      <td>0.865145</td>\n",
       "    </tr>\n",
       "    <tr>\n",
       "      <th>subway</th>\n",
       "      <td>-0.042691</td>\n",
       "      <td>0.219016</td>\n",
       "      <td>0.486907</td>\n",
       "      <td>-0.010677</td>\n",
       "      <td>1.000000</td>\n",
       "      <td>0.630203</td>\n",
       "      <td>0.496341</td>\n",
       "      <td>0.703456</td>\n",
       "      <td>0.020381</td>\n",
       "    </tr>\n",
       "    <tr>\n",
       "      <th>taxi</th>\n",
       "      <td>-0.059860</td>\n",
       "      <td>0.144768</td>\n",
       "      <td>0.748109</td>\n",
       "      <td>-0.026607</td>\n",
       "      <td>0.630203</td>\n",
       "      <td>1.000000</td>\n",
       "      <td>0.556061</td>\n",
       "      <td>0.720043</td>\n",
       "      <td>0.053496</td>\n",
       "    </tr>\n",
       "    <tr>\n",
       "      <th>twitter</th>\n",
       "      <td>-0.028276</td>\n",
       "      <td>0.214191</td>\n",
       "      <td>0.372861</td>\n",
       "      <td>0.066799</td>\n",
       "      <td>0.496341</td>\n",
       "      <td>0.556061</td>\n",
       "      <td>1.000000</td>\n",
       "      <td>0.626458</td>\n",
       "      <td>0.017787</td>\n",
       "    </tr>\n",
       "    <tr>\n",
       "      <th>working</th>\n",
       "      <td>-0.099852</td>\n",
       "      <td>0.175743</td>\n",
       "      <td>0.513090</td>\n",
       "      <td>-0.049597</td>\n",
       "      <td>0.703456</td>\n",
       "      <td>0.720043</td>\n",
       "      <td>0.626458</td>\n",
       "      <td>1.000000</td>\n",
       "      <td>-0.040786</td>\n",
       "    </tr>\n",
       "    <tr>\n",
       "      <th>residential</th>\n",
       "      <td>0.969425</td>\n",
       "      <td>0.646672</td>\n",
       "      <td>-0.102762</td>\n",
       "      <td>0.865145</td>\n",
       "      <td>0.020381</td>\n",
       "      <td>0.053496</td>\n",
       "      <td>0.017787</td>\n",
       "      <td>-0.040786</td>\n",
       "      <td>1.000000</td>\n",
       "    </tr>\n",
       "  </tbody>\n",
       "</table>\n",
       "</div>"
      ],
      "text/plain": [
       "             population    mobile  citibike     sr311    subway      taxi  \\\n",
       "population     1.000000  0.670248 -0.210465  0.877397 -0.042691 -0.059860   \n",
       "mobile         0.670248  1.000000 -0.066319  0.607098  0.219016  0.144768   \n",
       "citibike      -0.210465 -0.066319  1.000000 -0.183276  0.486907  0.748109   \n",
       "sr311          0.877397  0.607098 -0.183276  1.000000 -0.010677 -0.026607   \n",
       "subway        -0.042691  0.219016  0.486907 -0.010677  1.000000  0.630203   \n",
       "taxi          -0.059860  0.144768  0.748109 -0.026607  0.630203  1.000000   \n",
       "twitter       -0.028276  0.214191  0.372861  0.066799  0.496341  0.556061   \n",
       "working       -0.099852  0.175743  0.513090 -0.049597  0.703456  0.720043   \n",
       "residential    0.969425  0.646672 -0.102762  0.865145  0.020381  0.053496   \n",
       "\n",
       "              twitter   working  residential  \n",
       "population  -0.028276 -0.099852     0.969425  \n",
       "mobile       0.214191  0.175743     0.646672  \n",
       "citibike     0.372861  0.513090    -0.102762  \n",
       "sr311        0.066799 -0.049597     0.865145  \n",
       "subway       0.496341  0.703456     0.020381  \n",
       "taxi         0.556061  0.720043     0.053496  \n",
       "twitter      1.000000  0.626458     0.017787  \n",
       "working      0.626458  1.000000    -0.040786  \n",
       "residential  0.017787 -0.040786     1.000000  "
      ]
     },
     "execution_count": 61,
     "metadata": {},
     "output_type": "execute_result"
    }
   ],
   "source": [
    "#get pair-wise column correlations\n",
    "SMdata.corr()"
   ]
  },
  {
   "cell_type": "markdown",
   "metadata": {},
   "source": [
    "But notice that some activities are not defined for the entire city. Would be more appropriate to correlate only where activity is defined"
   ]
  },
  {
   "cell_type": "code",
   "execution_count": 62,
   "metadata": {},
   "outputs": [],
   "source": [
    "#auxiliary function to compute correlations between columns where both have data\n",
    "def NZPopCorr(col1,col2):\n",
    "    ind=(SMdata[col1]>0)&(SMdata[col2]>0)\n",
    "    return np.corrcoef(SMdata[col1][ind],SMdata[col2][ind])[0][1]"
   ]
  },
  {
   "cell_type": "code",
   "execution_count": 63,
   "metadata": {},
   "outputs": [
    {
     "data": {
      "text/html": [
       "<div>\n",
       "<style scoped>\n",
       "    .dataframe tbody tr th:only-of-type {\n",
       "        vertical-align: middle;\n",
       "    }\n",
       "\n",
       "    .dataframe tbody tr th {\n",
       "        vertical-align: top;\n",
       "    }\n",
       "\n",
       "    .dataframe thead th {\n",
       "        text-align: right;\n",
       "    }\n",
       "</style>\n",
       "<table border=\"1\" class=\"dataframe\">\n",
       "  <thead>\n",
       "    <tr style=\"text-align: right;\">\n",
       "      <th></th>\n",
       "      <th>population</th>\n",
       "      <th>residential</th>\n",
       "      <th>working</th>\n",
       "    </tr>\n",
       "  </thead>\n",
       "  <tbody>\n",
       "    <tr>\n",
       "      <th>taxi</th>\n",
       "      <td>-0.064720</td>\n",
       "      <td>0.049633</td>\n",
       "      <td>0.719559</td>\n",
       "    </tr>\n",
       "    <tr>\n",
       "      <th>subway</th>\n",
       "      <td>-0.232504</td>\n",
       "      <td>-0.141712</td>\n",
       "      <td>0.720643</td>\n",
       "    </tr>\n",
       "    <tr>\n",
       "      <th>citibike</th>\n",
       "      <td>-0.126996</td>\n",
       "      <td>0.011210</td>\n",
       "      <td>0.319030</td>\n",
       "    </tr>\n",
       "    <tr>\n",
       "      <th>twitter</th>\n",
       "      <td>-0.032551</td>\n",
       "      <td>0.017787</td>\n",
       "      <td>0.626458</td>\n",
       "    </tr>\n",
       "    <tr>\n",
       "      <th>mobile</th>\n",
       "      <td>0.676604</td>\n",
       "      <td>0.646672</td>\n",
       "      <td>0.175743</td>\n",
       "    </tr>\n",
       "    <tr>\n",
       "      <th>sr311</th>\n",
       "      <td>0.869460</td>\n",
       "      <td>0.863358</td>\n",
       "      <td>-0.056116</td>\n",
       "    </tr>\n",
       "  </tbody>\n",
       "</table>\n",
       "</div>"
      ],
      "text/plain": [
       "          population  residential   working\n",
       "taxi       -0.064720     0.049633  0.719559\n",
       "subway     -0.232504    -0.141712  0.720643\n",
       "citibike   -0.126996     0.011210  0.319030\n",
       "twitter    -0.032551     0.017787  0.626458\n",
       "mobile      0.676604     0.646672  0.175743\n",
       "sr311       0.869460     0.863358 -0.056116"
      ]
     },
     "execution_count": 63,
     "metadata": {},
     "output_type": "execute_result"
    }
   ],
   "source": [
    "#output a table with correlations between activities and population counts\n",
    "PL=['population','residential','working']\n",
    "ML=['taxi','subway','citibike','twitter','mobile','sr311']\n",
    "pd.DataFrame([[NZPopCorr(M,P) for P in PL] for M in ML],columns=PL,index=ML) "
   ]
  },
  {
   "cell_type": "markdown",
   "metadata": {},
   "source": [
    "Now we can implement a regression for urban activities a) vs population and b) vs LEHD residential and working population taken as separate regressors"
   ]
  },
  {
   "cell_type": "markdown",
   "metadata": {},
   "source": [
    "Implement these regressions a) and b) for taxi and 311. No intercept"
   ]
  },
  {
   "cell_type": "code",
   "execution_count": 64,
   "metadata": {},
   "outputs": [
    {
     "name": "stdout",
     "output_type": "stream",
     "text": [
      "                                 OLS Regression Results                                \n",
      "=======================================================================================\n",
      "Dep. Variable:                   taxi   R-squared (uncentered):                   0.688\n",
      "Model:                            OLS   Adj. R-squared (uncentered):              0.685\n",
      "Method:                 Least Squares   F-statistic:                              279.9\n",
      "Date:                Mon, 08 Nov 2021   Prob (F-statistic):                    6.01e-65\n",
      "Time:                        22:44:57   Log-Likelihood:                         -3426.8\n",
      "No. Observations:                 256   AIC:                                      6858.\n",
      "Df Residuals:                     254   BIC:                                      6865.\n",
      "Df Model:                           2                                                  \n",
      "Covariance Type:            nonrobust                                                  \n",
      "===============================================================================\n",
      "                  coef    std err          t      P>|t|      [0.025      0.975]\n",
      "-------------------------------------------------------------------------------\n",
      "working         6.6430      0.357     18.591      0.000       5.939       7.347\n",
      "residential     3.5450      0.644      5.508      0.000       2.277       4.813\n",
      "==============================================================================\n",
      "Omnibus:                       97.957   Durbin-Watson:                   1.665\n",
      "Prob(Omnibus):                  0.000   Jarque-Bera (JB):              342.882\n",
      "Skew:                           1.620   Prob(JB):                     3.50e-75\n",
      "Kurtosis:                       7.652   Cond. No.                         2.12\n",
      "==============================================================================\n",
      "\n",
      "Notes:\n",
      "[1] R² is computed without centering (uncentered) since the model does not contain a constant.\n",
      "[2] Standard Errors assume that the covariance matrix of the errors is correctly specified.\n"
     ]
    }
   ],
   "source": [
    "lm = smf.ols(formula='taxi~working+residential-1', data = SMdata.loc[SMdata.taxi>0]).fit()\n",
    "print(lm.summary())"
   ]
  },
  {
   "cell_type": "code",
   "execution_count": 65,
   "metadata": {},
   "outputs": [
    {
     "name": "stdout",
     "output_type": "stream",
     "text": [
      "                                 OLS Regression Results                                \n",
      "=======================================================================================\n",
      "Dep. Variable:                  sr311   R-squared (uncentered):                   0.901\n",
      "Model:                            OLS   Adj. R-squared (uncentered):              0.901\n",
      "Method:                 Least Squares   F-statistic:                              1156.\n",
      "Date:                Mon, 08 Nov 2021   Prob (F-statistic):                   5.67e-128\n",
      "Time:                        22:44:57   Log-Likelihood:                         -1807.3\n",
      "No. Observations:                 255   AIC:                                      3619.\n",
      "Df Residuals:                     253   BIC:                                      3626.\n",
      "Df Model:                           2                                                  \n",
      "Covariance Type:            nonrobust                                                  \n",
      "===============================================================================\n",
      "                  coef    std err          t      P>|t|      [0.025      0.975]\n",
      "-------------------------------------------------------------------------------\n",
      "working        -0.0003      0.001     -0.480      0.631      -0.002       0.001\n",
      "residential     0.0519      0.001     43.862      0.000       0.050       0.054\n",
      "==============================================================================\n",
      "Omnibus:                       14.915   Durbin-Watson:                   1.803\n",
      "Prob(Omnibus):                  0.001   Jarque-Bera (JB):               29.777\n",
      "Skew:                           0.270   Prob(JB):                     3.42e-07\n",
      "Kurtosis:                       4.584   Cond. No.                         2.12\n",
      "==============================================================================\n",
      "\n",
      "Notes:\n",
      "[1] R² is computed without centering (uncentered) since the model does not contain a constant.\n",
      "[2] Standard Errors assume that the covariance matrix of the errors is correctly specified.\n"
     ]
    }
   ],
   "source": [
    "lm = smf.ols(formula='sr311~working+residential-1', data = SMdata.loc[SMdata.sr311>0]).fit()\n",
    "print(lm.summary())"
   ]
  },
  {
   "cell_type": "markdown",
   "metadata": {},
   "source": [
    "### Homework task 3: \n",
    "Implement within a loop regressions of each activity vs residential and working population, no intercept. Make sure to include in each regression for each activity type only those areas with nonzero activity counts for this type. Report the regression coefficients along with R2's in a table. Create a bar plots of R2's of the regressions"
   ]
  },
  {
   "cell_type": "code",
   "execution_count": 66,
   "metadata": {},
   "outputs": [],
   "source": [
    "#fit regression without intercept\n",
    "regress_models_dict = {}\n",
    "out_var_list = ['mobile','citibike','sr311','subway','taxi','twitter']\n",
    "for output_var in out_var_list:\n",
    "    regress_models_dict[output_var] = smf.ols(formula= str(output_var)+'~working+residential-1', data = SMdata.loc[SMdata[output_var]>0]).fit()\n",
    "    SMdata.loc[SMdata[output_var]>0, 'predicted_'+str(output_var)] = regress_models_dict[output_var].predict()\n",
    "    "
   ]
  },
  {
   "cell_type": "code",
   "execution_count": 67,
   "metadata": {},
   "outputs": [],
   "source": [
    "city_report_df = {}\n",
    "for output_var in out_var_list:\n",
    "    city_report_df[output_var] = {'working_slope':regress_models_dict[output_var].params['working'],'residential_slope':regress_models_dict[output_var].params['residential'], 'R_squared':regress_models_dict[output_var].rsquared}\n",
    "city_report_df = pd.DataFrame(city_report_df).T"
   ]
  },
  {
   "cell_type": "code",
   "execution_count": 68,
   "metadata": {},
   "outputs": [
    {
     "data": {
      "text/html": [
       "<div>\n",
       "<style scoped>\n",
       "    .dataframe tbody tr th:only-of-type {\n",
       "        vertical-align: middle;\n",
       "    }\n",
       "\n",
       "    .dataframe tbody tr th {\n",
       "        vertical-align: top;\n",
       "    }\n",
       "\n",
       "    .dataframe thead th {\n",
       "        text-align: right;\n",
       "    }\n",
       "</style>\n",
       "<table border=\"1\" class=\"dataframe\">\n",
       "  <thead>\n",
       "    <tr style=\"text-align: right;\">\n",
       "      <th></th>\n",
       "      <th>working_slope</th>\n",
       "      <th>residential_slope</th>\n",
       "      <th>R_squared</th>\n",
       "    </tr>\n",
       "  </thead>\n",
       "  <tbody>\n",
       "    <tr>\n",
       "      <th>mobile</th>\n",
       "      <td>2.315228</td>\n",
       "      <td>19.053016</td>\n",
       "      <td>0.788157</td>\n",
       "    </tr>\n",
       "    <tr>\n",
       "      <th>citibike</th>\n",
       "      <td>0.503412</td>\n",
       "      <td>1.556083</td>\n",
       "      <td>0.576610</td>\n",
       "    </tr>\n",
       "    <tr>\n",
       "      <th>sr311</th>\n",
       "      <td>-0.000316</td>\n",
       "      <td>0.051911</td>\n",
       "      <td>0.901349</td>\n",
       "    </tr>\n",
       "    <tr>\n",
       "      <th>subway</th>\n",
       "      <td>119.817304</td>\n",
       "      <td>22.956034</td>\n",
       "      <td>0.659446</td>\n",
       "    </tr>\n",
       "    <tr>\n",
       "      <th>taxi</th>\n",
       "      <td>6.643013</td>\n",
       "      <td>3.544967</td>\n",
       "      <td>0.687879</td>\n",
       "    </tr>\n",
       "    <tr>\n",
       "      <th>twitter</th>\n",
       "      <td>0.034550</td>\n",
       "      <td>0.010467</td>\n",
       "      <td>0.525488</td>\n",
       "    </tr>\n",
       "  </tbody>\n",
       "</table>\n",
       "</div>"
      ],
      "text/plain": [
       "          working_slope  residential_slope  R_squared\n",
       "mobile         2.315228          19.053016   0.788157\n",
       "citibike       0.503412           1.556083   0.576610\n",
       "sr311         -0.000316           0.051911   0.901349\n",
       "subway       119.817304          22.956034   0.659446\n",
       "taxi           6.643013           3.544967   0.687879\n",
       "twitter        0.034550           0.010467   0.525488"
      ]
     },
     "execution_count": 68,
     "metadata": {},
     "output_type": "execute_result"
    }
   ],
   "source": [
    "city_report_df"
   ]
  },
  {
   "cell_type": "code",
   "execution_count": 69,
   "metadata": {},
   "outputs": [
    {
     "data": {
      "image/png": "[encoded data removed]",
      "text/plain": [
       "<Figure size 432x288 with 1 Axes>"
      ]
     },
     "metadata": {
      "needs_background": "light"
     },
     "output_type": "display_data"
    }
   ],
   "source": [
    "plt.bar(city_report_df.index, city_report_df.R_squared)\n",
    "plt.title('Predicting activity vs population type regression results')\n",
    "plt.xlabel('Activity')\n",
    "plt.ylabel('Model R-square values')\n",
    "plt.show()"
   ]
  },
  {
   "cell_type": "code",
   "execution_count": null,
   "metadata": {},
   "outputs": [],
   "source": []
  }
 ],
 "metadata": {
  "anaconda-cloud": {},
  "kernelspec": {
   "display_name": "Python [conda env:PUI]",
   "language": "python",
   "name": "conda-env-PUI-py"
  },
  "language_info": {
   "codemirror_mode": {
    "name": "ipython",
    "version": 3
   },
   "file_extension": ".py",
   "mimetype": "text/x-python",
   "name": "python",
   "nbconvert_exporter": "python",
   "pygments_lexer": "ipython3",
   "version": "3.8.10"
  }
 },
 "nbformat": 4,
 "nbformat_minor": 2
}
