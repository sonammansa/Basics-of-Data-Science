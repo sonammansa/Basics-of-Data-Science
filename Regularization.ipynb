{
 "cells": [
  {
   "cell_type": "markdown",
   "metadata": {},
   "source": [
    "# Regularization\n",
    "\n",
    "Imposing certain limitations on the regression coefficients making the model more resistent to overfitting"
   ]
  },
  {
   "cell_type": "markdown",
   "metadata": {},
   "source": [
    "## Example 1. Regularization with artifical data"
   ]
  },
  {
   "cell_type": "code",
   "execution_count": 1,
   "metadata": {},
   "outputs": [],
   "source": [
    "import pandas as pd\n",
    "import numpy as np\n",
    "import statsmodels.formula.api as smf\n",
    "import statsmodels.api as sm\n",
    "from sklearn import linear_model\n",
    "import matplotlib.pylab as plt\n",
    "import math\n",
    "import seaborn as sbn\n",
    "%matplotlib inline"
   ]
  },
  {
   "cell_type": "code",
   "execution_count": 2,
   "metadata": {},
   "outputs": [],
   "source": [
    "#generate random data repeating regressors with minor fluctuations\n",
    "M = 20 #size of the training, validation and test samples\n",
    "np.random.seed(1)\n",
    "\n",
    "X = pd.DataFrame(np.random.randn(3*M,3)) #observstions for three random input variables (features)\n",
    "Y = X.sum(axis = 1) + np.random.randn(3*M) #add a target variable as a sum of the three features and some noise\n",
    "data = pd.concat([Y,X]+[X+0.01*np.random.randn(3*M,3) for i in range(4)], axis = 1)  # add four duplicates of the features with minor noise and stack Y and X into a single dataframe\n",
    "data.columns = ['Y'] + ['x%d'%(i+1) for i in range(data.shape[1]-1)]         # name the columns\n",
    "#split into training, test and validation sets\n",
    "dataTrain=data.iloc[:M,:]\n",
    "dataTest=data.iloc[M:2*M,:]\n",
    "dataValid=data.iloc[2*M:,:]"
   ]
  },
  {
   "cell_type": "code",
   "execution_count": 3,
   "metadata": {},
   "outputs": [
    {
     "data": {
      "text/html": [
       "<div>\n",
       "<style scoped>\n",
       "    .dataframe tbody tr th:only-of-type {\n",
       "        vertical-align: middle;\n",
       "    }\n",
       "\n",
       "    .dataframe tbody tr th {\n",
       "        vertical-align: top;\n",
       "    }\n",
       "\n",
       "    .dataframe thead th {\n",
       "        text-align: right;\n",
       "    }\n",
       "</style>\n",
       "<table border=\"1\" class=\"dataframe\">\n",
       "  <thead>\n",
       "    <tr style=\"text-align: right;\">\n",
       "      <th></th>\n",
       "      <th>Y</th>\n",
       "      <th>x1</th>\n",
       "      <th>x2</th>\n",
       "      <th>x3</th>\n",
       "      <th>x4</th>\n",
       "      <th>x5</th>\n",
       "      <th>x6</th>\n",
       "      <th>x7</th>\n",
       "      <th>x8</th>\n",
       "      <th>x9</th>\n",
       "      <th>x10</th>\n",
       "      <th>x11</th>\n",
       "      <th>x12</th>\n",
       "      <th>x13</th>\n",
       "      <th>x14</th>\n",
       "      <th>x15</th>\n",
       "    </tr>\n",
       "  </thead>\n",
       "  <tbody>\n",
       "    <tr>\n",
       "      <th>0</th>\n",
       "      <td>-0.788142</td>\n",
       "      <td>1.624345</td>\n",
       "      <td>-0.611756</td>\n",
       "      <td>-0.528172</td>\n",
       "      <td>1.619363</td>\n",
       "      <td>-0.614866</td>\n",
       "      <td>-0.528191</td>\n",
       "      <td>1.622058</td>\n",
       "      <td>-0.595623</td>\n",
       "      <td>-0.531920</td>\n",
       "      <td>1.613616</td>\n",
       "      <td>-0.606805</td>\n",
       "      <td>-0.537692</td>\n",
       "      <td>1.631123</td>\n",
       "      <td>-0.622822</td>\n",
       "      <td>-0.531764</td>\n",
       "    </tr>\n",
       "    <tr>\n",
       "      <th>1</th>\n",
       "      <td>-2.195552</td>\n",
       "      <td>-1.072969</td>\n",
       "      <td>0.865408</td>\n",
       "      <td>-2.301539</td>\n",
       "      <td>-1.086935</td>\n",
       "      <td>0.856794</td>\n",
       "      <td>-2.294792</td>\n",
       "      <td>-1.080468</td>\n",
       "      <td>0.885954</td>\n",
       "      <td>-2.301005</td>\n",
       "      <td>-1.078150</td>\n",
       "      <td>0.850794</td>\n",
       "      <td>-2.306702</td>\n",
       "      <td>-1.067915</td>\n",
       "      <td>0.877587</td>\n",
       "      <td>-2.320946</td>\n",
       "    </tr>\n",
       "    <tr>\n",
       "      <th>2</th>\n",
       "      <td>1.805829</td>\n",
       "      <td>1.744812</td>\n",
       "      <td>-0.761207</td>\n",
       "      <td>0.319039</td>\n",
       "      <td>1.750997</td>\n",
       "      <td>-0.765639</td>\n",
       "      <td>0.337144</td>\n",
       "      <td>1.740020</td>\n",
       "      <td>-0.757705</td>\n",
       "      <td>0.319211</td>\n",
       "      <td>1.748323</td>\n",
       "      <td>-0.761895</td>\n",
       "      <td>0.305561</td>\n",
       "      <td>1.736750</td>\n",
       "      <td>-0.760716</td>\n",
       "      <td>0.313078</td>\n",
       "    </tr>\n",
       "    <tr>\n",
       "      <th>3</th>\n",
       "      <td>0.445823</td>\n",
       "      <td>-0.249370</td>\n",
       "      <td>1.462108</td>\n",
       "      <td>-2.060141</td>\n",
       "      <td>-0.262428</td>\n",
       "      <td>1.458658</td>\n",
       "      <td>-2.062449</td>\n",
       "      <td>-0.253662</td>\n",
       "      <td>1.474193</td>\n",
       "      <td>-2.048984</td>\n",
       "      <td>-0.234663</td>\n",
       "      <td>1.465480</td>\n",
       "      <td>-2.050060</td>\n",
       "      <td>-0.240754</td>\n",
       "      <td>1.441244</td>\n",
       "      <td>-2.056523</td>\n",
       "    </tr>\n",
       "    <tr>\n",
       "      <th>4</th>\n",
       "      <td>0.316851</td>\n",
       "      <td>-0.322417</td>\n",
       "      <td>-0.384054</td>\n",
       "      <td>1.133769</td>\n",
       "      <td>-0.350348</td>\n",
       "      <td>-0.364679</td>\n",
       "      <td>1.137433</td>\n",
       "      <td>-0.314009</td>\n",
       "      <td>-0.385083</td>\n",
       "      <td>1.145238</td>\n",
       "      <td>-0.314565</td>\n",
       "      <td>-0.390703</td>\n",
       "      <td>1.114319</td>\n",
       "      <td>-0.318158</td>\n",
       "      <td>-0.383564</td>\n",
       "      <td>1.144792</td>\n",
       "    </tr>\n",
       "  </tbody>\n",
       "</table>\n",
       "</div>"
      ],
      "text/plain": [
       "          Y        x1        x2        x3        x4        x5        x6  \\\n",
       "0 -0.788142  1.624345 -0.611756 -0.528172  1.619363 -0.614866 -0.528191   \n",
       "1 -2.195552 -1.072969  0.865408 -2.301539 -1.086935  0.856794 -2.294792   \n",
       "2  1.805829  1.744812 -0.761207  0.319039  1.750997 -0.765639  0.337144   \n",
       "3  0.445823 -0.249370  1.462108 -2.060141 -0.262428  1.458658 -2.062449   \n",
       "4  0.316851 -0.322417 -0.384054  1.133769 -0.350348 -0.364679  1.137433   \n",
       "\n",
       "         x7        x8        x9       x10       x11       x12       x13  \\\n",
       "0  1.622058 -0.595623 -0.531920  1.613616 -0.606805 -0.537692  1.631123   \n",
       "1 -1.080468  0.885954 -2.301005 -1.078150  0.850794 -2.306702 -1.067915   \n",
       "2  1.740020 -0.757705  0.319211  1.748323 -0.761895  0.305561  1.736750   \n",
       "3 -0.253662  1.474193 -2.048984 -0.234663  1.465480 -2.050060 -0.240754   \n",
       "4 -0.314009 -0.385083  1.145238 -0.314565 -0.390703  1.114319 -0.318158   \n",
       "\n",
       "        x14       x15  \n",
       "0 -0.622822 -0.531764  \n",
       "1  0.877587 -2.320946  \n",
       "2 -0.760716  0.313078  \n",
       "3  1.441244 -2.056523  \n",
       "4 -0.383564  1.144792  "
      ]
     },
     "execution_count": 3,
     "metadata": {},
     "output_type": "execute_result"
    }
   ],
   "source": [
    "dataTrain.head() #training data structure (15 features)"
   ]
  },
  {
   "cell_type": "code",
   "execution_count": 4,
   "metadata": {},
   "outputs": [
    {
     "name": "stdout",
     "output_type": "stream",
     "text": [
      "                            OLS Regression Results                            \n",
      "==============================================================================\n",
      "Dep. Variable:                      Y   R-squared:                       0.769\n",
      "Model:                            OLS   Adj. R-squared:                  0.726\n",
      "Method:                 Least Squares   F-statistic:                     17.79\n",
      "Date:                Fri, 10 Dec 2021   Prob (F-statistic):           2.38e-05\n",
      "Time:                        13:52:31   Log-Likelihood:                -23.431\n",
      "No. Observations:                  20   AIC:                             54.86\n",
      "Df Residuals:                      16   BIC:                             58.84\n",
      "Df Model:                           3                                         \n",
      "Covariance Type:            nonrobust                                         \n",
      "==============================================================================\n",
      "                 coef    std err          t      P>|t|      [0.025      0.975]\n",
      "------------------------------------------------------------------------------\n",
      "Intercept      0.3465      0.197      1.757      0.098      -0.072       0.765\n",
      "x1             0.9706      0.222      4.369      0.000       0.500       1.441\n",
      "x2             1.2626      0.271      4.666      0.000       0.689       1.836\n",
      "x3             0.9113      0.181      5.026      0.000       0.527       1.296\n",
      "==============================================================================\n",
      "Omnibus:                        2.447   Durbin-Watson:                   1.363\n",
      "Prob(Omnibus):                  0.294   Jarque-Bera (JB):                1.060\n",
      "Skew:                          -0.521   Prob(JB):                        0.589\n",
      "Kurtosis:                       3.433   Cond. No.                         1.63\n",
      "==============================================================================\n",
      "\n",
      "Notes:\n",
      "[1] Standard Errors assume that the covariance matrix of the errors is correctly specified.\n"
     ]
    }
   ],
   "source": [
    "#perform a regression of the target variable against those three features we used to compute it\n",
    "lm = smf.ols(formula = 'Y ~ x1+x2+x3', data = dataTrain).fit()\n",
    "OLS_coef=lm.params\n",
    "print(lm.summary())"
   ]
  },
  {
   "cell_type": "markdown",
   "metadata": {},
   "source": [
    "R2 is somewhat high and the coefficient estimates are relatively close to the original ones we used - confidence intervals include 1; some deviations might be attributed to adding substantial noise to the target variable"
   ]
  },
  {
   "cell_type": "markdown",
   "metadata": {},
   "source": [
    "Can we do better if we add other features? Although we know they are random and target variable has little to do with them..."
   ]
  },
  {
   "cell_type": "code",
   "execution_count": 5,
   "metadata": {},
   "outputs": [
    {
     "name": "stdout",
     "output_type": "stream",
     "text": [
      "                            OLS Regression Results                            \n",
      "==============================================================================\n",
      "Dep. Variable:                      Y   R-squared:                       0.933\n",
      "Model:                            OLS   Adj. R-squared:                  0.682\n",
      "Method:                 Least Squares   F-statistic:                     3.715\n",
      "Date:                Fri, 10 Dec 2021   Prob (F-statistic):              0.107\n",
      "Time:                        13:52:31   Log-Likelihood:                -11.065\n",
      "No. Observations:                  20   AIC:                             54.13\n",
      "Df Residuals:                       4   BIC:                             70.06\n",
      "Df Model:                          15                                         \n",
      "Covariance Type:            nonrobust                                         \n",
      "==============================================================================\n",
      "                 coef    std err          t      P>|t|      [0.025      0.975]\n",
      "------------------------------------------------------------------------------\n",
      "Intercept      0.1937      0.608      0.318      0.766      -1.495       1.883\n",
      "x1            -9.2631     85.921     -0.108      0.919    -247.819     229.293\n",
      "x2           -32.4096    202.204     -0.160      0.880    -593.818     528.999\n",
      "x3          -134.6252    172.665     -0.780      0.479    -614.019     344.769\n",
      "x4           -11.1610     34.612     -0.322      0.763    -107.259      84.938\n",
      "x5           -21.1312     59.100     -0.358      0.739    -185.219     142.956\n",
      "x6           102.0380     81.195      1.257      0.277    -123.396     327.472\n",
      "x7           -25.4076     33.632     -0.755      0.492    -118.785      67.970\n",
      "x8             4.8265     67.778      0.071      0.947    -183.354     193.007\n",
      "x9           -40.7081     37.400     -1.088      0.338    -144.546      63.130\n",
      "x10           12.9814     35.845      0.362      0.736     -86.541     112.504\n",
      "x11           64.2255     59.005      1.088      0.338     -99.597     228.048\n",
      "x12           36.4580     50.701      0.719      0.512    -104.310     177.226\n",
      "x13           33.2591     64.390      0.517      0.633    -145.517     212.035\n",
      "x14          -14.2926     72.576     -0.197      0.853    -215.795     187.210\n",
      "x15           37.9777     44.690      0.850      0.443     -86.101     162.057\n",
      "==============================================================================\n",
      "Omnibus:                        3.907   Durbin-Watson:                   2.279\n",
      "Prob(Omnibus):                  0.142   Jarque-Bera (JB):                3.040\n",
      "Skew:                          -0.943   Prob(JB):                        0.219\n",
      "Kurtosis:                       2.700   Cond. No.                     3.39e+03\n",
      "==============================================================================\n",
      "\n",
      "Notes:\n",
      "[1] Standard Errors assume that the covariance matrix of the errors is correctly specified.\n",
      "[2] The condition number is large, 3.39e+03. This might indicate that there are\n",
      "strong multicollinearity or other numerical problems.\n"
     ]
    }
   ],
   "source": [
    "#now perform the regression over all the 15 features including noisy duplicates\n",
    "#use \"join\" to engineer a string regression formulae, stacking together feature names adding '+' in between\n",
    "lm2 = smf.ols(formula = 'Y ~ '+ '+'.join(dataTrain.columns[1:]), data = dataTrain).fit()\n",
    "OLS_coef=lm2.params\n",
    "print(lm2.summary())"
   ]
  },
  {
   "cell_type": "markdown",
   "metadata": {},
   "source": [
    "R2 increased, but neither p-value nor coefficient estimates make much sense now.\n",
    "\n",
    "Perfect case of multicollinearity and likely overfitting!"
   ]
  },
  {
   "cell_type": "code",
   "execution_count": 6,
   "metadata": {},
   "outputs": [],
   "source": [
    "from sklearn.metrics import r2_score"
   ]
  },
  {
   "cell_type": "code",
   "execution_count": 7,
   "metadata": {},
   "outputs": [
    {
     "data": {
      "text/plain": [
       "-0.8927084960997933"
      ]
     },
     "execution_count": 7,
     "metadata": {},
     "output_type": "execute_result"
    }
   ],
   "source": [
    "#indeed the test R2 is negative this way\n",
    "r2_score(dataTest.Y,lm2.predict(dataTest))"
   ]
  },
  {
   "cell_type": "markdown",
   "metadata": {},
   "source": [
    "How can we see from the regression itself that smth is wrong? Let's look at the coefficients having pretty hight magnitude compared to the original scale of the data"
   ]
  },
  {
   "cell_type": "code",
   "execution_count": 8,
   "metadata": {},
   "outputs": [
    {
     "data": {
      "text/plain": [
       "Intercept      0.193676\n",
       "x1            -9.263060\n",
       "x2           -32.409580\n",
       "x3          -134.625216\n",
       "x4           -11.160992\n",
       "x5           -21.131152\n",
       "x6           102.037978\n",
       "x7           -25.407631\n",
       "x8             4.826498\n",
       "x9           -40.708135\n",
       "x10           12.981378\n",
       "x11           64.225496\n",
       "x12           36.458027\n",
       "x13           33.259082\n",
       "x14          -14.292609\n",
       "x15           37.977691\n",
       "dtype: float64"
      ]
     },
     "execution_count": 8,
     "metadata": {},
     "output_type": "execute_result"
    }
   ],
   "source": [
    "lm2.params"
   ]
  },
  {
   "cell_type": "markdown",
   "metadata": {},
   "source": [
    "# Idea of regularization\n",
    "\n",
    "When fitting a linear regression with multiple features $x=(x^1,x^2,...,x^n)$ \n",
    "$$\n",
    "y\\sim w^T x\n",
    "$$\n",
    "the model might become complex and susceptible to overfitting. Complexity often comes with coefficients $w$ growing large in absolute values.\n",
    "\n",
    "One way to reduce complexity is to penalize regression for the magnitude of the coefficients $w=(w^1,w^2,...,w^n)$, which can be measured by\n",
    "$$\n",
    "||w||_1=\\sum\\limits_j |w^j|\n",
    "$$\n",
    "or by \n",
    "$$\n",
    "||w||_2^2=\\sum\\limits_j (w^j)^2\n",
    "$$\n",
    "So instead of simply minimizing \n",
    "$$\n",
    "RSS(w)=\\sum\\limits_j (y_j-w^T x_j)^2\n",
    "$$\n",
    "where $x_j, y_j$ are observations for regressors and output variable, we minimize\n",
    "$$\n",
    "RSS(w)+\\lambda ||w||_2^2=RSS(w)+\\lambda \\sum\\limits_j (w^j)^2\\to\\min\\hspace{10ex}(Ridge)\n",
    "$$\n",
    "or\n",
    "$$\n",
    "RSS(w)+\\lambda ||w||_1=RSS(w)+\\lambda \\sum\\limits_j \\left|w^j\\right|\\to\\min\\hspace{10ex}(Lasso)\n",
    "$$"
   ]
  },
  {
   "cell_type": "markdown",
   "metadata": {},
   "source": [
    "The first model is known as Ridge, the second - as Lasso (least absolute shrinkage and selection operator) regularized regression.\n",
    "\n",
    "Both Ridge and Lasso could be shown to be equivalent to a constrained minimization of $RSS$:\n",
    "\n",
    "$$\n",
    "RSS(w)\\to min, \\ ||w||_p\\leq \\alpha,\n",
    "$$\n",
    "\n",
    "with $p=1,2$ respectively, although analytic relation between constants $\\alpha$ and $\\lambda$ is somewhat nontrivial. In practice however the choice of $\\lambda$ or $\\alpha$ is usually empirical anyway, so both regularized or constrained forms of the optimization problem are equally applicable."
   ]
  },
  {
   "cell_type": "markdown",
   "metadata": {},
   "source": [
    "Optimization problems (Ridge) and (Lasso) tend to minimize $RSS$ at the same time penalizing the regression for having $||w||$ too large (regularization) which often leads to the model complexity through multiple regressors with large coefficients canceling effect of each other. So in a sense Lasso and Ridge are trying to avoid this situation, looking for relatively simple \"regular\" models with best possible fit. \n",
    "\n",
    "** NOTICE ** As the order of magnitude of $w^j$ is directly related to the scale of the regressors, it is practical to rescale them (e.g. by standardizing) to make sure the $w^j$ are comparable in scale. Otherwise penalization terms directly mixing components $w^j$ of different, sometimes incomparable, scale do not make too much sense.\n",
    "\n",
    "From Bayesian standpoint (for those familiar with Bayesian inference) Lasso and Ridge simply perform the regression with the prior belief that all the components of the $w$ are limited through the fixed variance of the priors. Such a belief affects the final outcome of the model making solutions with large $||w||$ to be particularly unlikely.\n",
    "\n",
    "This helps Ridge and Lasso to fight overfitting also dealing with multicollinearity of regressors to some extent, preventing from learning noise through particularly complex \"unnatural\" combinations of the regressors.\n",
    "\n",
    "Ridge regression admits solution in the closed form (consider partial derivatives of the objective function with respect to $w_j$):\n",
    "\n",
    "$$\n",
    "\\hat{w}=(X^T X+\\lambda I)^{-1}X^T Y, \\hspace{5ex}(Ridge\\ solution)\n",
    "$$\n",
    "\n",
    "where $I$ is the identity $n\\times n$ matrix, while $n$ being the number of regressors. The formulae (Ridge solution) shows that the Ridge regression can in theory deal with the case of multicollinearity, when the matrix $X^T X$ is singular and OLS estimate does not exist.\n",
    "\n",
    "Lasso does not admit solution in the closed form and requires numerical methods (like subgradient methods) to be fit. \n",
    "Lasso however has an advantage of being often able to completely eliminate impact of certain irrelevant regressors setting the corresponding slope coefficients to zero.  "
   ]
  },
  {
   "cell_type": "markdown",
   "metadata": {},
   "source": [
    "### Validation and cross-validation\n",
    "\n",
    "A good way to evaluate the model is to use a test set separate from the training sample to estimate the model performance. Additionally if the model depends on the certain parameters (like $\\alpha,\\lambda$ for Lasso/Ridge) which are not supposed to be fit during the training phase, a separate validation sample could be used for the selection of model parameters (we pick up those which optimize model performance over the validation set). Usually test and validation sets are got as subsamples (often random) of the available dataset, while the remaining data is used as the training sample. \n",
    "\n",
    "But often the available dataset is small enough, so splitting into into even smaller traning, validation and test sets could have negative impact on the model training leading to noisy and unreliable models. In such cases cross-validation is often applied, performing not one but several random splits of the sample with further averaging of the model performance scores. "
   ]
  },
  {
   "cell_type": "markdown",
   "metadata": {},
   "source": [
    "## Choice of $\\lambda$ or $\\alpha$. Model validation.\n",
    "\n",
    "In both - constrained and regularized forms - the parameter $\\alpha$ or $\\lambda$ of Lasso/Ridge regression is somewhat arbitrary and can take any value from $0$ to $+\\infty$. Small values of $\\lambda$ or high values of $\\alpha$ lead to the result close to OLS (identical to it is $\\lambda=0$ or $\\alpha=+\\infty$), while large $\\lambda$ or small $\\alpha$ tend to overemphasize the impact of regularization over the fit itself. There is no single best way of choosing the value of the regularization parameter - what is usually suggested is to fit it by evaluating the model for different values of the parameter over the separate validation set and picking up the value for which the validation performance is the best one. As for the performance metric one can use RSS or, equivalently, R2."
   ]
  },
  {
   "cell_type": "code",
   "execution_count": 9,
   "metadata": {},
   "outputs": [
    {
     "name": "stdout",
     "output_type": "stream",
     "text": [
      "The IS R-squared of Ridge is: 0.769666378885421\n"
     ]
    },
    {
     "data": {
      "text/plain": [
       "array([0.1896624 , 0.24722858, 0.18132605, 0.21763589, 0.24170847,\n",
       "       0.17970417, 0.15691973, 0.22943271, 0.11503989, 0.19477322,\n",
       "       0.28970272, 0.23323684, 0.19730613, 0.2294736 , 0.19280885])"
      ]
     },
     "execution_count": 9,
     "metadata": {},
     "output_type": "execute_result"
    }
   ],
   "source": [
    "#try Ridge with an arbitrary regularization parameter alpha=1\n",
    "Ridge=linear_model.Ridge(fit_intercept=True, alpha=1)\n",
    "Ridge.fit(dataTrain.iloc[:,1:],dataTrain.Y)\n",
    "# In sample:\n",
    "YPred_IS=Ridge.predict(dataTrain.iloc[:,1:])\n",
    "print(\"The IS R-squared of Ridge is: {0}\".format(r2_score(dataTrain.Y,YPred_IS)))\n",
    "Ridge.coef_"
   ]
  },
  {
   "cell_type": "code",
   "execution_count": 10,
   "metadata": {},
   "outputs": [
    {
     "name": "stdout",
     "output_type": "stream",
     "text": [
      "The OS R-squared of Ridge is: 0.3431169851850969\n"
     ]
    }
   ],
   "source": [
    "#Out of sample\n",
    "YPred_OS=Ridge.predict(dataTest.iloc[:,1:])\n",
    "print(\"The OS R-squared of Ridge is: {0}\".format(r2_score(dataTest.Y,YPred_OS)))"
   ]
  },
  {
   "cell_type": "code",
   "execution_count": 11,
   "metadata": {},
   "outputs": [
    {
     "name": "stdout",
     "output_type": "stream",
     "text": [
      "The IS R-squared of Lasso is: 0.7545180291370721\n",
      "The OS R-squared of Lasso is: 0.41632294784987245\n"
     ]
    },
    {
     "data": {
      "text/plain": [
       "array([0.        , 0.        , 0.        , 0.80668997, 0.        ,\n",
       "       0.        , 0.        , 0.        , 0.        , 0.        ,\n",
       "       1.02567708, 0.81067886, 0.        , 0.        , 0.        ])"
      ]
     },
     "execution_count": 11,
     "metadata": {},
     "output_type": "execute_result"
    }
   ],
   "source": [
    "#try Lasso with an another arbitrary regularization parameter alpha=0.01 (if we try alpha=1 this turns out to be too much regularization already)\n",
    "Lasso=linear_model.Lasso(fit_intercept=True, alpha=0.1)\n",
    "\n",
    "Lasso.fit(dataTrain.iloc[:,1:],dataTrain.Y)\n",
    "# In sample:\n",
    "YPred_IS=Lasso.predict(dataTrain.iloc[:,1:])\n",
    "print(\"The IS R-squared of Lasso is: {0}\".format(r2_score(dataTrain.Y,YPred_IS)))\n",
    "#Out of sample\n",
    "YPred_OS=Lasso.predict(dataTest.iloc[:,1:])\n",
    "print(\"The OS R-squared of Lasso is: {0}\".format(r2_score(dataTest.Y,YPred_OS)))\n",
    "Lasso.coef_"
   ]
  },
  {
   "cell_type": "code",
   "execution_count": null,
   "metadata": {},
   "outputs": [],
   "source": []
  },
  {
   "cell_type": "code",
   "execution_count": 12,
   "metadata": {},
   "outputs": [],
   "source": [
    "#Find the Alpha and report best test performance for Ridge/Lasso.\n",
    "def Regularization_fit_alpha(model,X_train,y_train,X_valid,y_valid,alphas,Graph=False, logl=False):\n",
    "    #model = 1-Ridge, 2-Lasso\n",
    "    #aplhas: a list of aplha values to try\n",
    "    #Graph: plot the graph of R^2 values for different alpha\n",
    "\n",
    "    R_2_OS=[] #out of sample R2's\n",
    "    \n",
    "    #initialize the model to use for each given alpha\n",
    "    if model==1:\n",
    "        RM = lambda a: linear_model.Ridge(fit_intercept=True, alpha=a)\n",
    "        model_label='Ridge'\n",
    "    else:\n",
    "        RM = lambda a: linear_model.Lasso(fit_intercept=True, alpha=a)\n",
    "        model_label='Lasso'\n",
    "    \n",
    "    best_R2 = -1\n",
    "    best_alpha = alphas[0]\n",
    "    best_coefs = []\n",
    "    \n",
    "    for a in alphas: #for all alphas to try\n",
    "        lm = RM(a) #assign the model\n",
    "        lm.fit(X_train,y_train)  #fit the regularization model\n",
    "        y_predict=lm.predict(X_valid) #compute the prediction for the validation sample \n",
    "        R_2_OS_=r2_score(y_valid,y_predict)\n",
    "        R_2_OS.append(R_2_OS_)\n",
    "        if R_2_OS_ > best_R2: #if current OS R2 is the best - update the best solution\n",
    "            best_R2 = R_2_OS_\n",
    "            best_alpha = a\n",
    "            best_coefs = lm.coef_\n",
    "    \n",
    "    if Graph==True: #visualization of the performance depending on alpha\n",
    "        plt.title('OS-R-squared for different Alpha')\n",
    "        if logl: #log-scale\n",
    "            plt.xlabel('ln(Alpha)')\n",
    "            l=np.log(alphas)\n",
    "            bl=np.log(best_alpha)\n",
    "        else:\n",
    "            plt.xlabel('Alpha')\n",
    "            l=alphas\n",
    "            bl=best_alpha\n",
    "#         plt.ylim((-0.1,1))\n",
    "        plt.plot(l,R_2_OS,'b',label=model_label)\n",
    "        plt.legend(loc='upper right')\n",
    "        plt.ylabel('R-squared')\n",
    "        plt.axvline(bl,color='r',linestyle='--')\n",
    "\n",
    "        plt.show()\n",
    "    \n",
    "    return [best_alpha,best_R2,best_coefs]"
   ]
  },
  {
   "cell_type": "code",
   "execution_count": 13,
   "metadata": {},
   "outputs": [
    {
     "data": {
      "image/png": "[encoded data removed]",
      "text/plain": [
       "<Figure size 432x288 with 1 Axes>"
      ]
     },
     "metadata": {
      "needs_background": "light"
     },
     "output_type": "display_data"
    },
    {
     "name": "stdout",
     "output_type": "stream",
     "text": [
      "Optimal alpha for Ridge=33.16019248594952, best OS R_2=0.4081703394189097\n"
     ]
    }
   ],
   "source": [
    "alphas = np.exp(np.linspace(-5,10,10000)) #exponential range of possible alphas\n",
    "[alpha_optimal, best_R2, best_coefs]=Regularization_fit_alpha(1,dataTrain.iloc[:,1:],dataTrain.Y,dataValid.iloc[:,1:],dataValid.Y,alphas,Graph=True,logl=True)\n",
    "print('Optimal alpha for Ridge={0}, best OS R_2={1}'.format(alpha_optimal,best_R2))"
   ]
  },
  {
   "cell_type": "code",
   "execution_count": 14,
   "metadata": {},
   "outputs": [
    {
     "data": {
      "image/png": "[encoded data removed]",
      "text/plain": [
       "<Figure size 432x288 with 1 Axes>"
      ]
     },
     "metadata": {
      "needs_background": "light"
     },
     "output_type": "display_data"
    },
    {
     "name": "stdout",
     "output_type": "stream",
     "text": [
      "Optimal alpha for Lasso=0.21878801954843707, best OS R_2=0.40797693181670114\n"
     ]
    }
   ],
   "source": [
    "alphas = np.exp(np.linspace(-5,10,10000)) #exponential range of possible alphas\n",
    "[alpha_optimal, best_R2, best_coefs]=Regularization_fit_alpha(2,dataTrain.iloc[:,1:],dataTrain.Y,dataValid.iloc[:,1:],dataValid.Y,alphas,Graph=True,logl=True)\n",
    "print('Optimal alpha for Lasso={0}, best OS R_2={1}'.format(alpha_optimal,best_R2))"
   ]
  },
  {
   "cell_type": "code",
   "execution_count": 15,
   "metadata": {},
   "outputs": [],
   "source": [
    "#now consider the test sample performanc of the best Lasso model and its coefficients"
   ]
  },
  {
   "cell_type": "code",
   "execution_count": 16,
   "metadata": {},
   "outputs": [
    {
     "name": "stdout",
     "output_type": "stream",
     "text": [
      "The IS R-squared of Lasso is: 0.6798581736149645\n",
      "The OS R-squared of Lasso is: 0.4519368356541291\n"
     ]
    },
    {
     "data": {
      "text/plain": [
       "array([0.        , 0.        , 0.        , 0.41519791, 0.        ,\n",
       "       0.        , 0.        , 0.        , 0.        , 0.        ,\n",
       "       0.72985833, 0.68059909, 0.19852351, 0.        , 0.        ])"
      ]
     },
     "execution_count": 16,
     "metadata": {},
     "output_type": "execute_result"
    }
   ],
   "source": [
    "Lasso=linear_model.Lasso(fit_intercept=True, alpha=alpha_optimal)\n",
    "\n",
    "Lasso.fit(dataTrain.iloc[:,1:],dataTrain.Y)\n",
    "# In sample:\n",
    "YPred_IS=Lasso.predict(dataTrain.iloc[:,1:])\n",
    "print(\"The IS R-squared of Lasso is: {0}\".format(r2_score(dataTrain.Y,YPred_IS)))\n",
    "#Out of sample\n",
    "YPred_OS=Lasso.predict(dataTest.iloc[:,1:])\n",
    "print(\"The OS R-squared of Lasso is: {0}\".format(r2_score(dataTest.Y,YPred_OS)))\n",
    "Lasso.coef_"
   ]
  },
  {
   "cell_type": "markdown",
   "metadata": {
    "collapsed": true
   },
   "source": [
    "## Homework\n",
    "Recall the polynomial regression from previous class and try lasso for degree selection.\n",
    "\n",
    "First recreate the data"
   ]
  },
  {
   "cell_type": "code",
   "execution_count": 17,
   "metadata": {},
   "outputs": [
    {
     "data": {
      "text/html": [
       "<div>\n",
       "<style scoped>\n",
       "    .dataframe tbody tr th:only-of-type {\n",
       "        vertical-align: middle;\n",
       "    }\n",
       "\n",
       "    .dataframe tbody tr th {\n",
       "        vertical-align: top;\n",
       "    }\n",
       "\n",
       "    .dataframe thead th {\n",
       "        text-align: right;\n",
       "    }\n",
       "</style>\n",
       "<table border=\"1\" class=\"dataframe\">\n",
       "  <thead>\n",
       "    <tr style=\"text-align: right;\">\n",
       "      <th></th>\n",
       "      <th>x</th>\n",
       "      <th>y</th>\n",
       "    </tr>\n",
       "  </thead>\n",
       "  <tbody>\n",
       "    <tr>\n",
       "      <th>0</th>\n",
       "      <td>-10.0</td>\n",
       "      <td>62.503031</td>\n",
       "    </tr>\n",
       "    <tr>\n",
       "      <th>1</th>\n",
       "      <td>-9.5</td>\n",
       "      <td>51.410761</td>\n",
       "    </tr>\n",
       "    <tr>\n",
       "      <th>2</th>\n",
       "      <td>-9.0</td>\n",
       "      <td>44.605198</td>\n",
       "    </tr>\n",
       "    <tr>\n",
       "      <th>3</th>\n",
       "      <td>-8.5</td>\n",
       "      <td>24.739247</td>\n",
       "    </tr>\n",
       "    <tr>\n",
       "      <th>4</th>\n",
       "      <td>-8.0</td>\n",
       "      <td>22.200164</td>\n",
       "    </tr>\n",
       "  </tbody>\n",
       "</table>\n",
       "</div>"
      ],
      "text/plain": [
       "      x          y\n",
       "0 -10.0  62.503031\n",
       "1  -9.5  51.410761\n",
       "2  -9.0  44.605198\n",
       "3  -8.5  24.739247\n",
       "4  -8.0  22.200164"
      ]
     },
     "execution_count": 17,
     "metadata": {},
     "output_type": "execute_result"
    }
   ],
   "source": [
    "#generate data and put it in the dataframe\n",
    "np.random.seed(2018)\n",
    "x=np.arange(-10,20,0.5)\n",
    "y=x**4/100+x**3/20+x**2/3+2*x+np.random.normal(loc=0,scale=3,size=60)\n",
    "data2=pd.DataFrame({'x':x,'y':y}) #create a dataframe\n",
    "#slice the data in three pieces (we'll talk about those later)\n",
    "data2.head() #for now let's stick with this first one"
   ]
  },
  {
   "cell_type": "code",
   "execution_count": 18,
   "metadata": {},
   "outputs": [],
   "source": [
    "data2 = data2.reindex(['y','x'], axis=1)"
   ]
  },
  {
   "cell_type": "code",
   "execution_count": 19,
   "metadata": {},
   "outputs": [
    {
     "data": {
      "text/html": [
       "<div>\n",
       "<style scoped>\n",
       "    .dataframe tbody tr th:only-of-type {\n",
       "        vertical-align: middle;\n",
       "    }\n",
       "\n",
       "    .dataframe tbody tr th {\n",
       "        vertical-align: top;\n",
       "    }\n",
       "\n",
       "    .dataframe thead th {\n",
       "        text-align: right;\n",
       "    }\n",
       "</style>\n",
       "<table border=\"1\" class=\"dataframe\">\n",
       "  <thead>\n",
       "    <tr style=\"text-align: right;\">\n",
       "      <th></th>\n",
       "      <th>y</th>\n",
       "      <th>x</th>\n",
       "      <th>x2</th>\n",
       "      <th>x3</th>\n",
       "      <th>x4</th>\n",
       "      <th>x5</th>\n",
       "      <th>x6</th>\n",
       "      <th>x7</th>\n",
       "      <th>x8</th>\n",
       "      <th>x9</th>\n",
       "      <th>x10</th>\n",
       "    </tr>\n",
       "  </thead>\n",
       "  <tbody>\n",
       "    <tr>\n",
       "      <th>0</th>\n",
       "      <td>62.503031</td>\n",
       "      <td>-10.0</td>\n",
       "      <td>100.00</td>\n",
       "      <td>-1000.000</td>\n",
       "      <td>10000.0000</td>\n",
       "      <td>-100000.00000</td>\n",
       "      <td>1000000.000000</td>\n",
       "      <td>-1.000000e+07</td>\n",
       "      <td>1.000000e+08</td>\n",
       "      <td>-1.000000e+09</td>\n",
       "      <td>1.000000e+10</td>\n",
       "    </tr>\n",
       "    <tr>\n",
       "      <th>1</th>\n",
       "      <td>51.410761</td>\n",
       "      <td>-9.5</td>\n",
       "      <td>90.25</td>\n",
       "      <td>-857.375</td>\n",
       "      <td>8145.0625</td>\n",
       "      <td>-77378.09375</td>\n",
       "      <td>735091.890625</td>\n",
       "      <td>-6.983373e+06</td>\n",
       "      <td>6.634204e+07</td>\n",
       "      <td>-6.302494e+08</td>\n",
       "      <td>5.987369e+09</td>\n",
       "    </tr>\n",
       "    <tr>\n",
       "      <th>2</th>\n",
       "      <td>44.605198</td>\n",
       "      <td>-9.0</td>\n",
       "      <td>81.00</td>\n",
       "      <td>-729.000</td>\n",
       "      <td>6561.0000</td>\n",
       "      <td>-59049.00000</td>\n",
       "      <td>531441.000000</td>\n",
       "      <td>-4.782969e+06</td>\n",
       "      <td>4.304672e+07</td>\n",
       "      <td>-3.874205e+08</td>\n",
       "      <td>3.486784e+09</td>\n",
       "    </tr>\n",
       "    <tr>\n",
       "      <th>3</th>\n",
       "      <td>24.739247</td>\n",
       "      <td>-8.5</td>\n",
       "      <td>72.25</td>\n",
       "      <td>-614.125</td>\n",
       "      <td>5220.0625</td>\n",
       "      <td>-44370.53125</td>\n",
       "      <td>377149.515625</td>\n",
       "      <td>-3.205771e+06</td>\n",
       "      <td>2.724905e+07</td>\n",
       "      <td>-2.316169e+08</td>\n",
       "      <td>1.968744e+09</td>\n",
       "    </tr>\n",
       "    <tr>\n",
       "      <th>4</th>\n",
       "      <td>22.200164</td>\n",
       "      <td>-8.0</td>\n",
       "      <td>64.00</td>\n",
       "      <td>-512.000</td>\n",
       "      <td>4096.0000</td>\n",
       "      <td>-32768.00000</td>\n",
       "      <td>262144.000000</td>\n",
       "      <td>-2.097152e+06</td>\n",
       "      <td>1.677722e+07</td>\n",
       "      <td>-1.342177e+08</td>\n",
       "      <td>1.073742e+09</td>\n",
       "    </tr>\n",
       "  </tbody>\n",
       "</table>\n",
       "</div>"
      ],
      "text/plain": [
       "           y     x      x2        x3          x4            x5  \\\n",
       "0  62.503031 -10.0  100.00 -1000.000  10000.0000 -100000.00000   \n",
       "1  51.410761  -9.5   90.25  -857.375   8145.0625  -77378.09375   \n",
       "2  44.605198  -9.0   81.00  -729.000   6561.0000  -59049.00000   \n",
       "3  24.739247  -8.5   72.25  -614.125   5220.0625  -44370.53125   \n",
       "4  22.200164  -8.0   64.00  -512.000   4096.0000  -32768.00000   \n",
       "\n",
       "               x6            x7            x8            x9           x10  \n",
       "0  1000000.000000 -1.000000e+07  1.000000e+08 -1.000000e+09  1.000000e+10  \n",
       "1   735091.890625 -6.983373e+06  6.634204e+07 -6.302494e+08  5.987369e+09  \n",
       "2   531441.000000 -4.782969e+06  4.304672e+07 -3.874205e+08  3.486784e+09  \n",
       "3   377149.515625 -3.205771e+06  2.724905e+07 -2.316169e+08  1.968744e+09  \n",
       "4   262144.000000 -2.097152e+06  1.677722e+07 -1.342177e+08  1.073742e+09  "
      ]
     },
     "execution_count": 19,
     "metadata": {},
     "output_type": "execute_result"
    }
   ],
   "source": [
    "M=10\n",
    "for p in range(2,M+1): #add more powers of x up to 10'th\n",
    "    data2['x%d'%p]=data2.x**p\n",
    "data2.head()"
   ]
  },
  {
   "cell_type": "code",
   "execution_count": 20,
   "metadata": {},
   "outputs": [],
   "source": [
    "data2_Valid=data2.loc[40:49]\n",
    "data2_Test=data2.loc[50:59]\n",
    "data2_Train=data2.loc[0:39] "
   ]
  },
  {
   "cell_type": "code",
   "execution_count": 21,
   "metadata": {},
   "outputs": [],
   "source": [
    "import warnings\n",
    "warnings.filterwarnings('ignore')"
   ]
  },
  {
   "cell_type": "markdown",
   "metadata": {},
   "source": [
    "### Q1 First try the model with a single alpha = 1. Assess the model performance over the test set\n"
   ]
  },
  {
   "cell_type": "code",
   "execution_count": 22,
   "metadata": {},
   "outputs": [
    {
     "data": {
      "text/plain": [
       "Lasso(alpha=1)"
      ]
     },
     "execution_count": 22,
     "metadata": {},
     "output_type": "execute_result"
    }
   ],
   "source": [
    "#try Lasso with an arbitrary regularization parameter alpha=1\n",
    "lasso_reg=linear_model.Lasso(fit_intercept=True, alpha=1)\n",
    "lasso_reg.fit(data2_Train.iloc[:,1:],data2_Train.y)"
   ]
  },
  {
   "cell_type": "code",
   "execution_count": 23,
   "metadata": {},
   "outputs": [
    {
     "name": "stdout",
     "output_type": "stream",
     "text": [
      "Coefficients:  [ 6.97293571e-01  2.30833130e-01  1.15134618e-01  1.41566493e-02\n",
      " -7.81092088e-04 -3.53972802e-05 -1.66062325e-06 -1.02666363e-07\n",
      "  4.58537092e-08  1.75565210e-09]\n",
      "The IS R-squared of Lasso on Train set is: 0.9967458686352152\n"
     ]
    }
   ],
   "source": [
    "print(\"Coefficients: \", lasso_reg.coef_)\n",
    "YPred_IS=lasso_reg.predict(data2_Train.iloc[:,1:])\n",
    "print(\"The IS R-squared of Lasso on Train set is: {0}\".format(r2_score(data2_Train.y,YPred_IS)))"
   ]
  },
  {
   "cell_type": "code",
   "execution_count": 24,
   "metadata": {},
   "outputs": [
    {
     "name": "stdout",
     "output_type": "stream",
     "text": [
      "The IS R-squared of Lasso on Test set is: -1042.99546954938\n"
     ]
    }
   ],
   "source": [
    "YPred_IS=lasso_reg.predict(data2_Test.iloc[:,1:])\n",
    "print(\"The IS R-squared of Lasso on Test set is: {0}\".format(r2_score(data2_Test.y,YPred_IS)))"
   ]
  },
  {
   "cell_type": "markdown",
   "metadata": {},
   "source": [
    "### Q2 Next perform hyperparameter selection over the validation set. Assess the resulting model.\n",
    "Find the best alpha from np.linspace(-10,10,200) maximizing the validation R2. Assess the performance of the model with the best alpha over the test set "
   ]
  },
  {
   "cell_type": "code",
   "execution_count": 25,
   "metadata": {},
   "outputs": [
    {
     "data": {
      "image/png": "[encoded data removed]",
      "text/plain": [
       "<Figure size 432x288 with 1 Axes>"
      ]
     },
     "metadata": {
      "needs_background": "light"
     },
     "output_type": "display_data"
    },
    {
     "name": "stdout",
     "output_type": "stream",
     "text": [
      "Optimal alpha for Lasso=-0.5527638190954764, best OS R_2=0.9977581867691098\n"
     ]
    }
   ],
   "source": [
    "#changed the scale of graph to visualize it better\n",
    "alphas = np.linspace(-10,10,200) #exponential range of possible alphas\n",
    "[alpha_optimal, best_R2, best_coefs]=Regularization_fit_alpha(2,data2_Train.iloc[:,1:],data2_Train.y,data2_Valid.iloc[:,1:],data2_Valid.y,alphas,Graph=True,logl=False)\n",
    "print('Optimal alpha for Lasso={0}, best OS R_2={1}'.format(alpha_optimal,best_R2))"
   ]
  },
  {
   "cell_type": "markdown",
   "metadata": {},
   "source": [
    "As the limit is (-10,10), the optimal alpha in this range is -0.55."
   ]
  },
  {
   "cell_type": "code",
   "execution_count": 26,
   "metadata": {},
   "outputs": [
    {
     "name": "stdout",
     "output_type": "stream",
     "text": [
      "The R-squared of Lasso on Test set is: 0.022875370131242745\n"
     ]
    }
   ],
   "source": [
    "lasso_reg = linear_model.Lasso(fit_intercept=True, alpha=alpha_optimal)\n",
    "lasso_reg.fit(data2_Train.iloc[:,1:],data2_Train.y)\n",
    "\n",
    "YPred_IS=lasso_reg.predict(data2_Test.iloc[:,1:])\n",
    "print(\"The R-squared of Lasso on Test set is: {0}\".format(r2_score(data2_Test.y,YPred_IS)))"
   ]
  },
  {
   "cell_type": "code",
   "execution_count": 27,
   "metadata": {},
   "outputs": [
    {
     "name": "stdout",
     "output_type": "stream",
     "text": [
      "For degree M = 1, Optimal alpha for Lasso=-10.0, best OS R_2=-1\n",
      "For degree M = 2, Optimal alpha for Lasso=-10.0, best OS R_2=-0.7673732112555129\n",
      "For degree M = 3, Optimal alpha for Lasso=10.0, best OS R_2=0.380092137640363\n",
      "For degree M = 4, Optimal alpha for Lasso=-1.356783919597989, best OS R_2=0.9996110329498439\n",
      "For degree M = 5, Optimal alpha for Lasso=-0.1507537688442202, best OS R_2=0.9993453627670689\n",
      "For degree M = 6, Optimal alpha for Lasso=-0.6532663316582905, best OS R_2=0.9992504616299355\n",
      "For degree M = 7, Optimal alpha for Lasso=-1.1557788944723608, best OS R_2=0.9927973142873989\n",
      "For degree M = 8, Optimal alpha for Lasso=0.7537688442211063, best OS R_2=0.9994071111888108\n",
      "For degree M = 9, Optimal alpha for Lasso=-0.7537688442211046, best OS R_2=0.9994719774724355\n",
      "For degree M = 10, Optimal alpha for Lasso=-0.5527638190954764, best OS R_2=0.9977581867691098\n"
     ]
    }
   ],
   "source": [
    "## Hyperparameter selection over alpha and polynomial degree (M)\n",
    "for m in range(2,M+2):\n",
    "    [alpha_optimal, best_R2, best_coefs]=Regularization_fit_alpha(2,data2_Train.iloc[:,1:m],data2_Train.y,data2_Valid.iloc[:,1:m],data2_Valid.y,alphas,Graph=False,logl=False)\n",
    "    print('For degree M = {0}, Optimal alpha for Lasso={1}, best OS R_2={2}'.format(m-1, alpha_optimal,best_R2))"
   ]
  },
  {
   "cell_type": "markdown",
   "metadata": {},
   "source": [
    "Best validation set R2 score = 0.9996110329498439 obtained for M = 4 and optimal alpha = -1.356783919597989. <br>\n",
    "\n",
    "Lets try using these parameters to obtain performance on test set"
   ]
  },
  {
   "cell_type": "code",
   "execution_count": 28,
   "metadata": {},
   "outputs": [
    {
     "name": "stdout",
     "output_type": "stream",
     "text": [
      "The R-squared of Lasso on Test set is: 0.9995022384035674\n"
     ]
    }
   ],
   "source": [
    "lasso_reg = linear_model.Lasso(fit_intercept=True, alpha=-1.356783919597989)\n",
    "lasso_reg.fit(data2_Train.iloc[:,1:5],data2_Train.y)\n",
    "\n",
    "YPred_IS=lasso_reg.predict(data2_Test.iloc[:,1:5])\n",
    "print(\"The R-squared of Lasso on Test set is: {0}\".format(r2_score(data2_Test.y,YPred_IS)))"
   ]
  },
  {
   "cell_type": "code",
   "execution_count": 29,
   "metadata": {},
   "outputs": [
    {
     "name": "stdout",
     "output_type": "stream",
     "text": [
      "Coefficients of Lasso model:  [2.05117838 0.37839895 0.04945976 0.00979779]\n"
     ]
    }
   ],
   "source": [
    "print(\"Coefficients of Lasso model: \", lasso_reg.coef_)"
   ]
  },
  {
   "cell_type": "markdown",
   "metadata": {},
   "source": [
    "### Q3 Standardize the data"
   ]
  },
  {
   "cell_type": "markdown",
   "metadata": {},
   "source": [
    "If you noticed the problem with the models above this could be related to the scale of the data.\n",
    "Regularization applies the same magnitude criteria to all the coefficients. While in case of a polynomial regression, regressors (powers of x) have totally different scale and so do the coefficients. \n",
    "\n",
    "So in order to perform a fair normalization we need to bring regressors on the same scale (normalize) first before applying regularization. \n",
    "\n",
    "So in this task **standardize the data** subtracting the sample mean and dividing by the standard deviation.\n",
    "\n",
    "Important note: standardization involves learning the parameters - mean and standard deviation from the data. As we're only supposed to learn from the training data but never from validation or test samples the mean and standard deviation for the standardization need to be learned from the training data set; and then the standardizing transformation will be applied to validation and test sets as well using the same parameters. This way the resulting validation and test samples won't get exactly standardized, but the transform (which is part of the model) will use only the parameters learned from the training data "
   ]
  },
  {
   "cell_type": "code",
   "execution_count": 30,
   "metadata": {},
   "outputs": [],
   "source": [
    "train_mean = data2_Train.mean().to_dict()\n",
    "train_std = data2_Train.std().to_dict()"
   ]
  },
  {
   "cell_type": "code",
   "execution_count": 31,
   "metadata": {},
   "outputs": [],
   "source": [
    "for col in data2_Train.columns:\n",
    "    data2_Train[col] = (data2_Train[col] - train_mean[col])/train_std[col]\n",
    "    data2_Valid[col] = (data2_Valid[col] - train_mean[col])/train_std[col]\n",
    "    data2_Test[col] = (data2_Test[col] - train_mean[col])/train_std[col]"
   ]
  },
  {
   "cell_type": "markdown",
   "metadata": {},
   "source": [
    "Standardized the data with meand and standard deviation value."
   ]
  },
  {
   "cell_type": "markdown",
   "metadata": {},
   "source": [
    "### Q4. Next perform hyperparameter selection over the validation set using the standardized data. Assess the resulting model\n",
    "Find the best alpha from np.linspace(-10,10,200) maximizing the validation R2 over the standardized data. Assess the performance of the model with the best alpha over the test set. Report the resulting coefficients. What is the degree of the resulting polynomial model and is it consistent with the original model used to generate the data above?\n",
    "\n",
    "Note: the model's coefficient's apply to standardized data and this way may not be consistent with the original model. To bring the model on the original scale one may need to apply an inverse transform involving the standardization parameters, learned over the training data (not required in the task)"
   ]
  },
  {
   "cell_type": "code",
   "execution_count": 32,
   "metadata": {},
   "outputs": [
    {
     "name": "stdout",
     "output_type": "stream",
     "text": [
      "For degree M = 1, Optimal alpha for Lasso=-3.567839195979899, best OS R_2=0.48435698142509676\n",
      "For degree M = 2, Optimal alpha for Lasso=-0.6532663316582905, best OS R_2=0.8285690327372655\n",
      "For degree M = 3, Optimal alpha for Lasso=-0.1507537688442202, best OS R_2=0.6861046965979368\n",
      "For degree M = 4, Optimal alpha for Lasso=0.05025125628140792, best OS R_2=0.9576107847448913\n",
      "For degree M = 5, Optimal alpha for Lasso=0.05025125628140792, best OS R_2=0.9575922626065925\n",
      "For degree M = 6, Optimal alpha for Lasso=0.05025125628140792, best OS R_2=0.9575924486821721\n",
      "For degree M = 7, Optimal alpha for Lasso=0.05025125628140792, best OS R_2=0.9575912895634199\n",
      "For degree M = 8, Optimal alpha for Lasso=0.05025125628140792, best OS R_2=0.9576046802248785\n",
      "For degree M = 9, Optimal alpha for Lasso=0.05025125628140792, best OS R_2=0.9576046802248785\n",
      "For degree M = 10, Optimal alpha for Lasso=0.05025125628140792, best OS R_2=0.9576053127051125\n"
     ]
    }
   ],
   "source": [
    "alphas = np.linspace(-10,10,200)\n",
    "for m in range(2,M+2):\n",
    "    [alpha_optimal, best_R2, best_coefs]=Regularization_fit_alpha(2,data2_Train.iloc[:,1:m],data2_Train.y,data2_Valid.iloc[:,1:m],data2_Valid.y,alphas,Graph=False,logl=False)\n",
    "    print('For degree M = {0}, Optimal alpha for Lasso={1}, best OS R_2={2}'.format(m-1, alpha_optimal,best_R2))"
   ]
  },
  {
   "cell_type": "code",
   "execution_count": 33,
   "metadata": {},
   "outputs": [
    {
     "name": "stdout",
     "output_type": "stream",
     "text": [
      "The R-squared of Lasso on Test set is: 0.9148774540758725\n"
     ]
    }
   ],
   "source": [
    "optimal_alpha = 0.05025125628140792\n",
    "optimal_degree = 4\n",
    "lasso_reg = linear_model.Lasso(fit_intercept=True, alpha=optimal_alpha)\n",
    "lasso_reg.fit(data2_Train.iloc[:,1:optimal_degree+1],data2_Train.y)\n",
    "\n",
    "YPred_IS=lasso_reg.predict(data2_Test.iloc[:,1:optimal_degree+1])\n",
    "print(\"The R-squared of Lasso on Test set is: {0}\".format(r2_score(data2_Test.y,YPred_IS)))"
   ]
  },
  {
   "cell_type": "code",
   "execution_count": 34,
   "metadata": {},
   "outputs": [
    {
     "name": "stdout",
     "output_type": "stream",
     "text": [
      "Coefficients of Lasso model:  [0.22871192 0.24526289 0.40048055 0.55013807]\n"
     ]
    }
   ],
   "source": [
    "print(\"Coefficients of Lasso model: \", lasso_reg.coef_)"
   ]
  },
  {
   "cell_type": "markdown",
   "metadata": {},
   "source": [
    "***Q - Report the resulting coefficients. What is the degree of the resulting polynomial model and is it consistent with the original model used to generate the data above?***\n",
    "\n",
    "**Ans** - \n",
    "\n",
    "Resulting coeffcients = [0.22871192, 0.24526289, 0.40048055, 0.55013807]\n",
    "R-squared score on test set = 0.914877454075871\n",
    "\n",
    "Degree of resulting polynomial model is 4, which is consistent with the original model we used to generate the data above "
   ]
  },
  {
   "cell_type": "code",
   "execution_count": null,
   "metadata": {},
   "outputs": [],
   "source": []
  }
 ],
 "metadata": {
  "anaconda-cloud": {},
  "kernelspec": {
   "display_name": "Python [conda env:PUI]",
   "language": "python",
   "name": "conda-env-PUI-py"
  },
  "language_info": {
   "codemirror_mode": {
    "name": "ipython",
    "version": 3
   },
   "file_extension": ".py",
   "mimetype": "text/x-python",
   "name": "python",
   "nbconvert_exporter": "python",
   "pygments_lexer": "ipython3",
   "version": "3.8.10"
  }
 },
 "nbformat": 4,
 "nbformat_minor": 1
}
